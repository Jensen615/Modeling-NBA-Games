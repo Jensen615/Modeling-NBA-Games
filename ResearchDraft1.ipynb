{
  "nbformat": 4,
  "nbformat_minor": 0,
  "metadata": {
    "colab": {
      "name": "ResearchDraft1.ipynb",
      "provenance": [],
      "collapsed_sections": []
    },
    "kernelspec": {
      "name": "python3",
      "display_name": "Python 3"
    }
  },
  "cells": [
    {
      "cell_type": "markdown",
      "metadata": {
        "id": "mpHEVLTptGvv",
        "colab_type": "text"
      },
      "source": [
        "# NBA Data Analysis\n",
        "\n",
        "\n",
        "\n",
        "\n",
        "\n",
        "\n",
        "\n",
        "\n",
        "\n",
        "\n",
        "\n",
        "\n",
        "\n",
        "\n"
      ]
    },
    {
      "cell_type": "markdown",
      "metadata": {
        "id": "ZluPeXrANeXF",
        "colab_type": "text"
      },
      "source": [
        "## 1. Mount Google Drive into notebook\n",
        "\n"
      ]
    },
    {
      "cell_type": "code",
      "metadata": {
        "id": "Mp1aaJlfLDLg",
        "colab_type": "code",
        "colab": {
          "base_uri": "https://localhost:8080/",
          "height": 34
        },
        "outputId": "fbba6575-21df-40dd-a38d-23789c2dd5e6"
      },
      "source": [
        "from google.colab import drive\n",
        "drive.mount('/content/drive')"
      ],
      "execution_count": null,
      "outputs": [
        {
          "output_type": "stream",
          "text": [
            "Drive already mounted at /content/drive; to attempt to forcibly remount, call drive.mount(\"/content/drive\", force_remount=True).\n"
          ],
          "name": "stdout"
        }
      ]
    },
    {
      "cell_type": "markdown",
      "metadata": {
        "id": "CZU_1RZZNlsa",
        "colab_type": "text"
      },
      "source": [
        "## 2. List files from Reseach folder\n"
      ]
    },
    {
      "cell_type": "code",
      "metadata": {
        "id": "FOE5B3FuMX7n",
        "colab_type": "code",
        "colab": {
          "base_uri": "https://localhost:8080/",
          "height": 136
        },
        "outputId": "8e4c06fc-57fb-49d3-b6d1-fa16ccd2b158"
      },
      "source": [
        "%ls \"/content/drive/My Drive/Colab Notebooks/Research Data\" "
      ],
      "execution_count": null,
      "outputs": [
        {
          "output_type": "stream",
          "text": [
            "'g1 DEN Nuggets Data.gsheet'  'LD2 Data.csv'\n",
            "'g1 LA Clippers Data.gsheet'  'LD3 Data.csv'\n",
            "'Int. Times, LD1 Data.csv'    'LD4 Data.csv'\n",
            "'Int. Times, LD2 Data.csv'     NBA-PBP-2018-2019.csv\n",
            "'Int. Times, LD3 Data.csv'    'TOR 23s Data.csv'\n",
            "'Int. Times, LD4 Data.csv'    'TOR 23s Data.gsheet'\n",
            "'LD1 Data.csv'\n"
          ],
          "name": "stdout"
        }
      ]
    },
    {
      "cell_type": "code",
      "metadata": {
        "id": "UuTUYQQ6NrOv",
        "colab_type": "code",
        "colab": {}
      },
      "source": [
        "import pandas as pd\n",
        "import numpy as np\n",
        "import matplotlib.pyplot as plt\n"
      ],
      "execution_count": null,
      "outputs": []
    },
    {
      "cell_type": "markdown",
      "metadata": {
        "id": "d--QZBzis8iu",
        "colab_type": "text"
      },
      "source": [
        "## 3. Let's dive into Data Analysis"
      ]
    },
    {
      "cell_type": "code",
      "metadata": {
        "id": "P9PZA-1XM4Wx",
        "colab_type": "code",
        "colab": {
          "base_uri": "https://localhost:8080/",
          "height": 1000
        },
        "outputId": "d5928015-7a30-4aa9-f004-65218015f75a"
      },
      "source": [
        "# Read in my data \n",
        "nba = pd.read_csv(\"/content/drive/My Drive/Colab Notebooks/Research Data/NBA-PBP-2018-2019.csv\")\n",
        "\n",
        "# Take a quick peek at data\n",
        "nba.tail(30)\n",
        "\n",
        "# Specificlly, take a quick side-by-side comparison of 'ShotType' and 'ShotOutcome'\n",
        "\n",
        "# nba[['ShotType', 'ShotOutcome']].head(10) Alt. way\n",
        "# nba.loc[:, ['ShotType', 'ShotOutcome']].head(10)"
      ],
      "execution_count": null,
      "outputs": [
        {
          "output_type": "execute_result",
          "data": {
            "text/html": [
              "<div>\n",
              "<style scoped>\n",
              "    .dataframe tbody tr th:only-of-type {\n",
              "        vertical-align: middle;\n",
              "    }\n",
              "\n",
              "    .dataframe tbody tr th {\n",
              "        vertical-align: top;\n",
              "    }\n",
              "\n",
              "    .dataframe thead th {\n",
              "        text-align: right;\n",
              "    }\n",
              "</style>\n",
              "<table border=\"1\" class=\"dataframe\">\n",
              "  <thead>\n",
              "    <tr style=\"text-align: right;\">\n",
              "      <th></th>\n",
              "      <th>URL</th>\n",
              "      <th>GameType</th>\n",
              "      <th>Location</th>\n",
              "      <th>Date</th>\n",
              "      <th>Time</th>\n",
              "      <th>WinningTeam</th>\n",
              "      <th>Quarter</th>\n",
              "      <th>SecLeft</th>\n",
              "      <th>AwayTeam</th>\n",
              "      <th>AwayPlay</th>\n",
              "      <th>AwayScore</th>\n",
              "      <th>HomeTeam</th>\n",
              "      <th>HomePlay</th>\n",
              "      <th>HomeScore</th>\n",
              "      <th>Shooter</th>\n",
              "      <th>ShotType</th>\n",
              "      <th>ShotOutcome</th>\n",
              "      <th>ShotDist</th>\n",
              "      <th>Assister</th>\n",
              "      <th>Blocker</th>\n",
              "      <th>FoulType</th>\n",
              "      <th>Fouler</th>\n",
              "      <th>Fouled</th>\n",
              "      <th>Rebounder</th>\n",
              "      <th>ReboundType</th>\n",
              "      <th>ViolationPlayer</th>\n",
              "      <th>ViolationType</th>\n",
              "      <th>TimeoutTeam</th>\n",
              "      <th>FreeThrowShooter</th>\n",
              "      <th>FreeThrowOutcome</th>\n",
              "      <th>FreeThrowNum</th>\n",
              "      <th>EnterGame</th>\n",
              "      <th>LeaveGame</th>\n",
              "      <th>TurnoverPlayer</th>\n",
              "      <th>TurnoverType</th>\n",
              "      <th>TurnoverCause</th>\n",
              "      <th>TurnoverCauser</th>\n",
              "      <th>JumpballAwayPlayer</th>\n",
              "      <th>JumpballHomePlayer</th>\n",
              "      <th>JumpballPoss</th>\n",
              "    </tr>\n",
              "  </thead>\n",
              "  <tbody>\n",
              "    <tr>\n",
              "      <th>613641</th>\n",
              "      <td>/boxscores/201906130GSW.html</td>\n",
              "      <td>playoff</td>\n",
              "      <td>Oracle Arena Oakland California</td>\n",
              "      <td>June 13 2019</td>\n",
              "      <td>9:00 PM</td>\n",
              "      <td>TOR</td>\n",
              "      <td>4</td>\n",
              "      <td>83</td>\n",
              "      <td>TOR</td>\n",
              "      <td>NaN</td>\n",
              "      <td>109</td>\n",
              "      <td>GSW</td>\n",
              "      <td>Offensive rebound by Team</td>\n",
              "      <td>105</td>\n",
              "      <td>NaN</td>\n",
              "      <td>NaN</td>\n",
              "      <td>NaN</td>\n",
              "      <td>NaN</td>\n",
              "      <td>NaN</td>\n",
              "      <td>NaN</td>\n",
              "      <td>NaN</td>\n",
              "      <td>NaN</td>\n",
              "      <td>NaN</td>\n",
              "      <td>Team - GSW</td>\n",
              "      <td>offensive</td>\n",
              "      <td>NaN</td>\n",
              "      <td>NaN</td>\n",
              "      <td>NaN</td>\n",
              "      <td>NaN</td>\n",
              "      <td>NaN</td>\n",
              "      <td>NaN</td>\n",
              "      <td>NaN</td>\n",
              "      <td>NaN</td>\n",
              "      <td>NaN</td>\n",
              "      <td>NaN</td>\n",
              "      <td>NaN</td>\n",
              "      <td>NaN</td>\n",
              "      <td>NaN</td>\n",
              "      <td>NaN</td>\n",
              "      <td>NaN</td>\n",
              "    </tr>\n",
              "    <tr>\n",
              "      <th>613642</th>\n",
              "      <td>/boxscores/201906130GSW.html</td>\n",
              "      <td>playoff</td>\n",
              "      <td>Oracle Arena Oakland California</td>\n",
              "      <td>June 13 2019</td>\n",
              "      <td>9:00 PM</td>\n",
              "      <td>TOR</td>\n",
              "      <td>4</td>\n",
              "      <td>83</td>\n",
              "      <td>TOR</td>\n",
              "      <td>NaN</td>\n",
              "      <td>109</td>\n",
              "      <td>GSW</td>\n",
              "      <td>D. Cousins makes free throw 2 of 2</td>\n",
              "      <td>106</td>\n",
              "      <td>NaN</td>\n",
              "      <td>NaN</td>\n",
              "      <td>NaN</td>\n",
              "      <td>NaN</td>\n",
              "      <td>NaN</td>\n",
              "      <td>NaN</td>\n",
              "      <td>NaN</td>\n",
              "      <td>NaN</td>\n",
              "      <td>NaN</td>\n",
              "      <td>NaN</td>\n",
              "      <td>NaN</td>\n",
              "      <td>NaN</td>\n",
              "      <td>NaN</td>\n",
              "      <td>NaN</td>\n",
              "      <td>D. Cousins - GSW</td>\n",
              "      <td>make</td>\n",
              "      <td>2 of 2</td>\n",
              "      <td>NaN</td>\n",
              "      <td>NaN</td>\n",
              "      <td>NaN</td>\n",
              "      <td>NaN</td>\n",
              "      <td>NaN</td>\n",
              "      <td>NaN</td>\n",
              "      <td>NaN</td>\n",
              "      <td>NaN</td>\n",
              "      <td>NaN</td>\n",
              "    </tr>\n",
              "    <tr>\n",
              "      <th>613643</th>\n",
              "      <td>/boxscores/201906130GSW.html</td>\n",
              "      <td>playoff</td>\n",
              "      <td>Oracle Arena Oakland California</td>\n",
              "      <td>June 13 2019</td>\n",
              "      <td>9:00 PM</td>\n",
              "      <td>TOR</td>\n",
              "      <td>4</td>\n",
              "      <td>65</td>\n",
              "      <td>TOR</td>\n",
              "      <td>K. Leonard misses 3-pt jump shot from 26 ft</td>\n",
              "      <td>109</td>\n",
              "      <td>GSW</td>\n",
              "      <td>NaN</td>\n",
              "      <td>106</td>\n",
              "      <td>K. Leonard - TOR</td>\n",
              "      <td>3-pt jump shot</td>\n",
              "      <td>miss</td>\n",
              "      <td>26.0</td>\n",
              "      <td>NaN</td>\n",
              "      <td>NaN</td>\n",
              "      <td>NaN</td>\n",
              "      <td>NaN</td>\n",
              "      <td>NaN</td>\n",
              "      <td>NaN</td>\n",
              "      <td>NaN</td>\n",
              "      <td>NaN</td>\n",
              "      <td>NaN</td>\n",
              "      <td>NaN</td>\n",
              "      <td>NaN</td>\n",
              "      <td>NaN</td>\n",
              "      <td>NaN</td>\n",
              "      <td>NaN</td>\n",
              "      <td>NaN</td>\n",
              "      <td>NaN</td>\n",
              "      <td>NaN</td>\n",
              "      <td>NaN</td>\n",
              "      <td>NaN</td>\n",
              "      <td>NaN</td>\n",
              "      <td>NaN</td>\n",
              "      <td>NaN</td>\n",
              "    </tr>\n",
              "    <tr>\n",
              "      <th>613644</th>\n",
              "      <td>/boxscores/201906130GSW.html</td>\n",
              "      <td>playoff</td>\n",
              "      <td>Oracle Arena Oakland California</td>\n",
              "      <td>June 13 2019</td>\n",
              "      <td>9:00 PM</td>\n",
              "      <td>TOR</td>\n",
              "      <td>4</td>\n",
              "      <td>63</td>\n",
              "      <td>TOR</td>\n",
              "      <td>NaN</td>\n",
              "      <td>109</td>\n",
              "      <td>GSW</td>\n",
              "      <td>Defensive rebound by D. Cousins</td>\n",
              "      <td>106</td>\n",
              "      <td>NaN</td>\n",
              "      <td>NaN</td>\n",
              "      <td>NaN</td>\n",
              "      <td>NaN</td>\n",
              "      <td>NaN</td>\n",
              "      <td>NaN</td>\n",
              "      <td>NaN</td>\n",
              "      <td>NaN</td>\n",
              "      <td>NaN</td>\n",
              "      <td>D. Cousins - GSW</td>\n",
              "      <td>defensive</td>\n",
              "      <td>NaN</td>\n",
              "      <td>NaN</td>\n",
              "      <td>NaN</td>\n",
              "      <td>NaN</td>\n",
              "      <td>NaN</td>\n",
              "      <td>NaN</td>\n",
              "      <td>NaN</td>\n",
              "      <td>NaN</td>\n",
              "      <td>NaN</td>\n",
              "      <td>NaN</td>\n",
              "      <td>NaN</td>\n",
              "      <td>NaN</td>\n",
              "      <td>NaN</td>\n",
              "      <td>NaN</td>\n",
              "      <td>NaN</td>\n",
              "    </tr>\n",
              "    <tr>\n",
              "      <th>613645</th>\n",
              "      <td>/boxscores/201906130GSW.html</td>\n",
              "      <td>playoff</td>\n",
              "      <td>Oracle Arena Oakland California</td>\n",
              "      <td>June 13 2019</td>\n",
              "      <td>9:00 PM</td>\n",
              "      <td>TOR</td>\n",
              "      <td>4</td>\n",
              "      <td>46</td>\n",
              "      <td>TOR</td>\n",
              "      <td>NaN</td>\n",
              "      <td>109</td>\n",
              "      <td>GSW</td>\n",
              "      <td>D. Cousins makes 2-pt layup from 1 ft (assist ...</td>\n",
              "      <td>108</td>\n",
              "      <td>D. Cousins - GSW</td>\n",
              "      <td>2-pt layup</td>\n",
              "      <td>make</td>\n",
              "      <td>1.0</td>\n",
              "      <td>D. Green - GSW</td>\n",
              "      <td>NaN</td>\n",
              "      <td>NaN</td>\n",
              "      <td>NaN</td>\n",
              "      <td>NaN</td>\n",
              "      <td>NaN</td>\n",
              "      <td>NaN</td>\n",
              "      <td>NaN</td>\n",
              "      <td>NaN</td>\n",
              "      <td>NaN</td>\n",
              "      <td>NaN</td>\n",
              "      <td>NaN</td>\n",
              "      <td>NaN</td>\n",
              "      <td>NaN</td>\n",
              "      <td>NaN</td>\n",
              "      <td>NaN</td>\n",
              "      <td>NaN</td>\n",
              "      <td>NaN</td>\n",
              "      <td>NaN</td>\n",
              "      <td>NaN</td>\n",
              "      <td>NaN</td>\n",
              "      <td>NaN</td>\n",
              "    </tr>\n",
              "    <tr>\n",
              "      <th>613646</th>\n",
              "      <td>/boxscores/201906130GSW.html</td>\n",
              "      <td>playoff</td>\n",
              "      <td>Oracle Arena Oakland California</td>\n",
              "      <td>June 13 2019</td>\n",
              "      <td>9:00 PM</td>\n",
              "      <td>TOR</td>\n",
              "      <td>4</td>\n",
              "      <td>37</td>\n",
              "      <td>TOR</td>\n",
              "      <td>Toronto full timeout</td>\n",
              "      <td>109</td>\n",
              "      <td>GSW</td>\n",
              "      <td>NaN</td>\n",
              "      <td>108</td>\n",
              "      <td>NaN</td>\n",
              "      <td>NaN</td>\n",
              "      <td>NaN</td>\n",
              "      <td>NaN</td>\n",
              "      <td>NaN</td>\n",
              "      <td>NaN</td>\n",
              "      <td>NaN</td>\n",
              "      <td>NaN</td>\n",
              "      <td>NaN</td>\n",
              "      <td>NaN</td>\n",
              "      <td>NaN</td>\n",
              "      <td>NaN</td>\n",
              "      <td>NaN</td>\n",
              "      <td>TOR</td>\n",
              "      <td>NaN</td>\n",
              "      <td>NaN</td>\n",
              "      <td>NaN</td>\n",
              "      <td>NaN</td>\n",
              "      <td>NaN</td>\n",
              "      <td>NaN</td>\n",
              "      <td>NaN</td>\n",
              "      <td>NaN</td>\n",
              "      <td>NaN</td>\n",
              "      <td>NaN</td>\n",
              "      <td>NaN</td>\n",
              "      <td>NaN</td>\n",
              "    </tr>\n",
              "    <tr>\n",
              "      <th>613647</th>\n",
              "      <td>/boxscores/201906130GSW.html</td>\n",
              "      <td>playoff</td>\n",
              "      <td>Oracle Arena Oakland California</td>\n",
              "      <td>June 13 2019</td>\n",
              "      <td>9:00 PM</td>\n",
              "      <td>TOR</td>\n",
              "      <td>4</td>\n",
              "      <td>37</td>\n",
              "      <td>TOR</td>\n",
              "      <td>NaN</td>\n",
              "      <td>109</td>\n",
              "      <td>GSW</td>\n",
              "      <td>K. Looney enters the game for D. Cousins</td>\n",
              "      <td>108</td>\n",
              "      <td>NaN</td>\n",
              "      <td>NaN</td>\n",
              "      <td>NaN</td>\n",
              "      <td>NaN</td>\n",
              "      <td>NaN</td>\n",
              "      <td>NaN</td>\n",
              "      <td>NaN</td>\n",
              "      <td>NaN</td>\n",
              "      <td>NaN</td>\n",
              "      <td>NaN</td>\n",
              "      <td>NaN</td>\n",
              "      <td>NaN</td>\n",
              "      <td>NaN</td>\n",
              "      <td>NaN</td>\n",
              "      <td>NaN</td>\n",
              "      <td>NaN</td>\n",
              "      <td>NaN</td>\n",
              "      <td>K. Looney - GSW</td>\n",
              "      <td>D. Cousins - GSW</td>\n",
              "      <td>NaN</td>\n",
              "      <td>NaN</td>\n",
              "      <td>NaN</td>\n",
              "      <td>NaN</td>\n",
              "      <td>NaN</td>\n",
              "      <td>NaN</td>\n",
              "      <td>NaN</td>\n",
              "    </tr>\n",
              "    <tr>\n",
              "      <th>613648</th>\n",
              "      <td>/boxscores/201906130GSW.html</td>\n",
              "      <td>playoff</td>\n",
              "      <td>Oracle Arena Oakland California</td>\n",
              "      <td>June 13 2019</td>\n",
              "      <td>9:00 PM</td>\n",
              "      <td>TOR</td>\n",
              "      <td>4</td>\n",
              "      <td>28</td>\n",
              "      <td>TOR</td>\n",
              "      <td>P. Siakam makes 2-pt jump shot from 13 ft (ass...</td>\n",
              "      <td>111</td>\n",
              "      <td>GSW</td>\n",
              "      <td>NaN</td>\n",
              "      <td>108</td>\n",
              "      <td>P. Siakam - TOR</td>\n",
              "      <td>2-pt jump shot</td>\n",
              "      <td>make</td>\n",
              "      <td>13.0</td>\n",
              "      <td>K. Lowry - TOR</td>\n",
              "      <td>NaN</td>\n",
              "      <td>NaN</td>\n",
              "      <td>NaN</td>\n",
              "      <td>NaN</td>\n",
              "      <td>NaN</td>\n",
              "      <td>NaN</td>\n",
              "      <td>NaN</td>\n",
              "      <td>NaN</td>\n",
              "      <td>NaN</td>\n",
              "      <td>NaN</td>\n",
              "      <td>NaN</td>\n",
              "      <td>NaN</td>\n",
              "      <td>NaN</td>\n",
              "      <td>NaN</td>\n",
              "      <td>NaN</td>\n",
              "      <td>NaN</td>\n",
              "      <td>NaN</td>\n",
              "      <td>NaN</td>\n",
              "      <td>NaN</td>\n",
              "      <td>NaN</td>\n",
              "      <td>NaN</td>\n",
              "    </tr>\n",
              "    <tr>\n",
              "      <th>613649</th>\n",
              "      <td>/boxscores/201906130GSW.html</td>\n",
              "      <td>playoff</td>\n",
              "      <td>Oracle Arena Oakland California</td>\n",
              "      <td>June 13 2019</td>\n",
              "      <td>9:00 PM</td>\n",
              "      <td>TOR</td>\n",
              "      <td>4</td>\n",
              "      <td>18</td>\n",
              "      <td>TOR</td>\n",
              "      <td>NaN</td>\n",
              "      <td>111</td>\n",
              "      <td>GSW</td>\n",
              "      <td>Personal foul by P. Siakam (drawn by S. Curry)</td>\n",
              "      <td>108</td>\n",
              "      <td>NaN</td>\n",
              "      <td>NaN</td>\n",
              "      <td>NaN</td>\n",
              "      <td>NaN</td>\n",
              "      <td>NaN</td>\n",
              "      <td>NaN</td>\n",
              "      <td>personal</td>\n",
              "      <td>P. Siakam - TOR</td>\n",
              "      <td>S. Curry - GSW</td>\n",
              "      <td>NaN</td>\n",
              "      <td>NaN</td>\n",
              "      <td>NaN</td>\n",
              "      <td>NaN</td>\n",
              "      <td>NaN</td>\n",
              "      <td>NaN</td>\n",
              "      <td>NaN</td>\n",
              "      <td>NaN</td>\n",
              "      <td>NaN</td>\n",
              "      <td>NaN</td>\n",
              "      <td>NaN</td>\n",
              "      <td>NaN</td>\n",
              "      <td>NaN</td>\n",
              "      <td>NaN</td>\n",
              "      <td>NaN</td>\n",
              "      <td>NaN</td>\n",
              "      <td>NaN</td>\n",
              "    </tr>\n",
              "    <tr>\n",
              "      <th>613650</th>\n",
              "      <td>/boxscores/201906130GSW.html</td>\n",
              "      <td>playoff</td>\n",
              "      <td>Oracle Arena Oakland California</td>\n",
              "      <td>June 13 2019</td>\n",
              "      <td>9:00 PM</td>\n",
              "      <td>TOR</td>\n",
              "      <td>4</td>\n",
              "      <td>18</td>\n",
              "      <td>TOR</td>\n",
              "      <td>NaN</td>\n",
              "      <td>111</td>\n",
              "      <td>GSW</td>\n",
              "      <td>S. Curry makes free throw 1 of 2</td>\n",
              "      <td>109</td>\n",
              "      <td>NaN</td>\n",
              "      <td>NaN</td>\n",
              "      <td>NaN</td>\n",
              "      <td>NaN</td>\n",
              "      <td>NaN</td>\n",
              "      <td>NaN</td>\n",
              "      <td>NaN</td>\n",
              "      <td>NaN</td>\n",
              "      <td>NaN</td>\n",
              "      <td>NaN</td>\n",
              "      <td>NaN</td>\n",
              "      <td>NaN</td>\n",
              "      <td>NaN</td>\n",
              "      <td>NaN</td>\n",
              "      <td>S. Curry - GSW</td>\n",
              "      <td>make</td>\n",
              "      <td>1 of 2</td>\n",
              "      <td>NaN</td>\n",
              "      <td>NaN</td>\n",
              "      <td>NaN</td>\n",
              "      <td>NaN</td>\n",
              "      <td>NaN</td>\n",
              "      <td>NaN</td>\n",
              "      <td>NaN</td>\n",
              "      <td>NaN</td>\n",
              "      <td>NaN</td>\n",
              "    </tr>\n",
              "    <tr>\n",
              "      <th>613651</th>\n",
              "      <td>/boxscores/201906130GSW.html</td>\n",
              "      <td>playoff</td>\n",
              "      <td>Oracle Arena Oakland California</td>\n",
              "      <td>June 13 2019</td>\n",
              "      <td>9:00 PM</td>\n",
              "      <td>TOR</td>\n",
              "      <td>4</td>\n",
              "      <td>18</td>\n",
              "      <td>TOR</td>\n",
              "      <td>NaN</td>\n",
              "      <td>111</td>\n",
              "      <td>GSW</td>\n",
              "      <td>S. Curry makes free throw 2 of 2</td>\n",
              "      <td>110</td>\n",
              "      <td>NaN</td>\n",
              "      <td>NaN</td>\n",
              "      <td>NaN</td>\n",
              "      <td>NaN</td>\n",
              "      <td>NaN</td>\n",
              "      <td>NaN</td>\n",
              "      <td>NaN</td>\n",
              "      <td>NaN</td>\n",
              "      <td>NaN</td>\n",
              "      <td>NaN</td>\n",
              "      <td>NaN</td>\n",
              "      <td>NaN</td>\n",
              "      <td>NaN</td>\n",
              "      <td>NaN</td>\n",
              "      <td>S. Curry - GSW</td>\n",
              "      <td>make</td>\n",
              "      <td>2 of 2</td>\n",
              "      <td>NaN</td>\n",
              "      <td>NaN</td>\n",
              "      <td>NaN</td>\n",
              "      <td>NaN</td>\n",
              "      <td>NaN</td>\n",
              "      <td>NaN</td>\n",
              "      <td>NaN</td>\n",
              "      <td>NaN</td>\n",
              "      <td>NaN</td>\n",
              "    </tr>\n",
              "    <tr>\n",
              "      <th>613652</th>\n",
              "      <td>/boxscores/201906130GSW.html</td>\n",
              "      <td>playoff</td>\n",
              "      <td>Oracle Arena Oakland California</td>\n",
              "      <td>June 13 2019</td>\n",
              "      <td>9:00 PM</td>\n",
              "      <td>TOR</td>\n",
              "      <td>4</td>\n",
              "      <td>18</td>\n",
              "      <td>TOR</td>\n",
              "      <td>Toronto full timeout</td>\n",
              "      <td>111</td>\n",
              "      <td>GSW</td>\n",
              "      <td>NaN</td>\n",
              "      <td>110</td>\n",
              "      <td>NaN</td>\n",
              "      <td>NaN</td>\n",
              "      <td>NaN</td>\n",
              "      <td>NaN</td>\n",
              "      <td>NaN</td>\n",
              "      <td>NaN</td>\n",
              "      <td>NaN</td>\n",
              "      <td>NaN</td>\n",
              "      <td>NaN</td>\n",
              "      <td>NaN</td>\n",
              "      <td>NaN</td>\n",
              "      <td>NaN</td>\n",
              "      <td>NaN</td>\n",
              "      <td>TOR</td>\n",
              "      <td>NaN</td>\n",
              "      <td>NaN</td>\n",
              "      <td>NaN</td>\n",
              "      <td>NaN</td>\n",
              "      <td>NaN</td>\n",
              "      <td>NaN</td>\n",
              "      <td>NaN</td>\n",
              "      <td>NaN</td>\n",
              "      <td>NaN</td>\n",
              "      <td>NaN</td>\n",
              "      <td>NaN</td>\n",
              "      <td>NaN</td>\n",
              "    </tr>\n",
              "    <tr>\n",
              "      <th>613653</th>\n",
              "      <td>/boxscores/201906130GSW.html</td>\n",
              "      <td>playoff</td>\n",
              "      <td>Oracle Arena Oakland California</td>\n",
              "      <td>June 13 2019</td>\n",
              "      <td>9:00 PM</td>\n",
              "      <td>TOR</td>\n",
              "      <td>4</td>\n",
              "      <td>18</td>\n",
              "      <td>TOR</td>\n",
              "      <td>D. Green enters the game for S. Ibaka</td>\n",
              "      <td>111</td>\n",
              "      <td>GSW</td>\n",
              "      <td>NaN</td>\n",
              "      <td>110</td>\n",
              "      <td>NaN</td>\n",
              "      <td>NaN</td>\n",
              "      <td>NaN</td>\n",
              "      <td>NaN</td>\n",
              "      <td>NaN</td>\n",
              "      <td>NaN</td>\n",
              "      <td>NaN</td>\n",
              "      <td>NaN</td>\n",
              "      <td>NaN</td>\n",
              "      <td>NaN</td>\n",
              "      <td>NaN</td>\n",
              "      <td>NaN</td>\n",
              "      <td>NaN</td>\n",
              "      <td>NaN</td>\n",
              "      <td>NaN</td>\n",
              "      <td>NaN</td>\n",
              "      <td>NaN</td>\n",
              "      <td>D. Green - TOR</td>\n",
              "      <td>S. Ibaka - TOR</td>\n",
              "      <td>NaN</td>\n",
              "      <td>NaN</td>\n",
              "      <td>NaN</td>\n",
              "      <td>NaN</td>\n",
              "      <td>NaN</td>\n",
              "      <td>NaN</td>\n",
              "      <td>NaN</td>\n",
              "    </tr>\n",
              "    <tr>\n",
              "      <th>613654</th>\n",
              "      <td>/boxscores/201906130GSW.html</td>\n",
              "      <td>playoff</td>\n",
              "      <td>Oracle Arena Oakland California</td>\n",
              "      <td>June 13 2019</td>\n",
              "      <td>9:00 PM</td>\n",
              "      <td>TOR</td>\n",
              "      <td>4</td>\n",
              "      <td>9</td>\n",
              "      <td>TOR</td>\n",
              "      <td>Turnover by D. Green (bad pass)</td>\n",
              "      <td>111</td>\n",
              "      <td>GSW</td>\n",
              "      <td>NaN</td>\n",
              "      <td>110</td>\n",
              "      <td>NaN</td>\n",
              "      <td>NaN</td>\n",
              "      <td>NaN</td>\n",
              "      <td>NaN</td>\n",
              "      <td>NaN</td>\n",
              "      <td>NaN</td>\n",
              "      <td>NaN</td>\n",
              "      <td>NaN</td>\n",
              "      <td>NaN</td>\n",
              "      <td>NaN</td>\n",
              "      <td>NaN</td>\n",
              "      <td>NaN</td>\n",
              "      <td>NaN</td>\n",
              "      <td>NaN</td>\n",
              "      <td>NaN</td>\n",
              "      <td>NaN</td>\n",
              "      <td>NaN</td>\n",
              "      <td>NaN</td>\n",
              "      <td>NaN</td>\n",
              "      <td>D. Green - TOR</td>\n",
              "      <td>bad pass</td>\n",
              "      <td>NaN</td>\n",
              "      <td>NaN</td>\n",
              "      <td>NaN</td>\n",
              "      <td>NaN</td>\n",
              "      <td>NaN</td>\n",
              "    </tr>\n",
              "    <tr>\n",
              "      <th>613655</th>\n",
              "      <td>/boxscores/201906130GSW.html</td>\n",
              "      <td>playoff</td>\n",
              "      <td>Oracle Arena Oakland California</td>\n",
              "      <td>June 13 2019</td>\n",
              "      <td>9:00 PM</td>\n",
              "      <td>TOR</td>\n",
              "      <td>4</td>\n",
              "      <td>9</td>\n",
              "      <td>TOR</td>\n",
              "      <td>NaN</td>\n",
              "      <td>111</td>\n",
              "      <td>GSW</td>\n",
              "      <td>Golden State full timeout</td>\n",
              "      <td>110</td>\n",
              "      <td>NaN</td>\n",
              "      <td>NaN</td>\n",
              "      <td>NaN</td>\n",
              "      <td>NaN</td>\n",
              "      <td>NaN</td>\n",
              "      <td>NaN</td>\n",
              "      <td>NaN</td>\n",
              "      <td>NaN</td>\n",
              "      <td>NaN</td>\n",
              "      <td>NaN</td>\n",
              "      <td>NaN</td>\n",
              "      <td>NaN</td>\n",
              "      <td>NaN</td>\n",
              "      <td>GSW</td>\n",
              "      <td>NaN</td>\n",
              "      <td>NaN</td>\n",
              "      <td>NaN</td>\n",
              "      <td>NaN</td>\n",
              "      <td>NaN</td>\n",
              "      <td>NaN</td>\n",
              "      <td>NaN</td>\n",
              "      <td>NaN</td>\n",
              "      <td>NaN</td>\n",
              "      <td>NaN</td>\n",
              "      <td>NaN</td>\n",
              "      <td>NaN</td>\n",
              "    </tr>\n",
              "    <tr>\n",
              "      <th>613656</th>\n",
              "      <td>/boxscores/201906130GSW.html</td>\n",
              "      <td>playoff</td>\n",
              "      <td>Oracle Arena Oakland California</td>\n",
              "      <td>June 13 2019</td>\n",
              "      <td>9:00 PM</td>\n",
              "      <td>TOR</td>\n",
              "      <td>4</td>\n",
              "      <td>9</td>\n",
              "      <td>TOR</td>\n",
              "      <td>S. Ibaka enters the game for D. Green</td>\n",
              "      <td>111</td>\n",
              "      <td>GSW</td>\n",
              "      <td>NaN</td>\n",
              "      <td>110</td>\n",
              "      <td>NaN</td>\n",
              "      <td>NaN</td>\n",
              "      <td>NaN</td>\n",
              "      <td>NaN</td>\n",
              "      <td>NaN</td>\n",
              "      <td>NaN</td>\n",
              "      <td>NaN</td>\n",
              "      <td>NaN</td>\n",
              "      <td>NaN</td>\n",
              "      <td>NaN</td>\n",
              "      <td>NaN</td>\n",
              "      <td>NaN</td>\n",
              "      <td>NaN</td>\n",
              "      <td>NaN</td>\n",
              "      <td>NaN</td>\n",
              "      <td>NaN</td>\n",
              "      <td>NaN</td>\n",
              "      <td>S. Ibaka - TOR</td>\n",
              "      <td>D. Green - TOR</td>\n",
              "      <td>NaN</td>\n",
              "      <td>NaN</td>\n",
              "      <td>NaN</td>\n",
              "      <td>NaN</td>\n",
              "      <td>NaN</td>\n",
              "      <td>NaN</td>\n",
              "      <td>NaN</td>\n",
              "    </tr>\n",
              "    <tr>\n",
              "      <th>613657</th>\n",
              "      <td>/boxscores/201906130GSW.html</td>\n",
              "      <td>playoff</td>\n",
              "      <td>Oracle Arena Oakland California</td>\n",
              "      <td>June 13 2019</td>\n",
              "      <td>9:00 PM</td>\n",
              "      <td>TOR</td>\n",
              "      <td>4</td>\n",
              "      <td>9</td>\n",
              "      <td>TOR</td>\n",
              "      <td>NaN</td>\n",
              "      <td>111</td>\n",
              "      <td>GSW</td>\n",
              "      <td>Q. Cook enters the game for A. Iguodala</td>\n",
              "      <td>110</td>\n",
              "      <td>NaN</td>\n",
              "      <td>NaN</td>\n",
              "      <td>NaN</td>\n",
              "      <td>NaN</td>\n",
              "      <td>NaN</td>\n",
              "      <td>NaN</td>\n",
              "      <td>NaN</td>\n",
              "      <td>NaN</td>\n",
              "      <td>NaN</td>\n",
              "      <td>NaN</td>\n",
              "      <td>NaN</td>\n",
              "      <td>NaN</td>\n",
              "      <td>NaN</td>\n",
              "      <td>NaN</td>\n",
              "      <td>NaN</td>\n",
              "      <td>NaN</td>\n",
              "      <td>NaN</td>\n",
              "      <td>Q. Cook - GSW</td>\n",
              "      <td>A. Iguodala - GSW</td>\n",
              "      <td>NaN</td>\n",
              "      <td>NaN</td>\n",
              "      <td>NaN</td>\n",
              "      <td>NaN</td>\n",
              "      <td>NaN</td>\n",
              "      <td>NaN</td>\n",
              "      <td>NaN</td>\n",
              "    </tr>\n",
              "    <tr>\n",
              "      <th>613658</th>\n",
              "      <td>/boxscores/201906130GSW.html</td>\n",
              "      <td>playoff</td>\n",
              "      <td>Oracle Arena Oakland California</td>\n",
              "      <td>June 13 2019</td>\n",
              "      <td>9:00 PM</td>\n",
              "      <td>TOR</td>\n",
              "      <td>4</td>\n",
              "      <td>9</td>\n",
              "      <td>TOR</td>\n",
              "      <td>NaN</td>\n",
              "      <td>111</td>\n",
              "      <td>GSW</td>\n",
              "      <td>D. Cousins enters the game for K. Looney</td>\n",
              "      <td>110</td>\n",
              "      <td>NaN</td>\n",
              "      <td>NaN</td>\n",
              "      <td>NaN</td>\n",
              "      <td>NaN</td>\n",
              "      <td>NaN</td>\n",
              "      <td>NaN</td>\n",
              "      <td>NaN</td>\n",
              "      <td>NaN</td>\n",
              "      <td>NaN</td>\n",
              "      <td>NaN</td>\n",
              "      <td>NaN</td>\n",
              "      <td>NaN</td>\n",
              "      <td>NaN</td>\n",
              "      <td>NaN</td>\n",
              "      <td>NaN</td>\n",
              "      <td>NaN</td>\n",
              "      <td>NaN</td>\n",
              "      <td>D. Cousins - GSW</td>\n",
              "      <td>K. Looney - GSW</td>\n",
              "      <td>NaN</td>\n",
              "      <td>NaN</td>\n",
              "      <td>NaN</td>\n",
              "      <td>NaN</td>\n",
              "      <td>NaN</td>\n",
              "      <td>NaN</td>\n",
              "      <td>NaN</td>\n",
              "    </tr>\n",
              "    <tr>\n",
              "      <th>613659</th>\n",
              "      <td>/boxscores/201906130GSW.html</td>\n",
              "      <td>playoff</td>\n",
              "      <td>Oracle Arena Oakland California</td>\n",
              "      <td>June 13 2019</td>\n",
              "      <td>9:00 PM</td>\n",
              "      <td>TOR</td>\n",
              "      <td>4</td>\n",
              "      <td>8</td>\n",
              "      <td>TOR</td>\n",
              "      <td>NaN</td>\n",
              "      <td>111</td>\n",
              "      <td>GSW</td>\n",
              "      <td>S. Curry misses 3-pt jump shot from 27 ft</td>\n",
              "      <td>110</td>\n",
              "      <td>S. Curry - GSW</td>\n",
              "      <td>3-pt jump shot</td>\n",
              "      <td>miss</td>\n",
              "      <td>27.0</td>\n",
              "      <td>NaN</td>\n",
              "      <td>NaN</td>\n",
              "      <td>NaN</td>\n",
              "      <td>NaN</td>\n",
              "      <td>NaN</td>\n",
              "      <td>NaN</td>\n",
              "      <td>NaN</td>\n",
              "      <td>NaN</td>\n",
              "      <td>NaN</td>\n",
              "      <td>NaN</td>\n",
              "      <td>NaN</td>\n",
              "      <td>NaN</td>\n",
              "      <td>NaN</td>\n",
              "      <td>NaN</td>\n",
              "      <td>NaN</td>\n",
              "      <td>NaN</td>\n",
              "      <td>NaN</td>\n",
              "      <td>NaN</td>\n",
              "      <td>NaN</td>\n",
              "      <td>NaN</td>\n",
              "      <td>NaN</td>\n",
              "      <td>NaN</td>\n",
              "    </tr>\n",
              "    <tr>\n",
              "      <th>613660</th>\n",
              "      <td>/boxscores/201906130GSW.html</td>\n",
              "      <td>playoff</td>\n",
              "      <td>Oracle Arena Oakland California</td>\n",
              "      <td>June 13 2019</td>\n",
              "      <td>9:00 PM</td>\n",
              "      <td>TOR</td>\n",
              "      <td>4</td>\n",
              "      <td>1</td>\n",
              "      <td>TOR</td>\n",
              "      <td>NaN</td>\n",
              "      <td>111</td>\n",
              "      <td>GSW</td>\n",
              "      <td>Offensive rebound by D. Green</td>\n",
              "      <td>110</td>\n",
              "      <td>NaN</td>\n",
              "      <td>NaN</td>\n",
              "      <td>NaN</td>\n",
              "      <td>NaN</td>\n",
              "      <td>NaN</td>\n",
              "      <td>NaN</td>\n",
              "      <td>NaN</td>\n",
              "      <td>NaN</td>\n",
              "      <td>NaN</td>\n",
              "      <td>D. Green - GSW</td>\n",
              "      <td>offensive</td>\n",
              "      <td>NaN</td>\n",
              "      <td>NaN</td>\n",
              "      <td>NaN</td>\n",
              "      <td>NaN</td>\n",
              "      <td>NaN</td>\n",
              "      <td>NaN</td>\n",
              "      <td>NaN</td>\n",
              "      <td>NaN</td>\n",
              "      <td>NaN</td>\n",
              "      <td>NaN</td>\n",
              "      <td>NaN</td>\n",
              "      <td>NaN</td>\n",
              "      <td>NaN</td>\n",
              "      <td>NaN</td>\n",
              "      <td>NaN</td>\n",
              "    </tr>\n",
              "    <tr>\n",
              "      <th>613661</th>\n",
              "      <td>/boxscores/201906130GSW.html</td>\n",
              "      <td>playoff</td>\n",
              "      <td>Oracle Arena Oakland California</td>\n",
              "      <td>June 13 2019</td>\n",
              "      <td>9:00 PM</td>\n",
              "      <td>TOR</td>\n",
              "      <td>4</td>\n",
              "      <td>0</td>\n",
              "      <td>TOR</td>\n",
              "      <td>Technical foul by</td>\n",
              "      <td>111</td>\n",
              "      <td>GSW</td>\n",
              "      <td>NaN</td>\n",
              "      <td>110</td>\n",
              "      <td>NaN</td>\n",
              "      <td>NaN</td>\n",
              "      <td>NaN</td>\n",
              "      <td>NaN</td>\n",
              "      <td>NaN</td>\n",
              "      <td>NaN</td>\n",
              "      <td>technical</td>\n",
              "      <td>NaN</td>\n",
              "      <td>NaN</td>\n",
              "      <td>NaN</td>\n",
              "      <td>NaN</td>\n",
              "      <td>NaN</td>\n",
              "      <td>NaN</td>\n",
              "      <td>NaN</td>\n",
              "      <td>NaN</td>\n",
              "      <td>NaN</td>\n",
              "      <td>NaN</td>\n",
              "      <td>NaN</td>\n",
              "      <td>NaN</td>\n",
              "      <td>NaN</td>\n",
              "      <td>NaN</td>\n",
              "      <td>NaN</td>\n",
              "      <td>NaN</td>\n",
              "      <td>NaN</td>\n",
              "      <td>NaN</td>\n",
              "      <td>NaN</td>\n",
              "    </tr>\n",
              "    <tr>\n",
              "      <th>613662</th>\n",
              "      <td>/boxscores/201906130GSW.html</td>\n",
              "      <td>playoff</td>\n",
              "      <td>Oracle Arena Oakland California</td>\n",
              "      <td>June 13 2019</td>\n",
              "      <td>9:00 PM</td>\n",
              "      <td>TOR</td>\n",
              "      <td>4</td>\n",
              "      <td>0</td>\n",
              "      <td>TOR</td>\n",
              "      <td>NaN</td>\n",
              "      <td>111</td>\n",
              "      <td>GSW</td>\n",
              "      <td>Golden State full timeout</td>\n",
              "      <td>110</td>\n",
              "      <td>NaN</td>\n",
              "      <td>NaN</td>\n",
              "      <td>NaN</td>\n",
              "      <td>NaN</td>\n",
              "      <td>NaN</td>\n",
              "      <td>NaN</td>\n",
              "      <td>NaN</td>\n",
              "      <td>NaN</td>\n",
              "      <td>NaN</td>\n",
              "      <td>NaN</td>\n",
              "      <td>NaN</td>\n",
              "      <td>NaN</td>\n",
              "      <td>NaN</td>\n",
              "      <td>GSW</td>\n",
              "      <td>NaN</td>\n",
              "      <td>NaN</td>\n",
              "      <td>NaN</td>\n",
              "      <td>NaN</td>\n",
              "      <td>NaN</td>\n",
              "      <td>NaN</td>\n",
              "      <td>NaN</td>\n",
              "      <td>NaN</td>\n",
              "      <td>NaN</td>\n",
              "      <td>NaN</td>\n",
              "      <td>NaN</td>\n",
              "      <td>NaN</td>\n",
              "    </tr>\n",
              "    <tr>\n",
              "      <th>613663</th>\n",
              "      <td>/boxscores/201906130GSW.html</td>\n",
              "      <td>playoff</td>\n",
              "      <td>Oracle Arena Oakland California</td>\n",
              "      <td>June 13 2019</td>\n",
              "      <td>9:00 PM</td>\n",
              "      <td>TOR</td>\n",
              "      <td>4</td>\n",
              "      <td>0</td>\n",
              "      <td>TOR</td>\n",
              "      <td>NaN</td>\n",
              "      <td>111</td>\n",
              "      <td>GSW</td>\n",
              "      <td>A. Iguodala enters the game for S. Livingston</td>\n",
              "      <td>110</td>\n",
              "      <td>NaN</td>\n",
              "      <td>NaN</td>\n",
              "      <td>NaN</td>\n",
              "      <td>NaN</td>\n",
              "      <td>NaN</td>\n",
              "      <td>NaN</td>\n",
              "      <td>NaN</td>\n",
              "      <td>NaN</td>\n",
              "      <td>NaN</td>\n",
              "      <td>NaN</td>\n",
              "      <td>NaN</td>\n",
              "      <td>NaN</td>\n",
              "      <td>NaN</td>\n",
              "      <td>NaN</td>\n",
              "      <td>NaN</td>\n",
              "      <td>NaN</td>\n",
              "      <td>NaN</td>\n",
              "      <td>A. Iguodala - GSW</td>\n",
              "      <td>S. Livingston - GSW</td>\n",
              "      <td>NaN</td>\n",
              "      <td>NaN</td>\n",
              "      <td>NaN</td>\n",
              "      <td>NaN</td>\n",
              "      <td>NaN</td>\n",
              "      <td>NaN</td>\n",
              "      <td>NaN</td>\n",
              "    </tr>\n",
              "    <tr>\n",
              "      <th>613664</th>\n",
              "      <td>/boxscores/201906130GSW.html</td>\n",
              "      <td>playoff</td>\n",
              "      <td>Oracle Arena Oakland California</td>\n",
              "      <td>June 13 2019</td>\n",
              "      <td>9:00 PM</td>\n",
              "      <td>TOR</td>\n",
              "      <td>4</td>\n",
              "      <td>0</td>\n",
              "      <td>TOR</td>\n",
              "      <td>K. Leonard makes technical free throw</td>\n",
              "      <td>112</td>\n",
              "      <td>GSW</td>\n",
              "      <td>NaN</td>\n",
              "      <td>110</td>\n",
              "      <td>NaN</td>\n",
              "      <td>NaN</td>\n",
              "      <td>NaN</td>\n",
              "      <td>NaN</td>\n",
              "      <td>NaN</td>\n",
              "      <td>NaN</td>\n",
              "      <td>NaN</td>\n",
              "      <td>NaN</td>\n",
              "      <td>NaN</td>\n",
              "      <td>NaN</td>\n",
              "      <td>NaN</td>\n",
              "      <td>NaN</td>\n",
              "      <td>NaN</td>\n",
              "      <td>NaN</td>\n",
              "      <td>K. Leonard - TOR</td>\n",
              "      <td>make</td>\n",
              "      <td>technical</td>\n",
              "      <td>NaN</td>\n",
              "      <td>NaN</td>\n",
              "      <td>NaN</td>\n",
              "      <td>NaN</td>\n",
              "      <td>NaN</td>\n",
              "      <td>NaN</td>\n",
              "      <td>NaN</td>\n",
              "      <td>NaN</td>\n",
              "      <td>NaN</td>\n",
              "    </tr>\n",
              "    <tr>\n",
              "      <th>613665</th>\n",
              "      <td>/boxscores/201906130GSW.html</td>\n",
              "      <td>playoff</td>\n",
              "      <td>Oracle Arena Oakland California</td>\n",
              "      <td>June 13 2019</td>\n",
              "      <td>9:00 PM</td>\n",
              "      <td>TOR</td>\n",
              "      <td>4</td>\n",
              "      <td>0</td>\n",
              "      <td>TOR</td>\n",
              "      <td>Personal foul by A. Iguodala (drawn by K. Leon...</td>\n",
              "      <td>112</td>\n",
              "      <td>GSW</td>\n",
              "      <td>NaN</td>\n",
              "      <td>110</td>\n",
              "      <td>NaN</td>\n",
              "      <td>NaN</td>\n",
              "      <td>NaN</td>\n",
              "      <td>NaN</td>\n",
              "      <td>NaN</td>\n",
              "      <td>NaN</td>\n",
              "      <td>personal</td>\n",
              "      <td>A. Iguodala - GSW</td>\n",
              "      <td>K. Leonard - TOR</td>\n",
              "      <td>NaN</td>\n",
              "      <td>NaN</td>\n",
              "      <td>NaN</td>\n",
              "      <td>NaN</td>\n",
              "      <td>NaN</td>\n",
              "      <td>NaN</td>\n",
              "      <td>NaN</td>\n",
              "      <td>NaN</td>\n",
              "      <td>NaN</td>\n",
              "      <td>NaN</td>\n",
              "      <td>NaN</td>\n",
              "      <td>NaN</td>\n",
              "      <td>NaN</td>\n",
              "      <td>NaN</td>\n",
              "      <td>NaN</td>\n",
              "      <td>NaN</td>\n",
              "      <td>NaN</td>\n",
              "    </tr>\n",
              "    <tr>\n",
              "      <th>613666</th>\n",
              "      <td>/boxscores/201906130GSW.html</td>\n",
              "      <td>playoff</td>\n",
              "      <td>Oracle Arena Oakland California</td>\n",
              "      <td>June 13 2019</td>\n",
              "      <td>9:00 PM</td>\n",
              "      <td>TOR</td>\n",
              "      <td>4</td>\n",
              "      <td>0</td>\n",
              "      <td>TOR</td>\n",
              "      <td>K. Leonard makes free throw 1 of 2</td>\n",
              "      <td>113</td>\n",
              "      <td>GSW</td>\n",
              "      <td>NaN</td>\n",
              "      <td>110</td>\n",
              "      <td>NaN</td>\n",
              "      <td>NaN</td>\n",
              "      <td>NaN</td>\n",
              "      <td>NaN</td>\n",
              "      <td>NaN</td>\n",
              "      <td>NaN</td>\n",
              "      <td>NaN</td>\n",
              "      <td>NaN</td>\n",
              "      <td>NaN</td>\n",
              "      <td>NaN</td>\n",
              "      <td>NaN</td>\n",
              "      <td>NaN</td>\n",
              "      <td>NaN</td>\n",
              "      <td>NaN</td>\n",
              "      <td>K. Leonard - TOR</td>\n",
              "      <td>make</td>\n",
              "      <td>1 of 2</td>\n",
              "      <td>NaN</td>\n",
              "      <td>NaN</td>\n",
              "      <td>NaN</td>\n",
              "      <td>NaN</td>\n",
              "      <td>NaN</td>\n",
              "      <td>NaN</td>\n",
              "      <td>NaN</td>\n",
              "      <td>NaN</td>\n",
              "      <td>NaN</td>\n",
              "    </tr>\n",
              "    <tr>\n",
              "      <th>613667</th>\n",
              "      <td>/boxscores/201906130GSW.html</td>\n",
              "      <td>playoff</td>\n",
              "      <td>Oracle Arena Oakland California</td>\n",
              "      <td>June 13 2019</td>\n",
              "      <td>9:00 PM</td>\n",
              "      <td>TOR</td>\n",
              "      <td>4</td>\n",
              "      <td>0</td>\n",
              "      <td>TOR</td>\n",
              "      <td>K. Leonard makes free throw 2 of 2</td>\n",
              "      <td>114</td>\n",
              "      <td>GSW</td>\n",
              "      <td>NaN</td>\n",
              "      <td>110</td>\n",
              "      <td>NaN</td>\n",
              "      <td>NaN</td>\n",
              "      <td>NaN</td>\n",
              "      <td>NaN</td>\n",
              "      <td>NaN</td>\n",
              "      <td>NaN</td>\n",
              "      <td>NaN</td>\n",
              "      <td>NaN</td>\n",
              "      <td>NaN</td>\n",
              "      <td>NaN</td>\n",
              "      <td>NaN</td>\n",
              "      <td>NaN</td>\n",
              "      <td>NaN</td>\n",
              "      <td>NaN</td>\n",
              "      <td>K. Leonard - TOR</td>\n",
              "      <td>make</td>\n",
              "      <td>2 of 2</td>\n",
              "      <td>NaN</td>\n",
              "      <td>NaN</td>\n",
              "      <td>NaN</td>\n",
              "      <td>NaN</td>\n",
              "      <td>NaN</td>\n",
              "      <td>NaN</td>\n",
              "      <td>NaN</td>\n",
              "      <td>NaN</td>\n",
              "      <td>NaN</td>\n",
              "    </tr>\n",
              "    <tr>\n",
              "      <th>613668</th>\n",
              "      <td>/boxscores/201906130GSW.html</td>\n",
              "      <td>playoff</td>\n",
              "      <td>Oracle Arena Oakland California</td>\n",
              "      <td>June 13 2019</td>\n",
              "      <td>9:00 PM</td>\n",
              "      <td>TOR</td>\n",
              "      <td>4</td>\n",
              "      <td>0</td>\n",
              "      <td>TOR</td>\n",
              "      <td>NaN</td>\n",
              "      <td>114</td>\n",
              "      <td>GSW</td>\n",
              "      <td>S. Curry misses 3-pt jump shot from 63 ft</td>\n",
              "      <td>110</td>\n",
              "      <td>S. Curry - GSW</td>\n",
              "      <td>3-pt jump shot</td>\n",
              "      <td>miss</td>\n",
              "      <td>63.0</td>\n",
              "      <td>NaN</td>\n",
              "      <td>NaN</td>\n",
              "      <td>NaN</td>\n",
              "      <td>NaN</td>\n",
              "      <td>NaN</td>\n",
              "      <td>NaN</td>\n",
              "      <td>NaN</td>\n",
              "      <td>NaN</td>\n",
              "      <td>NaN</td>\n",
              "      <td>NaN</td>\n",
              "      <td>NaN</td>\n",
              "      <td>NaN</td>\n",
              "      <td>NaN</td>\n",
              "      <td>NaN</td>\n",
              "      <td>NaN</td>\n",
              "      <td>NaN</td>\n",
              "      <td>NaN</td>\n",
              "      <td>NaN</td>\n",
              "      <td>NaN</td>\n",
              "      <td>NaN</td>\n",
              "      <td>NaN</td>\n",
              "      <td>NaN</td>\n",
              "    </tr>\n",
              "    <tr>\n",
              "      <th>613669</th>\n",
              "      <td>/boxscores/201906130GSW.html</td>\n",
              "      <td>playoff</td>\n",
              "      <td>Oracle Arena Oakland California</td>\n",
              "      <td>June 13 2019</td>\n",
              "      <td>9:00 PM</td>\n",
              "      <td>TOR</td>\n",
              "      <td>4</td>\n",
              "      <td>0</td>\n",
              "      <td>TOR</td>\n",
              "      <td>NaN</td>\n",
              "      <td>114</td>\n",
              "      <td>GSW</td>\n",
              "      <td>Offensive rebound by Team</td>\n",
              "      <td>110</td>\n",
              "      <td>NaN</td>\n",
              "      <td>NaN</td>\n",
              "      <td>NaN</td>\n",
              "      <td>NaN</td>\n",
              "      <td>NaN</td>\n",
              "      <td>NaN</td>\n",
              "      <td>NaN</td>\n",
              "      <td>NaN</td>\n",
              "      <td>NaN</td>\n",
              "      <td>Team - GSW</td>\n",
              "      <td>offensive</td>\n",
              "      <td>NaN</td>\n",
              "      <td>NaN</td>\n",
              "      <td>NaN</td>\n",
              "      <td>NaN</td>\n",
              "      <td>NaN</td>\n",
              "      <td>NaN</td>\n",
              "      <td>NaN</td>\n",
              "      <td>NaN</td>\n",
              "      <td>NaN</td>\n",
              "      <td>NaN</td>\n",
              "      <td>NaN</td>\n",
              "      <td>NaN</td>\n",
              "      <td>NaN</td>\n",
              "      <td>NaN</td>\n",
              "      <td>NaN</td>\n",
              "    </tr>\n",
              "    <tr>\n",
              "      <th>613670</th>\n",
              "      <td>/boxscores/201906130GSW.html</td>\n",
              "      <td>playoff</td>\n",
              "      <td>Oracle Arena Oakland California</td>\n",
              "      <td>June 13 2019</td>\n",
              "      <td>9:00 PM</td>\n",
              "      <td>TOR</td>\n",
              "      <td>5</td>\n",
              "      <td>0</td>\n",
              "      <td>TOR</td>\n",
              "      <td>End of Game</td>\n",
              "      <td>114</td>\n",
              "      <td>GSW</td>\n",
              "      <td>NaN</td>\n",
              "      <td>110</td>\n",
              "      <td>NaN</td>\n",
              "      <td>NaN</td>\n",
              "      <td>NaN</td>\n",
              "      <td>NaN</td>\n",
              "      <td>NaN</td>\n",
              "      <td>NaN</td>\n",
              "      <td>NaN</td>\n",
              "      <td>NaN</td>\n",
              "      <td>NaN</td>\n",
              "      <td>NaN</td>\n",
              "      <td>NaN</td>\n",
              "      <td>NaN</td>\n",
              "      <td>NaN</td>\n",
              "      <td>NaN</td>\n",
              "      <td>NaN</td>\n",
              "      <td>NaN</td>\n",
              "      <td>NaN</td>\n",
              "      <td>NaN</td>\n",
              "      <td>NaN</td>\n",
              "      <td>NaN</td>\n",
              "      <td>NaN</td>\n",
              "      <td>NaN</td>\n",
              "      <td>NaN</td>\n",
              "      <td>NaN</td>\n",
              "      <td>NaN</td>\n",
              "      <td>NaN</td>\n",
              "    </tr>\n",
              "  </tbody>\n",
              "</table>\n",
              "</div>"
            ],
            "text/plain": [
              "                                 URL GameType  ... JumpballHomePlayer JumpballPoss\n",
              "613641  /boxscores/201906130GSW.html  playoff  ...                NaN          NaN\n",
              "613642  /boxscores/201906130GSW.html  playoff  ...                NaN          NaN\n",
              "613643  /boxscores/201906130GSW.html  playoff  ...                NaN          NaN\n",
              "613644  /boxscores/201906130GSW.html  playoff  ...                NaN          NaN\n",
              "613645  /boxscores/201906130GSW.html  playoff  ...                NaN          NaN\n",
              "613646  /boxscores/201906130GSW.html  playoff  ...                NaN          NaN\n",
              "613647  /boxscores/201906130GSW.html  playoff  ...                NaN          NaN\n",
              "613648  /boxscores/201906130GSW.html  playoff  ...                NaN          NaN\n",
              "613649  /boxscores/201906130GSW.html  playoff  ...                NaN          NaN\n",
              "613650  /boxscores/201906130GSW.html  playoff  ...                NaN          NaN\n",
              "613651  /boxscores/201906130GSW.html  playoff  ...                NaN          NaN\n",
              "613652  /boxscores/201906130GSW.html  playoff  ...                NaN          NaN\n",
              "613653  /boxscores/201906130GSW.html  playoff  ...                NaN          NaN\n",
              "613654  /boxscores/201906130GSW.html  playoff  ...                NaN          NaN\n",
              "613655  /boxscores/201906130GSW.html  playoff  ...                NaN          NaN\n",
              "613656  /boxscores/201906130GSW.html  playoff  ...                NaN          NaN\n",
              "613657  /boxscores/201906130GSW.html  playoff  ...                NaN          NaN\n",
              "613658  /boxscores/201906130GSW.html  playoff  ...                NaN          NaN\n",
              "613659  /boxscores/201906130GSW.html  playoff  ...                NaN          NaN\n",
              "613660  /boxscores/201906130GSW.html  playoff  ...                NaN          NaN\n",
              "613661  /boxscores/201906130GSW.html  playoff  ...                NaN          NaN\n",
              "613662  /boxscores/201906130GSW.html  playoff  ...                NaN          NaN\n",
              "613663  /boxscores/201906130GSW.html  playoff  ...                NaN          NaN\n",
              "613664  /boxscores/201906130GSW.html  playoff  ...                NaN          NaN\n",
              "613665  /boxscores/201906130GSW.html  playoff  ...                NaN          NaN\n",
              "613666  /boxscores/201906130GSW.html  playoff  ...                NaN          NaN\n",
              "613667  /boxscores/201906130GSW.html  playoff  ...                NaN          NaN\n",
              "613668  /boxscores/201906130GSW.html  playoff  ...                NaN          NaN\n",
              "613669  /boxscores/201906130GSW.html  playoff  ...                NaN          NaN\n",
              "613670  /boxscores/201906130GSW.html  playoff  ...                NaN          NaN\n",
              "\n",
              "[30 rows x 40 columns]"
            ]
          },
          "metadata": {
            "tags": []
          },
          "execution_count": 6
        }
      ]
    },
    {
      "cell_type": "markdown",
      "metadata": {
        "id": "1GkRAtwktBlN",
        "colab_type": "text"
      },
      "source": [
        "## 4. Let's split the NBA data by ShotType"
      ]
    },
    {
      "cell_type": "code",
      "metadata": {
        "id": "za2ZvjL3ZcBs",
        "colab_type": "code",
        "colab": {}
      },
      "source": [
        "## Store rows of ONLY 3pt shots \n",
        "# nba[ (nba[\"ShotType\"] == \"3-pt jump shot\") ] alt. way\n",
        "three_pts = nba.loc[ nba['ShotType'].str.contains('3-pt', na=False)]\n",
        "\n",
        "## Store rows of ONLY 2pt shots\n",
        "# nba[ (nba[\"ShotType\"] == \"2-pt jump shot\") ] alt. way\n",
        "two_pts = nba.loc[ nba['ShotType'].str.contains('2-pt', na=False) ]\n",
        "\n",
        "## Store rows of Free Throw shots (1pt)\n",
        "# Because ShotType does not record 1pt, refer to \"FreeThrow\". If \"FreeThrow\" is not NaN, we know a free throw shot was taken (either make or miss)\n",
        "one_pt = nba.loc[ pd.isnull(nba['FreeThrowOutcome']) == False]\n",
        "\n",
        "# two_pts.shape[0]\n",
        "# three_pts.shape[0]\n",
        "# one_pt.shape[0]\n",
        "\n",
        "# two_pts.head(20)\n",
        "# three_pts.head(20)\n",
        "# one_pt.head(20)"
      ],
      "execution_count": null,
      "outputs": []
    },
    {
      "cell_type": "markdown",
      "metadata": {
        "id": "ahZXoYXGtnd0",
        "colab_type": "text"
      },
      "source": [
        "## 5. Let's split the NBA data by ShotType for LAC 2018-2019"
      ]
    },
    {
      "cell_type": "code",
      "metadata": {
        "id": "FIwho1aep2pn",
        "colab_type": "code",
        "colab": {}
      },
      "source": [
        "## Follow steps from previous cell, except now pick a HomeTeam to analyze for the year\n",
        "LAC = nba.loc[(nba['HomeTeam'] == 'LAC') | (nba['AwayTeam'] == 'LAC')]\n",
        "\n",
        "## Store rows of ONLY 3pt shots\n",
        "# nba[ (nba[\"ShotType\"] == \"3-pt jump shot\") ] alt. way\n",
        "three_pts = LAC.loc[ (pd.isnull(LAC['HomePlay']) == False) & (LAC['ShotType'].str.contains('3-pt')) ]\n",
        "\n",
        "## Store rows of ONLY 2pt shots\n",
        "# nba[ (nba[\"ShotType\"] == \"2-pt jump shot\") ] alt. way\n",
        "two_pts = LAC.loc[ (pd.isnull(LAC['HomePlay']) == False) & (LAC['ShotType'].str.contains('2-pt')) ]\n",
        "\n",
        "## Store rows of Free Throw shots (1pt)\n",
        "# Because ShotType does not record 1pt, refer to \"FreeThrow\". If \"FreeThrow\" is not NaN, we know a free throw shot was taken (either make or miss)\n",
        "one_pt = LAC.loc[ (pd.isnull(LAC['HomePlay']) == False) & (pd.isnull(LAC['FreeThrowOutcome']) == False) ]\n",
        "\n",
        "# two_pts.shape[0]\n",
        "# three_pts.shape[0]\n",
        "# one_pt.shape[0]\n",
        "\n",
        "# two_pts.head(20)\n",
        "# three_pts.head(20)\n",
        "# one_pt.head(20)\n",
        "# LAC.tail(450)"
      ],
      "execution_count": null,
      "outputs": []
    },
    {
      "cell_type": "markdown",
      "metadata": {
        "id": "ucXyZjITuDgS",
        "colab_type": "text"
      },
      "source": [
        "## 6. Let's split the NBA data by ShotType for LAC vs DEN (regular game 1 OCT 17TH)"
      ]
    },
    {
      "cell_type": "code",
      "metadata": {
        "id": "VO1qMINcucQK",
        "colab_type": "code",
        "colab": {
          "base_uri": "https://localhost:8080/",
          "height": 34
        },
        "outputId": "38220eca-ed8b-410c-aca9-deed3128fe8b"
      },
      "source": [
        "# Gathering Data for LAC vs DEN and storing it in a dataframe titled 'LAC'\n",
        "# Do same thing from previous cell, except now pick a HomeTeam, gameType, and Date\n",
        "LAC = nba.loc[ (nba['HomeTeam'] == 'LAC') & (nba['GameType'] == 'regular') & (nba['Date'] == 'October 17 2018')]\n",
        "LAC.shape\n",
        "# LAC.head(20)"
      ],
      "execution_count": null,
      "outputs": [
        {
          "output_type": "execute_result",
          "data": {
            "text/plain": [
              "(511, 40)"
            ]
          },
          "metadata": {
            "tags": []
          },
          "execution_count": 9
        }
      ]
    },
    {
      "cell_type": "markdown",
      "metadata": {
        "id": "ZOuUBYiLv64S",
        "colab_type": "text"
      },
      "source": [
        "## 7. Analyze HomeTeam LAC (all shots and then different ShotTypes)\n"
      ]
    },
    {
      "cell_type": "code",
      "metadata": {
        "id": "A607ydZMv50H",
        "colab_type": "code",
        "colab": {
          "base_uri": "https://localhost:8080/",
          "height": 34
        },
        "outputId": "4be36e68-13da-4ed8-92ba-b72e6ceb44f4"
      },
      "source": [
        "# Display the rows ONLY containing freethrows, 2pts and 3pts (all shots) taken by HomeTeam \n",
        "shots_all_LAC = LAC.loc[ (pd.isnull(LAC['ShotType']) == False) & (pd.isnull(LAC['HomePlay']) == False) | \n",
        "                      (pd.isnull(LAC['ShotType']) == True) & (pd.isnull(LAC['FreeThrowOutcome']) == False) & (pd.isnull(LAC['HomePlay']) == False),\n",
        "                      ['SecLeft', 'ShotType', 'ShotOutcome', 'FreeThrowOutcome', 'HomePlay', 'HomeTeam'] ] \n",
        "\n",
        "# Display the rows ONLY containing 2pts and 3pts taken by HomeTeam\n",
        "shots_all_23s_LAC = LAC.loc[ (pd.isnull(LAC['ShotType']) == False) & (pd.isnull(LAC['HomePlay']) == False),\n",
        "                      ['SecLeft', 'ShotType', 'ShotOutcome', 'HomePlay', 'HomeTeam'] ] \n",
        "\n",
        "# Gather all 2pts made by HomeTeam and have it side by side with SecLeft \n",
        "shots_2s_LAC = shots_all_LAC.loc[ (pd.isnull(shots_all_LAC['ShotType']) == False) & (shots_all_LAC['ShotType'].str.contains('2-pt')),\n",
        "                         ['SecLeft', 'ShotType', 'ShotOutcome', 'HomeTeam'] ]\n",
        "\n",
        "\n",
        "# Gather all 3pts made by HomeTeam and have it side by side with SecLeft \n",
        "shots_3s_LAC = shots_all_LAC.loc[ (pd.isnull(shots_all_LAC['ShotType']) == False) & (shots_all_LAC['ShotType'].str.contains('3-pt')),\n",
        "                         ['SecLeft', 'ShotType', 'ShotOutcome', 'HomeTeam'] ]\n",
        "\n",
        "# Gather all 1pts made by HomeTeam and have it side by side with SecLeft \n",
        "shots_1s_LAC = shots_all_LAC.loc[pd.isnull(shots_all_LAC['FreeThrowOutcome']) == False, ['SecLeft', 'FreeThrowOutcome', 'HomeTeam'] ]\n",
        "\n",
        "\n",
        "shots_2s_LAC.head(10)\n",
        "# shots_3s_LAC.head(10)\n",
        "# shots_1s_LAC.head(10)\n",
        "\n",
        "shots_all_23s_LAC.tail(20) \n",
        "shots_all_23s_LAC.shape[0]"
      ],
      "execution_count": null,
      "outputs": [
        {
          "output_type": "execute_result",
          "data": {
            "text/plain": [
              "88"
            ]
          },
          "metadata": {
            "tags": []
          },
          "execution_count": 10
        }
      ]
    },
    {
      "cell_type": "markdown",
      "metadata": {
        "id": "oxj8baR19V2r",
        "colab_type": "text"
      },
      "source": [
        "## 8. Analyze AwayTeam DEN (all shots and then different ShotTypes)"
      ]
    },
    {
      "cell_type": "code",
      "metadata": {
        "id": "_C8icXNH9TYm",
        "colab_type": "code",
        "colab": {
          "base_uri": "https://localhost:8080/",
          "height": 34
        },
        "outputId": "ac411da0-49ff-433e-a0ac-ba36d80bb72b"
      },
      "source": [
        "# Display the rows ONLY containing freethrows, 2pts and 3pts (all shots) taken by AwayTeam \n",
        "shots_all_DEN = LAC.loc[ (pd.isnull(LAC['ShotType']) == False) & (pd.isnull(LAC['AwayPlay']) == False) | \n",
        "                      (pd.isnull(LAC['ShotType']) == True) & (pd.isnull(LAC['FreeThrowOutcome']) == False) & (pd.isnull(LAC['AwayPlay']) == False),\n",
        "                      ['SecLeft', 'ShotType', 'ShotOutcome', 'FreeThrowOutcome', 'AwayPlay', 'AwayTeam'] ] \n",
        "\n",
        "# Display the rows ONLY containing 2pts and 3pts taken by AwayTeam \n",
        "shots_all_23s_DEN = LAC.loc[ (pd.isnull(LAC['ShotType']) == False) & (pd.isnull(LAC['AwayPlay']) == False),\n",
        "                      ['SecLeft', 'ShotType', 'ShotOutcome', 'AwayPlay', 'AwayTeam'] ] \n",
        "\n",
        "# Gather all 2pts made by AwayTeam and have it side by side with SecLeft \n",
        "shots_2s_DEN = shots_all_DEN.loc[ (pd.isnull(shots_all_DEN['ShotType']) == False) & (shots_all_DEN['ShotType'].str.contains('2-pt')),\n",
        "                         ['SecLeft', 'ShotType', 'ShotOutcome', 'AwayTeam'] ]\n",
        "\n",
        "# Gather all 3pts made by AwayTeam and have it side by side with SecLeft \n",
        "shots_3s_DEN = shots_all_DEN.loc[ (pd.isnull(shots_all_DEN['ShotType']) == False) & (shots_all_DEN['ShotType'].str.contains('3-pt')),\n",
        "                         ['SecLeft', 'ShotType', 'ShotOutcome', 'AwayTeam'] ]\n",
        "\n",
        "# Gather all 1pts made by AwayTeam and have it side by side with SecLeft \n",
        "shots_1s_DEN = shots_all_DEN.loc[pd.isnull(shots_all_DEN['FreeThrowOutcome']) == False, ['SecLeft', 'FreeThrowOutcome', 'AwayTeam'] ]\n",
        "\n",
        "# shots_2s_DEN.head(10)\n",
        "# shots_3s_DEN.head(10)\n",
        "# shots_1s_DEN.head(10)\n",
        "\n",
        "# shots_all_23s_DEN.head(60)\n",
        "shots_all_23s_DEN.shape[0]"
      ],
      "execution_count": null,
      "outputs": [
        {
          "output_type": "execute_result",
          "data": {
            "text/plain": [
              "87"
            ]
          },
          "metadata": {
            "tags": []
          },
          "execution_count": 11
        }
      ]
    },
    {
      "cell_type": "markdown",
      "metadata": {
        "id": "aA4E9Kmz96uO",
        "colab_type": "text"
      },
      "source": [
        "## 9. Visualize ShotType data for LAC g1"
      ]
    },
    {
      "cell_type": "code",
      "metadata": {
        "id": "rAtP2UvV952e",
        "colab_type": "code",
        "colab": {
          "base_uri": "https://localhost:8080/",
          "height": 282
        },
        "outputId": "3b94d580-35c9-400e-ecc2-9a4752b12620"
      },
      "source": [
        "x_axis = ('1_pt','2_pts','3_pts')\n",
        "y_pos = np.arange(len(x_axis))\n",
        "y_axis = [shots_1s_LAC.shape[0], shots_2s_LAC.shape[0], shots_3s_LAC.shape[0]]\n",
        "\n",
        "plt.bar(y_pos, y_axis, align='center', alpha=0.5)\n",
        "plt.xticks(y_pos, x_axis)\n",
        "plt.ylabel('Shots Taken by LAC')\n",
        "plt.title('Shot Types vs Amount of Shots Taken')\n",
        "\n",
        "plt.show()\n",
        "# Separate graph for made/miss for all ShotTypes"
      ],
      "execution_count": null,
      "outputs": [
        {
          "output_type": "display_data",
          "data": {
            "image/png": "[encoded data removed]",
            "text/plain": [
              "<Figure size 432x288 with 1 Axes>"
            ]
          },
          "metadata": {
            "tags": [],
            "needs_background": "light"
          }
        }
      ]
    },
    {
      "cell_type": "markdown",
      "metadata": {
        "id": "e0K3PTHvSA-G",
        "colab_type": "text"
      },
      "source": [
        "## 10. Visualize ShotType data for DEN g1"
      ]
    },
    {
      "cell_type": "code",
      "metadata": {
        "id": "M3CWLW1RSRGR",
        "colab_type": "code",
        "colab": {
          "base_uri": "https://localhost:8080/",
          "height": 282
        },
        "outputId": "32367371-88d8-4d5c-8242-53d418530b8e"
      },
      "source": [
        "x_axis = ('1_pt','2_pts','3_pts')\n",
        "y_pos = np.arange(len(x_axis))\n",
        "y_axis = [shots_1s_DEN.shape[0], shots_2s_DEN.shape[0], shots_3s_DEN.shape[0]]\n",
        "\n",
        "plt.bar(y_pos, y_axis, align='center', alpha=0.5)\n",
        "plt.xticks(y_pos, x_axis)\n",
        "plt.ylabel('Shots Taken by DEN')\n",
        "plt.title('Shot Types vs Amount of Shots Taken')\n",
        "\n",
        "plt.show()\n",
        "# Separate graph for made/miss for all ShotTypes"
      ],
      "execution_count": null,
      "outputs": [
        {
          "output_type": "display_data",
          "data": {
            "image/png": "[encoded data removed]",
            "text/plain": [
              "<Figure size 432x288 with 1 Axes>"
            ]
          },
          "metadata": {
            "tags": [],
            "needs_background": "light"
          }
        }
      ]
    },
    {
      "cell_type": "markdown",
      "metadata": {
        "id": "MEoDfb0oP0jQ",
        "colab_type": "text"
      },
      "source": [
        "\n",
        "\n",
        "---\n",
        "\n",
        "\n",
        "### **Notes from 07/01/20:**\n",
        "det. interarrival time between each shotType & all shots *completed\n",
        "Generate Histograms of Gaps bet. shots & gaps between shot Types (for one game and ALL games)\n",
        "place these into separate vectors (df)\n",
        "probability histogram (later)\n",
        "Compare clippers to nuggets\n",
        "\n",
        "\n",
        "---\n",
        "\n",
        "\n",
        "\n"
      ]
    },
    {
      "cell_type": "markdown",
      "metadata": {
        "id": "5wuZ-Hq3n0e2",
        "colab_type": "text"
      },
      "source": [
        "## 11. Interarrival times between ALL 2pts & 3pts for LAC g1"
      ]
    },
    {
      "cell_type": "code",
      "metadata": {
        "id": "J_hZVWJjxcbN",
        "colab_type": "code",
        "colab": {
          "base_uri": "https://localhost:8080/",
          "height": 473
        },
        "outputId": "69cfff2b-0b21-455f-d427-a02b3c597b33"
      },
      "source": [
        "timesLAC = []\n",
        "\n",
        "# Loop to retrieve interarrival times between every shot for LAC\n",
        "for x in range(shots_all_23s_LAC.shape[0]):\n",
        "  # .iloc[x, 0] gets us row x for col 0 (SecLeft in our case)\n",
        "\n",
        "  # very start of quarter, interarrival time is 720 - next time\n",
        "  if x == 0:\n",
        "    time = 720 - shots_all_23s_LAC.iloc[x, 0] \n",
        "\n",
        "  # end of quarter time minus next shot time in new quarter \n",
        "  elif shots_all_23s_LAC.iloc[x-1, 0] < shots_all_23s_LAC.iloc[x, 0]:\n",
        "    time = (720 + shots_all_23s_LAC.iloc[x-1, 0]) - shots_all_23s_LAC.iloc[x, 0]\n",
        "\n",
        "  # Do not record differences of 0 (for instance two back to back freethrows)\n",
        "  # elif shots_all_23s_LAC.iloc[x-1, 0] == shots_all_23s_LAC.iloc[x, 0]:\n",
        "  #  continue\n",
        "\n",
        "  else:\n",
        "    time = shots_all_23s_LAC.iloc[x-1, 0] - shots_all_23s_LAC.iloc[x, 0]\n",
        "  timesLAC.append(time)\n",
        "  # print(time)\n",
        "\n",
        "print(timesLAC)\n",
        "\n",
        "dict = {}\n",
        "for val in range(len(timesLAC)):\n",
        "  time = timesLAC[val]\n",
        "  dict[time] = dict.get(time, 0) + 1\n",
        "print(len(dict.keys()))\n",
        "\n",
        "df = pd.DataFrame(timesLAC, columns=['InterArrival Times'])\n",
        "df"
      ],
      "execution_count": null,
      "outputs": [
        {
          "output_type": "stream",
          "text": [
            "[14, 65, 37, 22, 12, 20, 52, 36, 38, 37, 26, 28, 20, 26, 38, 32, 3, 28, 34, 24, 107, 41, 2, 32, 14, 22, 31, 19, 41, 50, 0, 61, 32, 6, 53, 32, 43, 3, 15, 48, 29, 16, 24, 17, 34, 4, 5, 42, 54, 32, 24, 72, 53, 23, 35, 33, 27, 6, 24, 5, 92, 33, 27, 30, 17, 37, 29, 27, 32, 57, 23, 29, 21, 27, 46, 38, 40, 24, 33, 57, 25, 58, 44, 161, 41, 7, 8, 8]\n",
            "52\n"
          ],
          "name": "stdout"
        },
        {
          "output_type": "execute_result",
          "data": {
            "text/html": [
              "<div>\n",
              "<style scoped>\n",
              "    .dataframe tbody tr th:only-of-type {\n",
              "        vertical-align: middle;\n",
              "    }\n",
              "\n",
              "    .dataframe tbody tr th {\n",
              "        vertical-align: top;\n",
              "    }\n",
              "\n",
              "    .dataframe thead th {\n",
              "        text-align: right;\n",
              "    }\n",
              "</style>\n",
              "<table border=\"1\" class=\"dataframe\">\n",
              "  <thead>\n",
              "    <tr style=\"text-align: right;\">\n",
              "      <th></th>\n",
              "      <th>InterArrival Times</th>\n",
              "    </tr>\n",
              "  </thead>\n",
              "  <tbody>\n",
              "    <tr>\n",
              "      <th>0</th>\n",
              "      <td>14</td>\n",
              "    </tr>\n",
              "    <tr>\n",
              "      <th>1</th>\n",
              "      <td>65</td>\n",
              "    </tr>\n",
              "    <tr>\n",
              "      <th>2</th>\n",
              "      <td>37</td>\n",
              "    </tr>\n",
              "    <tr>\n",
              "      <th>3</th>\n",
              "      <td>22</td>\n",
              "    </tr>\n",
              "    <tr>\n",
              "      <th>4</th>\n",
              "      <td>12</td>\n",
              "    </tr>\n",
              "    <tr>\n",
              "      <th>...</th>\n",
              "      <td>...</td>\n",
              "    </tr>\n",
              "    <tr>\n",
              "      <th>83</th>\n",
              "      <td>161</td>\n",
              "    </tr>\n",
              "    <tr>\n",
              "      <th>84</th>\n",
              "      <td>41</td>\n",
              "    </tr>\n",
              "    <tr>\n",
              "      <th>85</th>\n",
              "      <td>7</td>\n",
              "    </tr>\n",
              "    <tr>\n",
              "      <th>86</th>\n",
              "      <td>8</td>\n",
              "    </tr>\n",
              "    <tr>\n",
              "      <th>87</th>\n",
              "      <td>8</td>\n",
              "    </tr>\n",
              "  </tbody>\n",
              "</table>\n",
              "<p>88 rows × 1 columns</p>\n",
              "</div>"
            ],
            "text/plain": [
              "    InterArrival Times\n",
              "0                   14\n",
              "1                   65\n",
              "2                   37\n",
              "3                   22\n",
              "4                   12\n",
              "..                 ...\n",
              "83                 161\n",
              "84                  41\n",
              "85                   7\n",
              "86                   8\n",
              "87                   8\n",
              "\n",
              "[88 rows x 1 columns]"
            ]
          },
          "metadata": {
            "tags": []
          },
          "execution_count": 14
        }
      ]
    },
    {
      "cell_type": "markdown",
      "metadata": {
        "id": "gAtOFxH_GIbl",
        "colab_type": "text"
      },
      "source": [
        "## Histogram plot for InterArrival Time vs. Freq"
      ]
    },
    {
      "cell_type": "code",
      "metadata": {
        "id": "GK_07vca0Lv_",
        "colab_type": "code",
        "colab": {
          "base_uri": "https://localhost:8080/",
          "height": 333
        },
        "outputId": "8df2bbb4-4269-458d-b367-ae0a580967f3"
      },
      "source": [
        "import math\n",
        "\n",
        "x_axis = timesLAC\n",
        "plt.style.use('ggplot')\n",
        "plt.hist(x_axis, bins= len(dict.keys()))\n",
        "# plt.hist(x_axis, bins= int(math.sqrt(len(dict.keys()))))\n",
        "plt.xticks(np.arange(min(x_axis), max(x_axis)+1, 10.0))\n",
        "\n",
        "plt.ylabel('Frequency')\n",
        "plt.xlabel('InterArrival Times')\n",
        "plt.title('InterArrival Time vs. Frequency \\nfor Game 1, LAC\\'s 2 & 3 pts')"
      ],
      "execution_count": null,
      "outputs": [
        {
          "output_type": "execute_result",
          "data": {
            "text/plain": [
              "Text(0.5, 1.0, \"InterArrival Time vs. Frequency \\nfor Game 1, LAC's 2 & 3 pts\")"
            ]
          },
          "metadata": {
            "tags": []
          },
          "execution_count": 15
        },
        {
          "output_type": "display_data",
          "data": {
            "image/png": "[encoded data removed]",
            "text/plain": [
              "<Figure size 432x288 with 1 Axes>"
            ]
          },
          "metadata": {
            "tags": []
          }
        }
      ]
    },
    {
      "cell_type": "markdown",
      "metadata": {
        "id": "hjfzmEww5Urb",
        "colab_type": "text"
      },
      "source": [
        "## 12. Interarrival times between ALL 2pts & 3pts for DEN g1\n",
        "\n",
        "\n"
      ]
    },
    {
      "cell_type": "code",
      "metadata": {
        "id": "mYYY5JFz5T50",
        "colab_type": "code",
        "colab": {
          "base_uri": "https://localhost:8080/",
          "height": 54
        },
        "outputId": "15732777-d894-4ee5-8124-ffaca9ec6780"
      },
      "source": [
        "timesDEN = []\n",
        "\n",
        "# Loop to retrieve interarrival times between every shot for LAC\n",
        "for x in range(shots_all_23s_DEN.shape[0]):\n",
        "  # .iloc[x, 0] gets us row x for col 0 (SecLeft in our case)\n",
        "\n",
        "  # very start of quarter, interarrival time is 720 - next time\n",
        "  if x == 0:\n",
        "    time = 720 - shots_all_23s_DEN.iloc[x, 0] \n",
        "\n",
        "  # end of quarter time minus next shot time in new quarter \n",
        "  elif shots_all_23s_DEN.iloc[x-1, 0] < shots_all_23s_DEN.iloc[x, 0]:\n",
        "    time = (720 + shots_all_23s_DEN.iloc[x-1, 0]) - shots_all_23s_DEN.iloc[x, 0]\n",
        "\n",
        "  # Do not record differences of 0 (for instance two back to back freethrows)\n",
        "  # elif shots_all_23s_DEN.iloc[x-1, 0] == shots_all_23s_DEN.iloc[x, 0]:\n",
        "  #  continue\n",
        "\n",
        "  else:\n",
        "    time = shots_all_23s_DEN.iloc[x-1, 0] - shots_all_23s_DEN.iloc[x, 0]\n",
        "  timesDEN.append(time)\n",
        "  # print(time)\n",
        "\n",
        "print(timesDEN)"
      ],
      "execution_count": null,
      "outputs": [
        {
          "output_type": "stream",
          "text": [
            "[37, 7, 17, 36, 25, 19, 23, 27, 50, 70, 111, 20, 47, 34, 6, 53, 83, 53, 40, 25, 16, 22, 25, 27, 44, 21, 23, 41, 29, 40, 17, 25, 42, 60, 67, 13, 28, 22, 30, 64, 20, 16, 6, 31, 71, 44, 64, 41, 29, 29, 42, 33, 35, 36, 40, 41, 63, 41, 19, 55, 26, 5, 15, 31, 28, 18, 6, 58, 4, 11, 27, 22, 35, 23, 30, 28, 11, 44, 7, 72, 9, 38, 17, 21, 15, 0, 40]\n"
          ],
          "name": "stdout"
        }
      ]
    },
    {
      "cell_type": "markdown",
      "metadata": {
        "id": "nFsrfM98UgGY",
        "colab_type": "text"
      },
      "source": [
        "\n",
        "\n",
        "---\n",
        "\n",
        "\n",
        "### **Notes from 07/02/20:**\n",
        "Do the following for 2pts and 3pts (both teams):\n",
        "* First column: SecLeft\n",
        "* Second Column: Quarter\n",
        "* Third Column: Interarrival times amongst all shots ***\n",
        "* Fourth Column: ShotType \n",
        "* 5th column: ShotOutcome\n",
        "\n",
        "\n",
        "---"
      ]
    },
    {
      "cell_type": "markdown",
      "metadata": {
        "id": "dUz17c_enZMg",
        "colab_type": "text"
      },
      "source": [
        "## 13. Export Data (Int. Arrival Times) amongst 2pts & 3pts for both teams g1"
      ]
    },
    {
      "cell_type": "code",
      "metadata": {
        "id": "WR8fACPdTawN",
        "colab_type": "code",
        "colab": {
          "base_uri": "https://localhost:8080/",
          "height": 669
        },
        "outputId": "8600c84f-522b-453b-8d93-2dcdb15c0762"
      },
      "source": [
        "LAC_data = LAC.loc[ (pd.isnull(LAC['ShotType']) == False) & (pd.isnull(LAC['HomePlay']) == False),\n",
        "                   ['SecLeft', 'Quarter', 'ShotType', 'ShotOutcome', 'HomeTeam'] ]\n",
        "                \n",
        "LAC_data.insert(2, 'Int.Arrival Time', timesLAC)\n",
        "# LAC_data.to_csv('/content/drive/My Drive/Colab Notebooks/Research Data/LA Clippers Data.csv', index=False)    \n",
        "LAC_data.head(20)                                                     "
      ],
      "execution_count": null,
      "outputs": [
        {
          "output_type": "execute_result",
          "data": {
            "text/html": [
              "<div>\n",
              "<style scoped>\n",
              "    .dataframe tbody tr th:only-of-type {\n",
              "        vertical-align: middle;\n",
              "    }\n",
              "\n",
              "    .dataframe tbody tr th {\n",
              "        vertical-align: top;\n",
              "    }\n",
              "\n",
              "    .dataframe thead th {\n",
              "        text-align: right;\n",
              "    }\n",
              "</style>\n",
              "<table border=\"1\" class=\"dataframe\">\n",
              "  <thead>\n",
              "    <tr style=\"text-align: right;\">\n",
              "      <th></th>\n",
              "      <th>SecLeft</th>\n",
              "      <th>Quarter</th>\n",
              "      <th>Int.Arrival Time</th>\n",
              "      <th>ShotType</th>\n",
              "      <th>ShotOutcome</th>\n",
              "      <th>HomeTeam</th>\n",
              "    </tr>\n",
              "  </thead>\n",
              "  <tbody>\n",
              "    <tr>\n",
              "      <th>2903</th>\n",
              "      <td>706</td>\n",
              "      <td>1</td>\n",
              "      <td>14</td>\n",
              "      <td>2-pt jump shot</td>\n",
              "      <td>miss</td>\n",
              "      <td>LAC</td>\n",
              "    </tr>\n",
              "    <tr>\n",
              "      <th>2911</th>\n",
              "      <td>641</td>\n",
              "      <td>1</td>\n",
              "      <td>65</td>\n",
              "      <td>3-pt jump shot</td>\n",
              "      <td>make</td>\n",
              "      <td>LAC</td>\n",
              "    </tr>\n",
              "    <tr>\n",
              "      <th>2914</th>\n",
              "      <td>604</td>\n",
              "      <td>1</td>\n",
              "      <td>37</td>\n",
              "      <td>3-pt jump shot</td>\n",
              "      <td>miss</td>\n",
              "      <td>LAC</td>\n",
              "    </tr>\n",
              "    <tr>\n",
              "      <th>2917</th>\n",
              "      <td>582</td>\n",
              "      <td>1</td>\n",
              "      <td>22</td>\n",
              "      <td>2-pt jump shot</td>\n",
              "      <td>miss</td>\n",
              "      <td>LAC</td>\n",
              "    </tr>\n",
              "    <tr>\n",
              "      <th>2921</th>\n",
              "      <td>570</td>\n",
              "      <td>1</td>\n",
              "      <td>12</td>\n",
              "      <td>2-pt hook shot</td>\n",
              "      <td>miss</td>\n",
              "      <td>LAC</td>\n",
              "    </tr>\n",
              "    <tr>\n",
              "      <th>2925</th>\n",
              "      <td>550</td>\n",
              "      <td>1</td>\n",
              "      <td>20</td>\n",
              "      <td>2-pt layup</td>\n",
              "      <td>make</td>\n",
              "      <td>LAC</td>\n",
              "    </tr>\n",
              "    <tr>\n",
              "      <th>2929</th>\n",
              "      <td>498</td>\n",
              "      <td>1</td>\n",
              "      <td>52</td>\n",
              "      <td>2-pt jump shot</td>\n",
              "      <td>miss</td>\n",
              "      <td>LAC</td>\n",
              "    </tr>\n",
              "    <tr>\n",
              "      <th>2933</th>\n",
              "      <td>462</td>\n",
              "      <td>1</td>\n",
              "      <td>36</td>\n",
              "      <td>3-pt jump shot</td>\n",
              "      <td>miss</td>\n",
              "      <td>LAC</td>\n",
              "    </tr>\n",
              "    <tr>\n",
              "      <th>2936</th>\n",
              "      <td>424</td>\n",
              "      <td>1</td>\n",
              "      <td>38</td>\n",
              "      <td>3-pt jump shot</td>\n",
              "      <td>make</td>\n",
              "      <td>LAC</td>\n",
              "    </tr>\n",
              "    <tr>\n",
              "      <th>2941</th>\n",
              "      <td>387</td>\n",
              "      <td>1</td>\n",
              "      <td>37</td>\n",
              "      <td>2-pt jump shot</td>\n",
              "      <td>miss</td>\n",
              "      <td>LAC</td>\n",
              "    </tr>\n",
              "    <tr>\n",
              "      <th>2947</th>\n",
              "      <td>361</td>\n",
              "      <td>1</td>\n",
              "      <td>26</td>\n",
              "      <td>2-pt jump shot</td>\n",
              "      <td>make</td>\n",
              "      <td>LAC</td>\n",
              "    </tr>\n",
              "    <tr>\n",
              "      <th>2952</th>\n",
              "      <td>333</td>\n",
              "      <td>1</td>\n",
              "      <td>28</td>\n",
              "      <td>2-pt jump shot</td>\n",
              "      <td>miss</td>\n",
              "      <td>LAC</td>\n",
              "    </tr>\n",
              "    <tr>\n",
              "      <th>2959</th>\n",
              "      <td>313</td>\n",
              "      <td>1</td>\n",
              "      <td>20</td>\n",
              "      <td>3-pt jump shot</td>\n",
              "      <td>make</td>\n",
              "      <td>LAC</td>\n",
              "    </tr>\n",
              "    <tr>\n",
              "      <th>2961</th>\n",
              "      <td>287</td>\n",
              "      <td>1</td>\n",
              "      <td>26</td>\n",
              "      <td>3-pt jump shot</td>\n",
              "      <td>miss</td>\n",
              "      <td>LAC</td>\n",
              "    </tr>\n",
              "    <tr>\n",
              "      <th>2965</th>\n",
              "      <td>249</td>\n",
              "      <td>1</td>\n",
              "      <td>38</td>\n",
              "      <td>2-pt layup</td>\n",
              "      <td>miss</td>\n",
              "      <td>LAC</td>\n",
              "    </tr>\n",
              "    <tr>\n",
              "      <th>2969</th>\n",
              "      <td>217</td>\n",
              "      <td>1</td>\n",
              "      <td>32</td>\n",
              "      <td>2-pt layup</td>\n",
              "      <td>miss</td>\n",
              "      <td>LAC</td>\n",
              "    </tr>\n",
              "    <tr>\n",
              "      <th>2971</th>\n",
              "      <td>214</td>\n",
              "      <td>1</td>\n",
              "      <td>3</td>\n",
              "      <td>2-pt dunk</td>\n",
              "      <td>make</td>\n",
              "      <td>LAC</td>\n",
              "    </tr>\n",
              "    <tr>\n",
              "      <th>2976</th>\n",
              "      <td>186</td>\n",
              "      <td>1</td>\n",
              "      <td>28</td>\n",
              "      <td>2-pt layup</td>\n",
              "      <td>make</td>\n",
              "      <td>LAC</td>\n",
              "    </tr>\n",
              "    <tr>\n",
              "      <th>2983</th>\n",
              "      <td>152</td>\n",
              "      <td>1</td>\n",
              "      <td>34</td>\n",
              "      <td>2-pt hook shot</td>\n",
              "      <td>make</td>\n",
              "      <td>LAC</td>\n",
              "    </tr>\n",
              "    <tr>\n",
              "      <th>2985</th>\n",
              "      <td>128</td>\n",
              "      <td>1</td>\n",
              "      <td>24</td>\n",
              "      <td>2-pt jump shot</td>\n",
              "      <td>make</td>\n",
              "      <td>LAC</td>\n",
              "    </tr>\n",
              "  </tbody>\n",
              "</table>\n",
              "</div>"
            ],
            "text/plain": [
              "      SecLeft  Quarter  Int.Arrival Time        ShotType ShotOutcome HomeTeam\n",
              "2903      706        1                14  2-pt jump shot        miss      LAC\n",
              "2911      641        1                65  3-pt jump shot        make      LAC\n",
              "2914      604        1                37  3-pt jump shot        miss      LAC\n",
              "2917      582        1                22  2-pt jump shot        miss      LAC\n",
              "2921      570        1                12  2-pt hook shot        miss      LAC\n",
              "2925      550        1                20      2-pt layup        make      LAC\n",
              "2929      498        1                52  2-pt jump shot        miss      LAC\n",
              "2933      462        1                36  3-pt jump shot        miss      LAC\n",
              "2936      424        1                38  3-pt jump shot        make      LAC\n",
              "2941      387        1                37  2-pt jump shot        miss      LAC\n",
              "2947      361        1                26  2-pt jump shot        make      LAC\n",
              "2952      333        1                28  2-pt jump shot        miss      LAC\n",
              "2959      313        1                20  3-pt jump shot        make      LAC\n",
              "2961      287        1                26  3-pt jump shot        miss      LAC\n",
              "2965      249        1                38      2-pt layup        miss      LAC\n",
              "2969      217        1                32      2-pt layup        miss      LAC\n",
              "2971      214        1                 3       2-pt dunk        make      LAC\n",
              "2976      186        1                28      2-pt layup        make      LAC\n",
              "2983      152        1                34  2-pt hook shot        make      LAC\n",
              "2985      128        1                24  2-pt jump shot        make      LAC"
            ]
          },
          "metadata": {
            "tags": []
          },
          "execution_count": 17
        }
      ]
    },
    {
      "cell_type": "code",
      "metadata": {
        "id": "NB35mHhycJj1",
        "colab_type": "code",
        "colab": {}
      },
      "source": [
        "DEN_data = LAC.loc[ (pd.isnull(LAC['ShotType']) == False) & (pd.isnull(LAC['AwayPlay']) == False),\n",
        "                   ['SecLeft', 'Quarter', 'ShotType', 'ShotOutcome', 'AwayTeam'] ]\n",
        "                \n",
        "DEN_data.insert(2, 'Int.Arrival Time', timesDEN)\n",
        "# DEN_data.to_csv('/content/drive/My Drive/Colab Notebooks/Research Data/DEN Nuggets Data.csv', index=False)             \n",
        "# DEN_data.head(20)   "
      ],
      "execution_count": null,
      "outputs": []
    },
    {
      "cell_type": "markdown",
      "metadata": {
        "id": "XQ9PxW11VxdQ",
        "colab_type": "text"
      },
      "source": [
        "\n",
        "  \n",
        "---\n",
        "## Notes for later:\n",
        "Finish gathering InterArrival times for the remaining ShotTypes\n",
        "\n",
        "\n",
        "---\n",
        "\n",
        "\n"
      ]
    },
    {
      "cell_type": "markdown",
      "metadata": {
        "id": "uusjdEEUNXUa",
        "colab_type": "text"
      },
      "source": [
        "## 14.  Interarrival times between ALL 2pts for LAC g1"
      ]
    },
    {
      "cell_type": "code",
      "metadata": {
        "id": "3jio1OWsxahK",
        "colab_type": "code",
        "colab": {
          "base_uri": "https://localhost:8080/",
          "height": 54
        },
        "outputId": "d90e3c13-3669-42c3-f683-0bb00a9b880a"
      },
      "source": [
        "times_2sLAC = []\n",
        "\n",
        "# Loop to retrieve interarrival times between every shot for LAC\n",
        "for x in range(shots_2s_LAC.shape[0]):\n",
        "  # .iloc[x, 0] gets us row x for col 0 (SecLeft in our case)\n",
        "\n",
        "  # very start of quarter, interarrival time is 720 - next time\n",
        "  if x == 0:\n",
        "    time = 720 - shots_2s_LAC.iloc[x, 0] \n",
        "\n",
        "  # end of quarter time minus next shot time in new quarter \n",
        "  elif shots_2s_LAC.iloc[x-1, 0] < shots_2s_LAC.iloc[x, 0]:\n",
        "    time = (720 + shots_2s_LAC.iloc[x-1, 0]) - shots_2s_LAC.iloc[x, 0]\n",
        "\n",
        "  # Do not record differences of 0 (for instance two back to back freethrows)\n",
        "  # elif shots_2s_LAC.iloc[x-1, 0] == shots_2s_LAC.iloc[x, 0]:\n",
        "  #  continue\n",
        "\n",
        "  else:\n",
        "    time = shots_2s_LAC.iloc[x-1, 0] - shots_2s_LAC.iloc[x, 0]\n",
        "  times_2sLAC.append(time)\n",
        "  # print(time)\n",
        "\n",
        "print(times_2sLAC)"
      ],
      "execution_count": null,
      "outputs": [
        {
          "output_type": "stream",
          "text": [
            "[14, 124, 12, 20, 52, 111, 26, 28, 84, 32, 3, 28, 34, 24, 107, 41, 2, 32, 14, 53, 19, 41, 50, 61, 38, 85, 43, 3, 15, 48, 45, 41, 34, 4, 5, 42, 54, 32, 149, 23, 35, 33, 57, 5, 92, 33, 111, 29, 27, 32, 57, 23, 29, 21, 111, 64, 33, 184, 202, 23]\n"
          ],
          "name": "stdout"
        }
      ]
    },
    {
      "cell_type": "markdown",
      "metadata": {
        "id": "BbiBq5rKNv6x",
        "colab_type": "text"
      },
      "source": [
        "## 15. Interarrival times between ALL 2pts for DEN g1"
      ]
    },
    {
      "cell_type": "code",
      "metadata": {
        "id": "cIOf1rgPNu8l",
        "colab_type": "code",
        "colab": {
          "base_uri": "https://localhost:8080/",
          "height": 54
        },
        "outputId": "6da3d5e8-4ed8-4f28-b42f-59a0d73d15d0"
      },
      "source": [
        "times_2sDEN = []\n",
        "\n",
        "# Loop to retrieve interarrival times between every shot for LAC\n",
        "for x in range(shots_2s_DEN.shape[0]):\n",
        "  # .iloc[x, 0] gets us row x for col 0 (SecLeft in our case)\n",
        "\n",
        "  # very start of quarter, interarrival time is 720 - next time\n",
        "  if x == 0:\n",
        "    time = 720 - shots_2s_DEN.iloc[x, 0] \n",
        "  \n",
        "  # end of quarter time minus next shot time in new quarter \n",
        "  elif shots_2s_DEN.iloc[x-1, 0] < shots_2s_DEN.iloc[x, 0]:\n",
        "    time = (720 + shots_2s_DEN.iloc[x-1, 0]) - shots_2s_DEN.iloc[x, 0]\n",
        "\n",
        "  # Do not record differences of 0 (for instance two back to back freethrows)\n",
        "  # elif shots_all_23s_DEN.iloc[x-1, 0] == shots_all_23s_DEN.iloc[x, 0]:\n",
        "  #  continue\n",
        "\n",
        "  else:\n",
        "    time = shots_2s_DEN.iloc[x-1, 0] - shots_2s_DEN.iloc[x, 0]\n",
        "  times_2sDEN.append(time)\n",
        "  # print(time)\n",
        "\n",
        "print(times_2sDEN)"
      ],
      "execution_count": null,
      "outputs": [
        {
          "output_type": "stream",
          "text": [
            "[97, 25, 19, 23, 27, 120, 111, 20, 47, 34, 6, 189, 40, 25, 38, 25, 27, 44, 21, 23, 70, 57, 67, 60, 130, 94, 20, 16, 6, 31, 71, 44, 64, 41, 100, 33, 35, 36, 40, 41, 104, 74, 26, 5, 15, 31, 46, 6, 58, 4, 38, 57, 23, 30, 28, 11, 51, 72, 64, 21, 15, 0, 40]\n"
          ],
          "name": "stdout"
        }
      ]
    },
    {
      "cell_type": "markdown",
      "metadata": {
        "id": "wckYS7ri7V9m",
        "colab_type": "text"
      },
      "source": [
        "## 16. Export Data (Int. Arrival Times) amongst 2pts for both teams g1"
      ]
    },
    {
      "cell_type": "code",
      "metadata": {
        "id": "UD7LVb_47ZGY",
        "colab_type": "code",
        "colab": {}
      },
      "source": [
        "LAC_data_2s = shots_all_LAC.loc[ (pd.isnull(shots_all_LAC['ShotType']) == False) & (shots_all_LAC['ShotType'].str.contains('2-pt')),\n",
        "                            ['SecLeft', 'ShotType', 'ShotOutcome', 'HomeTeam'] ]\n",
        "                \n",
        "LAC_data_2s.insert(2, 'Int.Arrival Time', times_2sLAC)\n",
        "# LAC_data_2s.to_csv('/content/drive/My Drive/Colab Notebooks/Research Data/LA Clippers Data.csv', index=False)      \n",
        "# LAC_data_2s.head(20) "
      ],
      "execution_count": null,
      "outputs": []
    },
    {
      "cell_type": "code",
      "metadata": {
        "id": "rY0jMOAN863R",
        "colab_type": "code",
        "colab": {}
      },
      "source": [
        "DEN_data_2s = shots_all_DEN.loc[ (pd.isnull(shots_all_DEN['ShotType']) == False) & (shots_all_DEN['ShotType'].str.contains('2-pt')),\n",
        "                         ['SecLeft', 'ShotType', 'ShotOutcome', 'AwayTeam'] ]\n",
        "                \n",
        "DEN_data_2s.insert(2, 'Int.Arrival Time', times_2sDEN)\n",
        "# DEN_data_2s.to_csv('/content/drive/My Drive/Colab Notebooks/Research Data/LA Clippers Data.csv', index=False)      \n",
        "# DEN_data_2s.head(20) "
      ],
      "execution_count": null,
      "outputs": []
    },
    {
      "cell_type": "markdown",
      "metadata": {
        "id": "rm7W6J19Npam",
        "colab_type": "text"
      },
      "source": [
        "## 17. Interarrival times between ALL 3pts for LAC g1\n",
        "\n"
      ]
    },
    {
      "cell_type": "code",
      "metadata": {
        "id": "WoTWtqL2yMuI",
        "colab_type": "code",
        "colab": {
          "base_uri": "https://localhost:8080/",
          "height": 34
        },
        "outputId": "b6ac4779-df2c-4422-bd48-0f687ec74a0b"
      },
      "source": [
        "times_3sLAC = []\n",
        "\n",
        "# Loop to retrieve interarrival times between every shot for LAC\n",
        "for x in range(shots_3s_LAC.shape[0]):\n",
        "  # .iloc[x, 0] gets us row x for col 0 (SecLeft in our case)\n",
        "\n",
        "  # very start of quarter, interarrival time is 720 - next time\n",
        "  if x == 0:\n",
        "    time = 720 - shots_3s_LAC.iloc[x, 0] \n",
        "\n",
        "  # end of quarter time minus next shot time in new quarter \n",
        "  elif shots_3s_LAC.iloc[x-1, 0] < shots_3s_LAC.iloc[x, 0]:\n",
        "    time = (720 + shots_3s_LAC.iloc[x-1, 0]) - shots_3s_LAC.iloc[x, 0]\n",
        "\n",
        "  # Do not record differences of 0 (for instance two back to back freethrows)\n",
        "  # elif shots_3s_LAC.iloc[x-1, 0] == shots_3s_LAC.iloc[x, 0]:\n",
        "  #  continue\n",
        "\n",
        "  else:\n",
        "    time = shots_3s_LAC.iloc[x-1, 0] - shots_3s_LAC.iloc[x, 0]\n",
        "  times_3sLAC.append(time)\n",
        "  # print(time)\n",
        "\n",
        "print(times_3sLAC)"
      ],
      "execution_count": null,
      "outputs": [
        {
          "output_type": "stream",
          "text": [
            "[79, 37, 142, 38, 111, 26, 377, 141, 93, 59, 170, 40, 212, 72, 171, 6, 181, 30, 17, 282, 46, 78, 114, 25, 58, 205, 48, 8]\n"
          ],
          "name": "stdout"
        }
      ]
    },
    {
      "cell_type": "markdown",
      "metadata": {
        "id": "R_qbGtLWOBB8",
        "colab_type": "text"
      },
      "source": [
        "## 18. Interarrival times between ALL 3pts for DEN g1"
      ]
    },
    {
      "cell_type": "code",
      "metadata": {
        "id": "a12gcyYeOCTJ",
        "colab_type": "code",
        "colab": {
          "base_uri": "https://localhost:8080/",
          "height": 34
        },
        "outputId": "6046cb55-fa61-4cbd-ff5c-2e81d158a688"
      },
      "source": [
        "times_3sDEN = []\n",
        "\n",
        "# Loop to retrieve interarrival times between every shot for LAC\n",
        "for x in range(shots_3s_DEN.shape[0]):\n",
        "  # .iloc[x, 0] gets us row x for col 0 (SecLeft in our case)\n",
        "\n",
        "  # very start of quarter, interarrival time is 720 - next time\n",
        "  if x == 0:\n",
        "    time = 720 - shots_3s_DEN.iloc[x, 0] \n",
        "\n",
        "  # end of quarter time minus next shot time in new quarter \n",
        "  elif shots_3s_DEN.iloc[x-1, 0] < shots_3s_DEN.iloc[x, 0]:\n",
        "    time = (720 + shots_3s_DEN.iloc[x-1, 0]) - shots_3s_DEN.iloc[x, 0]\n",
        "\n",
        "  # Do not record differences of 0 (for instance two back to back freethrows)\n",
        "  # elif shots_3s_DEN.iloc[x-1, 0] == shots_3s_DEN.iloc[x, 0]:\n",
        "  #  continue\n",
        "\n",
        "  else:\n",
        "    time = shots_3s_DEN.iloc[x-1, 0] - shots_3s_DEN.iloc[x, 0]\n",
        "  times_3sDEN.append(time)\n",
        "  # print(time)\n",
        "\n",
        "print(times_3sDEN)"
      ],
      "execution_count": null,
      "outputs": [
        {
          "output_type": "stream",
          "text": [
            "[37, 7, 17, 180, 341, 83, 134, 203, 69, 42, 169, 13, 28, 52, 386, 29, 290, 60, 160, 97, 49, 171, 88, 38]\n"
          ],
          "name": "stdout"
        }
      ]
    },
    {
      "cell_type": "markdown",
      "metadata": {
        "id": "mwAUt4QWAuVf",
        "colab_type": "text"
      },
      "source": [
        "## 19. Export Data (Int. Arrival Times) amongst 3pts for both teams g1"
      ]
    },
    {
      "cell_type": "code",
      "metadata": {
        "id": "ZD_jfXllBLAE",
        "colab_type": "code",
        "colab": {}
      },
      "source": [
        "LAC_data_3s = shots_all_LAC.loc[ (pd.isnull(shots_all_LAC['ShotType']) == False) & (shots_all_LAC['ShotType'].str.contains('3-pt')),\n",
        "                         ['SecLeft', 'ShotType', 'ShotOutcome', 'HomeTeam'] ]\n",
        "                \n",
        "LAC_data_3s.insert(2, 'Int.Arrival Time', times_3sLAC)\n",
        "# LAC_data_3s.to_csv('/content/drive/My Drive/Colab Notebooks/Research Data/LA Clippers Data.csv', index=False)      \n",
        "# LAC_data_3s.head(20) "
      ],
      "execution_count": null,
      "outputs": []
    },
    {
      "cell_type": "code",
      "metadata": {
        "id": "MMLgsUb8Bjcj",
        "colab_type": "code",
        "colab": {}
      },
      "source": [
        "DEN_data_3s = shots_all_DEN.loc[ (pd.isnull(shots_all_DEN['ShotType']) == False) & (shots_all_DEN['ShotType'].str.contains('3-pt')),\n",
        "                         ['SecLeft', 'ShotType', 'ShotOutcome', 'AwayTeam'] ]\n",
        "                \n",
        "DEN_data_3s.insert(2, 'Int.Arrival Time', times_3sDEN)\n",
        "# DEN_data_3s.to_csv('/content/drive/My Drive/Colab Notebooks/Research Data/LA Clippers Data.csv', index=False)      \n",
        "# DEN_data_3s.head(20) "
      ],
      "execution_count": null,
      "outputs": []
    },
    {
      "cell_type": "markdown",
      "metadata": {
        "id": "P_2-LRA9uTYC",
        "colab_type": "text"
      },
      "source": [
        "## 20. Gather Data from ALL LAC vs. DEN Regular Games"
      ]
    },
    {
      "cell_type": "code",
      "metadata": {
        "id": "PtdsJOpquCuZ",
        "colab_type": "code",
        "colab": {
          "base_uri": "https://localhost:8080/",
          "height": 34
        },
        "outputId": "ed98c2fd-42b2-40f4-92f4-8b8fac91a129"
      },
      "source": [
        "LAC_DEN = nba.loc[ ((nba['HomeTeam'] == 'LAC') & (nba['AwayTeam'] == 'DEN') | (nba['AwayTeam'] == 'LAC') & (nba['HomeTeam'] == 'DEN')) & (nba['GameType'] == 'regular') ]\n",
        "LAC_DEN.shape\n",
        "#LAC_DEN.head(20)"
      ],
      "execution_count": null,
      "outputs": [
        {
          "output_type": "execute_result",
          "data": {
            "text/plain": [
              "(1961, 40)"
            ]
          },
          "metadata": {
            "tags": []
          },
          "execution_count": 27
        }
      ]
    },
    {
      "cell_type": "markdown",
      "metadata": {
        "id": "fnakjbi3LuhL",
        "colab_type": "text"
      },
      "source": [
        "## 21. Split Data by Date and create separate Dataframes"
      ]
    },
    {
      "cell_type": "code",
      "metadata": {
        "id": "KmbjXneluCeg",
        "colab_type": "code",
        "colab": {
          "base_uri": "https://localhost:8080/",
          "height": 34
        },
        "outputId": "c8bb6bfd-c214-4879-b76a-bb9b34b4e750"
      },
      "source": [
        "dates = []\n",
        "dates.append(LAC_DEN.iloc[0,3])\n",
        "# iterate through data to record dates of games\n",
        "for date in range(LAC_DEN.shape[0]-1):\n",
        "  if LAC_DEN.iloc[date+1, 3] != LAC_DEN.iloc[date, 3]:\n",
        "    dates.append(LAC_DEN.iloc[date+1, 3] + ' -Starts at pos: ' + str(date+1))\n",
        "print(dates)"
      ],
      "execution_count": null,
      "outputs": [
        {
          "output_type": "stream",
          "text": [
            "['October 17 2018', 'December 22 2018 -Starts at pos: 511', 'January 10 2019 -Starts at pos: 975', 'February 24 2019 -Starts at pos: 1435']\n"
          ],
          "name": "stdout"
        }
      ]
    },
    {
      "cell_type": "code",
      "metadata": {
        "id": "QnuP5SUUuCLI",
        "colab_type": "code",
        "colab": {}
      },
      "source": [
        "# LAC vs DEN Game 1\n",
        "LAC1 = LAC_DEN.iloc[0:511]\n",
        "# LAC vs DEN Game 2\n",
        "LAC2 = LAC_DEN.iloc[511:975]\n",
        "# LAC vs DEN Game 3\n",
        "LAC3 = LAC_DEN.iloc[975:1435]\n",
        "# LAC vs DEN Game 4\n",
        "LAC4 = LAC_DEN.iloc[1435:]\n",
        "\n",
        "# LAC4.head(10)"
      ],
      "execution_count": null,
      "outputs": []
    },
    {
      "cell_type": "markdown",
      "metadata": {
        "id": "dGsdhOTew59a",
        "colab_type": "text"
      },
      "source": [
        "## Update: 07.10.20\n",
        "## 22. Let's split the NBA data by ShotType for LAC vs DEN (regular game 1, OCT 17th)"
      ]
    },
    {
      "cell_type": "code",
      "metadata": {
        "id": "0AczUP4ExJn2",
        "colab_type": "code",
        "colab": {
          "base_uri": "https://localhost:8080/",
          "height": 34
        },
        "outputId": "01474e8b-be34-454b-8865-57c342437764"
      },
      "source": [
        "# Display the rows ONLY containing freethrows, 2pts and 3pts (all shots) taken by Both Teams \n",
        "shots_all_LD1 = LAC1.loc[ (pd.isnull(LAC['ShotType']) == False) | (pd.isnull(LAC1['FreeThrowOutcome']) == False),\n",
        "                      ['SecLeft', 'ShotType', 'ShotOutcome', 'FreeThrowOutcome', 'HomePlay', 'HomeTeam', 'AwayTeam'] ] \n",
        "\n",
        "# Display the rows ONLY containing 2pts and 3pts taken by HomeTeam\n",
        "shots_all_23s_LD1 = LAC1.loc[ (pd.isnull(LAC1['ShotType']) == False),\n",
        "                      ['SecLeft', 'ShotType', 'ShotOutcome', 'HomePlay'] ] \n",
        "\n",
        "shots_all_23s_LD1.rename(columns={'HomePlay': 'Which Team?'}, inplace=True)\n",
        "\n",
        "# this for loop iterates through df and assigns a team to 'Which Team' column\n",
        "# using 'HomePlay' as an indicator and getting the value to be assigned from\n",
        "# either 'HomeTeam' or 'AwayTeam' hence shots_all_LD4.iloc[pos, 5/6]\n",
        "for pos in range(shots_all_23s_LD1.shape[0]):\n",
        "  if pd.isnull(shots_all_23s_LD1.iloc[pos, 3]) == False:\n",
        "    shots_all_23s_LD1.iloc[pos, 3] = shots_all_LD1.iloc[pos, 5]\n",
        "  else:\n",
        "    shots_all_23s_LD1.iloc[pos, 3] = shots_all_LD1.iloc[pos, 6]\n",
        "\n",
        "\n",
        "# Gather all 2pts made by HomeTeam and have it side by side with SecLeft \n",
        "shots_2s_LD1 = shots_all_LD1.loc[ (pd.isnull(shots_all_LD1['ShotType']) == False) & (shots_all_LD1['ShotType'].str.contains('2-pt')),\n",
        "                         ['SecLeft', 'ShotType', 'ShotOutcome', 'HomePlay'] ]\n",
        "\n",
        "\n",
        "# Gather all 3pts made by HomeTeam and have it side by side with SecLeft \n",
        "shots_3s_LD1 = shots_all_LD1.loc[ (pd.isnull(shots_all_LD1['ShotType']) == False) & (shots_all_LD1['ShotType'].str.contains('3-pt')),\n",
        "                         ['SecLeft', 'ShotType', 'ShotOutcome', 'HomePlay'] ]\n",
        "\n",
        "# Gather all 1pts made by HomeTeam and have it side by side with SecLeft \n",
        "shots_1s_LD1 = shots_all_LD1.loc[pd.isnull(shots_all_LD1['FreeThrowOutcome']) == False, \n",
        "                               ['SecLeft', 'FreeThrowOutcome', 'HomePlay'] ]\n",
        "\n",
        "\n",
        "shots_2s_LD1.head(10)\n",
        "# shots_3s_LD1.head(10)\n",
        "# shots_1s_LD1.head(10)\n",
        "\n",
        "# shots_all_23s_LD1.head(60) \n",
        "shots_all_23s_LD1.shape[0]"
      ],
      "execution_count": null,
      "outputs": [
        {
          "output_type": "execute_result",
          "data": {
            "text/plain": [
              "175"
            ]
          },
          "metadata": {
            "tags": []
          },
          "execution_count": 30
        }
      ]
    },
    {
      "cell_type": "markdown",
      "metadata": {
        "id": "7eUqsvfN0NXM",
        "colab_type": "text"
      },
      "source": [
        "## 23. Interarrival times between ALL 2pts & 3pts for LAC & DEN g1"
      ]
    },
    {
      "cell_type": "code",
      "metadata": {
        "id": "ocmZSy190e1e",
        "colab_type": "code",
        "colab": {
          "base_uri": "https://localhost:8080/",
          "height": 473
        },
        "outputId": "053180e4-ccdb-47d4-c6ce-906f1146bf6b"
      },
      "source": [
        "timesLD1 = []\n",
        "\n",
        "# Loop to retrieve interarrival times between every shot for LAC\n",
        "for x in range(shots_all_23s_LD1.shape[0]):\n",
        "  # .iloc[x, 0] gets us row x for col 0 (SecLeft in our case)\n",
        "\n",
        "  # very start of quarter, interarrival time is 720 - next time\n",
        "  if x == 0:\n",
        "    time = 720 - shots_all_23s_LD1.iloc[x, 0] \n",
        "\n",
        "  # end of quarter time minus next shot time in new quarter \n",
        "  elif shots_all_23s_LD1.iloc[x-1, 0] < shots_all_23s_LD1.iloc[x, 0]:\n",
        "    time = (720 + shots_all_23s_LD1.iloc[x-1, 0]) - shots_all_23s_LD1.iloc[x, 0]\n",
        "\n",
        "  # Do not record differences of 0 (for instance two back to back freethrows)\n",
        "  # elif shots_all_23s_LD1.iloc[x-1, 0] == shots_all_23s_LD1.iloc[x, 0]:\n",
        "  #  continue\n",
        "\n",
        "  else:\n",
        "    time = shots_all_23s_LD1.iloc[x-1, 0] - shots_all_23s_LD1.iloc[x, 0]\n",
        "  timesLD1.append(time)\n",
        "  # print(timeLD1)\n",
        "\n",
        "print(timesLD1)\n",
        "\n",
        "dict1 = {}\n",
        "for val in range(len(timesLD1)):\n",
        "  time = timesLD1[val]\n",
        "  dict1[time] = dict1.get(time, 0) + 1\n",
        "print(len(dict1.keys()))\n",
        "\n",
        "df = pd.DataFrame(timesLD1, columns=['InterArrival Times'])\n",
        "df"
      ],
      "execution_count": null,
      "outputs": [
        {
          "output_type": "stream",
          "text": [
            "[14, 23, 7, 17, 18, 18, 19, 6, 16, 3, 9, 14, 6, 21, 31, 19, 17, 38, 15, 22, 26, 28, 20, 15, 11, 9, 29, 18, 14, 3, 17, 6, 5, 34, 14, 10, 73, 34, 19, 22, 2, 16, 16, 9, 5, 11, 11, 11, 20, 5, 14, 13, 28, 16, 21, 13, 0, 10, 41, 10, 19, 13, 6, 21, 17, 15, 10, 22, 20, 23, 3, 15, 19, 29, 29, 9, 7, 6, 18, 10, 7, 15, 19, 4, 5, 2, 40, 24, 20, 10, 6, 6, 20, 11, 13, 58, 14, 30, 23, 23, 18, 17, 24, 9, 20, 7, 6, 16, 8, 5, 29, 33, 30, 5, 28, 8, 19, 21, 9, 17, 15, 22, 29, 12, 15, 26, 6, 13, 44, 11, 12, 14, 5, 10, 5, 16, 15, 12, 16, 18, 6, 6, 38, 14, 4, 11, 11, 16, 8, 14, 19, 16, 23, 18, 12, 13, 15, 11, 32, 12, 7, 25, 47, 9, 38, 17, 21, 15, 0, 14, 26, 15, 7, 8, 8]\n",
            "40\n"
          ],
          "name": "stdout"
        },
        {
          "output_type": "execute_result",
          "data": {
            "text/html": [
              "<div>\n",
              "<style scoped>\n",
              "    .dataframe tbody tr th:only-of-type {\n",
              "        vertical-align: middle;\n",
              "    }\n",
              "\n",
              "    .dataframe tbody tr th {\n",
              "        vertical-align: top;\n",
              "    }\n",
              "\n",
              "    .dataframe thead th {\n",
              "        text-align: right;\n",
              "    }\n",
              "</style>\n",
              "<table border=\"1\" class=\"dataframe\">\n",
              "  <thead>\n",
              "    <tr style=\"text-align: right;\">\n",
              "      <th></th>\n",
              "      <th>InterArrival Times</th>\n",
              "    </tr>\n",
              "  </thead>\n",
              "  <tbody>\n",
              "    <tr>\n",
              "      <th>0</th>\n",
              "      <td>14</td>\n",
              "    </tr>\n",
              "    <tr>\n",
              "      <th>1</th>\n",
              "      <td>23</td>\n",
              "    </tr>\n",
              "    <tr>\n",
              "      <th>2</th>\n",
              "      <td>7</td>\n",
              "    </tr>\n",
              "    <tr>\n",
              "      <th>3</th>\n",
              "      <td>17</td>\n",
              "    </tr>\n",
              "    <tr>\n",
              "      <th>4</th>\n",
              "      <td>18</td>\n",
              "    </tr>\n",
              "    <tr>\n",
              "      <th>...</th>\n",
              "      <td>...</td>\n",
              "    </tr>\n",
              "    <tr>\n",
              "      <th>170</th>\n",
              "      <td>26</td>\n",
              "    </tr>\n",
              "    <tr>\n",
              "      <th>171</th>\n",
              "      <td>15</td>\n",
              "    </tr>\n",
              "    <tr>\n",
              "      <th>172</th>\n",
              "      <td>7</td>\n",
              "    </tr>\n",
              "    <tr>\n",
              "      <th>173</th>\n",
              "      <td>8</td>\n",
              "    </tr>\n",
              "    <tr>\n",
              "      <th>174</th>\n",
              "      <td>8</td>\n",
              "    </tr>\n",
              "  </tbody>\n",
              "</table>\n",
              "<p>175 rows × 1 columns</p>\n",
              "</div>"
            ],
            "text/plain": [
              "     InterArrival Times\n",
              "0                    14\n",
              "1                    23\n",
              "2                     7\n",
              "3                    17\n",
              "4                    18\n",
              "..                  ...\n",
              "170                  26\n",
              "171                  15\n",
              "172                   7\n",
              "173                   8\n",
              "174                   8\n",
              "\n",
              "[175 rows x 1 columns]"
            ]
          },
          "metadata": {
            "tags": []
          },
          "execution_count": 31
        }
      ]
    },
    {
      "cell_type": "code",
      "metadata": {
        "id": "RxRphlON1Xjp",
        "colab_type": "code",
        "colab": {
          "base_uri": "https://localhost:8080/",
          "height": 333
        },
        "outputId": "a183ca54-a79f-4c96-fba9-7661ae9e7380"
      },
      "source": [
        "import math\n",
        "\n",
        "x_axis = timesLD1\n",
        "plt.style.use('ggplot')\n",
        "plt.hist(x_axis, bins= len(dict1.keys()))\n",
        "# plt.hist(x_axis, bins= int(math.sqrt(len(dict.keys()))))\n",
        "plt.xticks(np.arange(min(x_axis), max(x_axis)+1, 10.0))\n",
        "\n",
        "plt.ylabel('Frequency')\n",
        "plt.xlabel('InterArrival Times')\n",
        "plt.title('InterArrival Time vs. Frequency \\nfor Game 1, LAC AND DEN\\'s 2 & 3 pts')"
      ],
      "execution_count": null,
      "outputs": [
        {
          "output_type": "execute_result",
          "data": {
            "text/plain": [
              "Text(0.5, 1.0, \"InterArrival Time vs. Frequency \\nfor Game 1, LAC AND DEN's 2 & 3 pts\")"
            ]
          },
          "metadata": {
            "tags": []
          },
          "execution_count": 32
        },
        {
          "output_type": "display_data",
          "data": {
            "image/png": "[encoded data removed]",
            "text/plain": [
              "<Figure size 432x288 with 1 Axes>"
            ]
          },
          "metadata": {
            "tags": []
          }
        }
      ]
    },
    {
      "cell_type": "markdown",
      "metadata": {
        "id": "taO4G6rj4pIj",
        "colab_type": "text"
      },
      "source": [
        "## 24. Export Data (Int. Arrival Times) amongst 2pts & 3pts for both teams g1"
      ]
    },
    {
      "cell_type": "code",
      "metadata": {
        "id": "1QBNWhdr4tao",
        "colab_type": "code",
        "colab": {
          "base_uri": "https://localhost:8080/",
          "height": 669
        },
        "outputId": "6c6a05ef-5bf2-44eb-d9a2-a8032ea0010b"
      },
      "source": [
        "LD1_data = shots_all_23s_LD1\n",
        "                \n",
        "LD1_data.insert(2, 'Int.Arrival Time', timesLD1)\n",
        "#LD1_data.to_csv('/content/drive/My Drive/Colab Notebooks/Research Data/LD1 Data.csv', index=False)\n",
        "#LD1_data.loc[:,['Int.Arrival Time']].to_csv('/content/drive/My Drive/Colab Notebooks/Research Data/Int. Times, LD1 Data.csv', index=False)           \n",
        "LD1_data.head(20) "
      ],
      "execution_count": null,
      "outputs": [
        {
          "output_type": "execute_result",
          "data": {
            "text/html": [
              "<div>\n",
              "<style scoped>\n",
              "    .dataframe tbody tr th:only-of-type {\n",
              "        vertical-align: middle;\n",
              "    }\n",
              "\n",
              "    .dataframe tbody tr th {\n",
              "        vertical-align: top;\n",
              "    }\n",
              "\n",
              "    .dataframe thead th {\n",
              "        text-align: right;\n",
              "    }\n",
              "</style>\n",
              "<table border=\"1\" class=\"dataframe\">\n",
              "  <thead>\n",
              "    <tr style=\"text-align: right;\">\n",
              "      <th></th>\n",
              "      <th>SecLeft</th>\n",
              "      <th>ShotType</th>\n",
              "      <th>Int.Arrival Time</th>\n",
              "      <th>ShotOutcome</th>\n",
              "      <th>Which Team?</th>\n",
              "    </tr>\n",
              "  </thead>\n",
              "  <tbody>\n",
              "    <tr>\n",
              "      <th>2903</th>\n",
              "      <td>706</td>\n",
              "      <td>2-pt jump shot</td>\n",
              "      <td>14</td>\n",
              "      <td>miss</td>\n",
              "      <td>LAC</td>\n",
              "    </tr>\n",
              "    <tr>\n",
              "      <th>2905</th>\n",
              "      <td>683</td>\n",
              "      <td>3-pt jump shot</td>\n",
              "      <td>23</td>\n",
              "      <td>miss</td>\n",
              "      <td>DEN</td>\n",
              "    </tr>\n",
              "    <tr>\n",
              "      <th>2907</th>\n",
              "      <td>676</td>\n",
              "      <td>3-pt jump shot</td>\n",
              "      <td>7</td>\n",
              "      <td>miss</td>\n",
              "      <td>DEN</td>\n",
              "    </tr>\n",
              "    <tr>\n",
              "      <th>2909</th>\n",
              "      <td>659</td>\n",
              "      <td>3-pt jump shot</td>\n",
              "      <td>17</td>\n",
              "      <td>miss</td>\n",
              "      <td>DEN</td>\n",
              "    </tr>\n",
              "    <tr>\n",
              "      <th>2911</th>\n",
              "      <td>641</td>\n",
              "      <td>3-pt jump shot</td>\n",
              "      <td>18</td>\n",
              "      <td>make</td>\n",
              "      <td>LAC</td>\n",
              "    </tr>\n",
              "    <tr>\n",
              "      <th>2912</th>\n",
              "      <td>623</td>\n",
              "      <td>2-pt jump shot</td>\n",
              "      <td>18</td>\n",
              "      <td>miss</td>\n",
              "      <td>DEN</td>\n",
              "    </tr>\n",
              "    <tr>\n",
              "      <th>2914</th>\n",
              "      <td>604</td>\n",
              "      <td>3-pt jump shot</td>\n",
              "      <td>19</td>\n",
              "      <td>miss</td>\n",
              "      <td>LAC</td>\n",
              "    </tr>\n",
              "    <tr>\n",
              "      <th>2916</th>\n",
              "      <td>598</td>\n",
              "      <td>2-pt dunk</td>\n",
              "      <td>6</td>\n",
              "      <td>make</td>\n",
              "      <td>DEN</td>\n",
              "    </tr>\n",
              "    <tr>\n",
              "      <th>2917</th>\n",
              "      <td>582</td>\n",
              "      <td>2-pt jump shot</td>\n",
              "      <td>16</td>\n",
              "      <td>miss</td>\n",
              "      <td>LAC</td>\n",
              "    </tr>\n",
              "    <tr>\n",
              "      <th>2919</th>\n",
              "      <td>579</td>\n",
              "      <td>2-pt dunk</td>\n",
              "      <td>3</td>\n",
              "      <td>miss</td>\n",
              "      <td>DEN</td>\n",
              "    </tr>\n",
              "    <tr>\n",
              "      <th>2921</th>\n",
              "      <td>570</td>\n",
              "      <td>2-pt hook shot</td>\n",
              "      <td>9</td>\n",
              "      <td>miss</td>\n",
              "      <td>LAC</td>\n",
              "    </tr>\n",
              "    <tr>\n",
              "      <th>2923</th>\n",
              "      <td>556</td>\n",
              "      <td>2-pt layup</td>\n",
              "      <td>14</td>\n",
              "      <td>miss</td>\n",
              "      <td>DEN</td>\n",
              "    </tr>\n",
              "    <tr>\n",
              "      <th>2925</th>\n",
              "      <td>550</td>\n",
              "      <td>2-pt layup</td>\n",
              "      <td>6</td>\n",
              "      <td>make</td>\n",
              "      <td>LAC</td>\n",
              "    </tr>\n",
              "    <tr>\n",
              "      <th>2926</th>\n",
              "      <td>529</td>\n",
              "      <td>2-pt layup</td>\n",
              "      <td>21</td>\n",
              "      <td>make</td>\n",
              "      <td>DEN</td>\n",
              "    </tr>\n",
              "    <tr>\n",
              "      <th>2929</th>\n",
              "      <td>498</td>\n",
              "      <td>2-pt jump shot</td>\n",
              "      <td>31</td>\n",
              "      <td>miss</td>\n",
              "      <td>LAC</td>\n",
              "    </tr>\n",
              "    <tr>\n",
              "      <th>2932</th>\n",
              "      <td>479</td>\n",
              "      <td>3-pt jump shot</td>\n",
              "      <td>19</td>\n",
              "      <td>make</td>\n",
              "      <td>DEN</td>\n",
              "    </tr>\n",
              "    <tr>\n",
              "      <th>2933</th>\n",
              "      <td>462</td>\n",
              "      <td>3-pt jump shot</td>\n",
              "      <td>17</td>\n",
              "      <td>miss</td>\n",
              "      <td>LAC</td>\n",
              "    </tr>\n",
              "    <tr>\n",
              "      <th>2936</th>\n",
              "      <td>424</td>\n",
              "      <td>3-pt jump shot</td>\n",
              "      <td>38</td>\n",
              "      <td>make</td>\n",
              "      <td>LAC</td>\n",
              "    </tr>\n",
              "    <tr>\n",
              "      <th>2939</th>\n",
              "      <td>409</td>\n",
              "      <td>2-pt layup</td>\n",
              "      <td>15</td>\n",
              "      <td>make</td>\n",
              "      <td>DEN</td>\n",
              "    </tr>\n",
              "    <tr>\n",
              "      <th>2941</th>\n",
              "      <td>387</td>\n",
              "      <td>2-pt jump shot</td>\n",
              "      <td>22</td>\n",
              "      <td>miss</td>\n",
              "      <td>LAC</td>\n",
              "    </tr>\n",
              "  </tbody>\n",
              "</table>\n",
              "</div>"
            ],
            "text/plain": [
              "      SecLeft        ShotType  Int.Arrival Time ShotOutcome Which Team?\n",
              "2903      706  2-pt jump shot                14        miss         LAC\n",
              "2905      683  3-pt jump shot                23        miss         DEN\n",
              "2907      676  3-pt jump shot                 7        miss         DEN\n",
              "2909      659  3-pt jump shot                17        miss         DEN\n",
              "2911      641  3-pt jump shot                18        make         LAC\n",
              "2912      623  2-pt jump shot                18        miss         DEN\n",
              "2914      604  3-pt jump shot                19        miss         LAC\n",
              "2916      598       2-pt dunk                 6        make         DEN\n",
              "2917      582  2-pt jump shot                16        miss         LAC\n",
              "2919      579       2-pt dunk                 3        miss         DEN\n",
              "2921      570  2-pt hook shot                 9        miss         LAC\n",
              "2923      556      2-pt layup                14        miss         DEN\n",
              "2925      550      2-pt layup                 6        make         LAC\n",
              "2926      529      2-pt layup                21        make         DEN\n",
              "2929      498  2-pt jump shot                31        miss         LAC\n",
              "2932      479  3-pt jump shot                19        make         DEN\n",
              "2933      462  3-pt jump shot                17        miss         LAC\n",
              "2936      424  3-pt jump shot                38        make         LAC\n",
              "2939      409      2-pt layup                15        make         DEN\n",
              "2941      387  2-pt jump shot                22        miss         LAC"
            ]
          },
          "metadata": {
            "tags": []
          },
          "execution_count": 33
        }
      ]
    },
    {
      "cell_type": "markdown",
      "metadata": {
        "id": "FG8AzcpCVTWQ",
        "colab_type": "text"
      },
      "source": [
        "## 25. Let's split the NBA data by ShotType for LAC vs DEN (regular game 2, DEC 22nd)"
      ]
    },
    {
      "cell_type": "code",
      "metadata": {
        "id": "8nWz-KpNMCzo",
        "colab_type": "code",
        "colab": {
          "base_uri": "https://localhost:8080/",
          "height": 34
        },
        "outputId": "f5d0be26-7fc2-4a23-aa92-faedea2c7622"
      },
      "source": [
        "# Display the rows ONLY containing freethrows, 2pts and 3pts (all shots) taken by Both Teams \n",
        "shots_all_LD2 = LAC2.loc[ (pd.isnull(LAC2['ShotType']) == False) | (pd.isnull(LAC2['FreeThrowOutcome']) == False),\n",
        "                      ['SecLeft', 'ShotType', 'ShotOutcome', 'FreeThrowOutcome', 'HomePlay', 'HomeTeam', 'AwayTeam'] ] \n",
        "\n",
        "# Display the rows ONLY containing 2pts and 3pts taken by HomeTeam\n",
        "shots_all_23s_LD2 = LAC2.loc[ (pd.isnull(LAC2['ShotType']) == False),\n",
        "                      ['SecLeft', 'ShotType', 'ShotOutcome', 'HomePlay'] ] \n",
        "\n",
        "shots_all_23s_LD2.rename(columns={'HomePlay': 'Which Team?'}, inplace=True)\n",
        "\n",
        "# this for loop iterates through df and assigns a team to 'Which Team' column\n",
        "# using 'HomePlay' as an indicator and getting the value to be assigned from\n",
        "# either 'HomeTeam' or 'AwayTeam' hence shots_all_LD4.iloc[pos, 5/6]\n",
        "for pos in range(shots_all_23s_LD2.shape[0]):\n",
        "  if pd.isnull(shots_all_23s_LD2.iloc[pos, 3]) == False:\n",
        "    shots_all_23s_LD2.iloc[pos, 3] = shots_all_LD1.iloc[pos, 5]\n",
        "  else:\n",
        "    shots_all_23s_LD2.iloc[pos, 3] = shots_all_LD1.iloc[pos, 6]\n",
        "\n",
        "\n",
        "# Gather all 2pts made by HomeTeam and have it side by side with SecLeft \n",
        "shots_2s_LD2 = shots_all_LD2.loc[ (pd.isnull(shots_all_LD2['ShotType']) == False) & (shots_all_LD2['ShotType'].str.contains('2-pt')),\n",
        "                         ['SecLeft', 'ShotType', 'ShotOutcome', 'HomePlay'] ]\n",
        "\n",
        "\n",
        "# Gather all 3pts made by HomeTeam and have it side by side with SecLeft \n",
        "shots_3s_LD2 = shots_all_LD2.loc[ (pd.isnull(shots_all_LD2['ShotType']) == False) & (shots_all_LD2['ShotType'].str.contains('3-pt')),\n",
        "                         ['SecLeft', 'ShotType', 'ShotOutcome', 'HomePlay'] ]\n",
        "\n",
        "# Gather all 1pts made by HomeTeam and have it side by side with SecLeft \n",
        "shots_1s_LD2 = shots_all_LD2.loc[pd.isnull(shots_all_LD2['FreeThrowOutcome']) == False, \n",
        "                               ['SecLeft', 'FreeThrowOutcome', 'HomePlay'] ]\n",
        "\n",
        "\n",
        "shots_2s_LD2.head(10)\n",
        "# shots_3s_LD2.head(10)\n",
        "# shots_1s_LD2.head(10)\n",
        "\n",
        "# shots_all_23s_LD2.head(60) \n",
        "shots_all_23s_LD2.shape[0]"
      ],
      "execution_count": null,
      "outputs": [
        {
          "output_type": "execute_result",
          "data": {
            "text/plain": [
              "189"
            ]
          },
          "metadata": {
            "tags": []
          },
          "execution_count": 34
        }
      ]
    },
    {
      "cell_type": "markdown",
      "metadata": {
        "id": "ZRIWD0SG1BrY",
        "colab_type": "text"
      },
      "source": [
        "## 26. Interarrival times between ALL 2pts & 3pts for LAC & DEN g2"
      ]
    },
    {
      "cell_type": "code",
      "metadata": {
        "id": "AH6H_i6PWsMY",
        "colab_type": "code",
        "colab": {
          "base_uri": "https://localhost:8080/",
          "height": 54
        },
        "outputId": "ea6aa9a2-81b5-4b41-ccce-1e24bbf0ebc4"
      },
      "source": [
        "timesLD2 = []\n",
        "\n",
        "# Loop to retrieve interarrival times between every shot for LAC\n",
        "for x in range(shots_all_23s_LD2.shape[0]):\n",
        "  # .iloc[x, 0] gets us row x for col 0 (SecLeft in our case)\n",
        "\n",
        "  # very start of quarter, interarrival time is 720 - next time\n",
        "  if x == 0:\n",
        "    time = 720 - shots_all_23s_LD2.iloc[x, 0] \n",
        "\n",
        "  # end of quarter time minus next shot time in new quarter \n",
        "  elif shots_all_23s_LD2.iloc[x-1, 0] < shots_all_23s_LD2.iloc[x, 0]:\n",
        "    time = (720 + shots_all_23s_LD2.iloc[x-1, 0]) - shots_all_23s_LD2.iloc[x, 0]\n",
        "\n",
        "  # Do not record differences of 0 (for instance two back to back freethrows)\n",
        "  # elif shots_all_23s_LD2.iloc[x-1, 0] == shots_all_23s_LD2.iloc[x, 0]:\n",
        "  #  continue\n",
        "\n",
        "  else:\n",
        "    time = shots_all_23s_LD2.iloc[x-1, 0] - shots_all_23s_LD2.iloc[x, 0]\n",
        "  timesLD2.append(time)\n",
        "  # print(timeLD2)\n",
        "\n",
        "print(timesLD2)"
      ],
      "execution_count": null,
      "outputs": [
        {
          "output_type": "stream",
          "text": [
            "[20, 11, 12, 8, 16, 20, 11, 10, 5, 31, 12, 19, 7, 7, 10, 5, 20, 22, 9, 22, 25, 15, 10, 15, 13, 16, 25, 41, 22, 20, 12, 11, 13, 24, 25, 14, 13, 4, 12, 26, 25, 11, 41, 7, 15, 16, 14, 11, 72, 1, 22, 20, 14, 18, 9, 7, 21, 8, 5, 25, 5, 14, 16, 8, 17, 20, 14, 10, 13, 13, 28, 25, 6, 18, 6, 5, 19, 6, 17, 41, 19, 1, 15, 23, 0, 20, 12, 13, 19, 14, 24, 16, 21, 15, 18, 13, 15, 10, 6, 4, 20, 10, 13, 5, 23, 12, 11, 13, 6, 14, 13, 10, 15, 5, 30, 45, 16, 11, 12, 18, 11, 17, 5, 16, 5, 11, 8, 12, 11, 17, 31, 22, 8, 16, 13, 28, 7, 6, 24, 1, 8, 7, 12, 25, 13, 18, 12, 32, 6, 15, 9, 8, 23, 30, 11, 17, 19, 6, 12, 16, 2, 10, 11, 4, 18, 7, 15, 28, 9, 10, 9, 20, 26, 11, 38, 4, 15, 25, 12, 7, 12, 32, 14, 7, 25, 7, 11, 13, 33]\n"
          ],
          "name": "stdout"
        }
      ]
    },
    {
      "cell_type": "markdown",
      "metadata": {
        "id": "bHc4CcAu3VAg",
        "colab_type": "text"
      },
      "source": [
        "## 27. Export Data (Int. Arrival Times) amongst 2pts & 3pts for both teams g2"
      ]
    },
    {
      "cell_type": "code",
      "metadata": {
        "id": "bL6xAbTB3VV0",
        "colab_type": "code",
        "colab": {
          "base_uri": "https://localhost:8080/",
          "height": 669
        },
        "outputId": "69949140-ad26-48a1-bcff-e4b1e8cba341"
      },
      "source": [
        "LD2_data = shots_all_23s_LD2\n",
        "                \n",
        "LD2_data.insert(2, 'Int.Arrival Time', timesLD2)\n",
        "#LD2_data.to_csv('/content/drive/My Drive/Colab Notebooks/Research Data/LD2 Data.csv', index=False)\n",
        "#LD2_data.loc[:,['Int.Arrival Time']].to_csv('/content/drive/My Drive/Colab Notebooks/Research Data/Int. Times, LD2 Data.csv', index=False)            \n",
        "LD2_data.head(20)  "
      ],
      "execution_count": null,
      "outputs": [
        {
          "output_type": "execute_result",
          "data": {
            "text/html": [
              "<div>\n",
              "<style scoped>\n",
              "    .dataframe tbody tr th:only-of-type {\n",
              "        vertical-align: middle;\n",
              "    }\n",
              "\n",
              "    .dataframe tbody tr th {\n",
              "        vertical-align: top;\n",
              "    }\n",
              "\n",
              "    .dataframe thead th {\n",
              "        text-align: right;\n",
              "    }\n",
              "</style>\n",
              "<table border=\"1\" class=\"dataframe\">\n",
              "  <thead>\n",
              "    <tr style=\"text-align: right;\">\n",
              "      <th></th>\n",
              "      <th>SecLeft</th>\n",
              "      <th>ShotType</th>\n",
              "      <th>Int.Arrival Time</th>\n",
              "      <th>ShotOutcome</th>\n",
              "      <th>Which Team?</th>\n",
              "    </tr>\n",
              "  </thead>\n",
              "  <tbody>\n",
              "    <tr>\n",
              "      <th>283016</th>\n",
              "      <td>700</td>\n",
              "      <td>2-pt jump shot</td>\n",
              "      <td>20</td>\n",
              "      <td>make</td>\n",
              "      <td>LAC</td>\n",
              "    </tr>\n",
              "    <tr>\n",
              "      <th>283017</th>\n",
              "      <td>689</td>\n",
              "      <td>3-pt jump shot</td>\n",
              "      <td>11</td>\n",
              "      <td>make</td>\n",
              "      <td>DEN</td>\n",
              "    </tr>\n",
              "    <tr>\n",
              "      <th>283018</th>\n",
              "      <td>677</td>\n",
              "      <td>3-pt jump shot</td>\n",
              "      <td>12</td>\n",
              "      <td>miss</td>\n",
              "      <td>LAC</td>\n",
              "    </tr>\n",
              "    <tr>\n",
              "      <th>283020</th>\n",
              "      <td>669</td>\n",
              "      <td>3-pt jump shot</td>\n",
              "      <td>8</td>\n",
              "      <td>make</td>\n",
              "      <td>LAC</td>\n",
              "    </tr>\n",
              "    <tr>\n",
              "      <th>283021</th>\n",
              "      <td>653</td>\n",
              "      <td>2-pt jump shot</td>\n",
              "      <td>16</td>\n",
              "      <td>make</td>\n",
              "      <td>DEN</td>\n",
              "    </tr>\n",
              "    <tr>\n",
              "      <th>283022</th>\n",
              "      <td>633</td>\n",
              "      <td>2-pt jump shot</td>\n",
              "      <td>20</td>\n",
              "      <td>miss</td>\n",
              "      <td>LAC</td>\n",
              "    </tr>\n",
              "    <tr>\n",
              "      <th>283025</th>\n",
              "      <td>622</td>\n",
              "      <td>2-pt jump shot</td>\n",
              "      <td>11</td>\n",
              "      <td>miss</td>\n",
              "      <td>DEN</td>\n",
              "    </tr>\n",
              "    <tr>\n",
              "      <th>283028</th>\n",
              "      <td>612</td>\n",
              "      <td>3-pt jump shot</td>\n",
              "      <td>10</td>\n",
              "      <td>miss</td>\n",
              "      <td>DEN</td>\n",
              "    </tr>\n",
              "    <tr>\n",
              "      <th>283030</th>\n",
              "      <td>607</td>\n",
              "      <td>2-pt dunk</td>\n",
              "      <td>5</td>\n",
              "      <td>make</td>\n",
              "      <td>LAC</td>\n",
              "    </tr>\n",
              "    <tr>\n",
              "      <th>283032</th>\n",
              "      <td>576</td>\n",
              "      <td>2-pt layup</td>\n",
              "      <td>31</td>\n",
              "      <td>make</td>\n",
              "      <td>LAC</td>\n",
              "    </tr>\n",
              "    <tr>\n",
              "      <th>283033</th>\n",
              "      <td>564</td>\n",
              "      <td>3-pt jump shot</td>\n",
              "      <td>12</td>\n",
              "      <td>make</td>\n",
              "      <td>DEN</td>\n",
              "    </tr>\n",
              "    <tr>\n",
              "      <th>283034</th>\n",
              "      <td>545</td>\n",
              "      <td>2-pt jump shot</td>\n",
              "      <td>19</td>\n",
              "      <td>miss</td>\n",
              "      <td>LAC</td>\n",
              "    </tr>\n",
              "    <tr>\n",
              "      <th>283036</th>\n",
              "      <td>538</td>\n",
              "      <td>2-pt dunk</td>\n",
              "      <td>7</td>\n",
              "      <td>make</td>\n",
              "      <td>LAC</td>\n",
              "    </tr>\n",
              "    <tr>\n",
              "      <th>283037</th>\n",
              "      <td>531</td>\n",
              "      <td>2-pt layup</td>\n",
              "      <td>7</td>\n",
              "      <td>miss</td>\n",
              "      <td>DEN</td>\n",
              "    </tr>\n",
              "    <tr>\n",
              "      <th>283039</th>\n",
              "      <td>521</td>\n",
              "      <td>2-pt dunk</td>\n",
              "      <td>10</td>\n",
              "      <td>miss</td>\n",
              "      <td>LAC</td>\n",
              "    </tr>\n",
              "    <tr>\n",
              "      <th>283041</th>\n",
              "      <td>516</td>\n",
              "      <td>2-pt jump shot</td>\n",
              "      <td>5</td>\n",
              "      <td>make</td>\n",
              "      <td>DEN</td>\n",
              "    </tr>\n",
              "    <tr>\n",
              "      <th>283042</th>\n",
              "      <td>496</td>\n",
              "      <td>2-pt layup</td>\n",
              "      <td>20</td>\n",
              "      <td>make</td>\n",
              "      <td>LAC</td>\n",
              "    </tr>\n",
              "    <tr>\n",
              "      <th>283045</th>\n",
              "      <td>474</td>\n",
              "      <td>2-pt jump shot</td>\n",
              "      <td>22</td>\n",
              "      <td>miss</td>\n",
              "      <td>DEN</td>\n",
              "    </tr>\n",
              "    <tr>\n",
              "      <th>283047</th>\n",
              "      <td>465</td>\n",
              "      <td>2-pt layup</td>\n",
              "      <td>9</td>\n",
              "      <td>miss</td>\n",
              "      <td>LAC</td>\n",
              "    </tr>\n",
              "    <tr>\n",
              "      <th>283049</th>\n",
              "      <td>443</td>\n",
              "      <td>2-pt jump shot</td>\n",
              "      <td>22</td>\n",
              "      <td>make</td>\n",
              "      <td>DEN</td>\n",
              "    </tr>\n",
              "  </tbody>\n",
              "</table>\n",
              "</div>"
            ],
            "text/plain": [
              "        SecLeft        ShotType  Int.Arrival Time ShotOutcome Which Team?\n",
              "283016      700  2-pt jump shot                20        make         LAC\n",
              "283017      689  3-pt jump shot                11        make         DEN\n",
              "283018      677  3-pt jump shot                12        miss         LAC\n",
              "283020      669  3-pt jump shot                 8        make         LAC\n",
              "283021      653  2-pt jump shot                16        make         DEN\n",
              "283022      633  2-pt jump shot                20        miss         LAC\n",
              "283025      622  2-pt jump shot                11        miss         DEN\n",
              "283028      612  3-pt jump shot                10        miss         DEN\n",
              "283030      607       2-pt dunk                 5        make         LAC\n",
              "283032      576      2-pt layup                31        make         LAC\n",
              "283033      564  3-pt jump shot                12        make         DEN\n",
              "283034      545  2-pt jump shot                19        miss         LAC\n",
              "283036      538       2-pt dunk                 7        make         LAC\n",
              "283037      531      2-pt layup                 7        miss         DEN\n",
              "283039      521       2-pt dunk                10        miss         LAC\n",
              "283041      516  2-pt jump shot                 5        make         DEN\n",
              "283042      496      2-pt layup                20        make         LAC\n",
              "283045      474  2-pt jump shot                22        miss         DEN\n",
              "283047      465      2-pt layup                 9        miss         LAC\n",
              "283049      443  2-pt jump shot                22        make         DEN"
            ]
          },
          "metadata": {
            "tags": []
          },
          "execution_count": 36
        }
      ]
    },
    {
      "cell_type": "markdown",
      "metadata": {
        "id": "NRmQZkDmDcmd",
        "colab_type": "text"
      },
      "source": [
        "## 28. Let's split the NBA data by ShotType for LAC vs DEN (regular game 3, JAN 10th)\n"
      ]
    },
    {
      "cell_type": "code",
      "metadata": {
        "id": "4unrK2V_DdPF",
        "colab_type": "code",
        "colab": {
          "base_uri": "https://localhost:8080/",
          "height": 34
        },
        "outputId": "6d57a6ef-71ef-4002-f01f-8de12e7de0b3"
      },
      "source": [
        "# Display the rows ONLY containing freethrows, 2pts and 3pts (all shots) taken by Both Teams \n",
        "shots_all_LD3 = LAC3.loc[ (pd.isnull(LAC3['ShotType']) == False) | (pd.isnull(LAC3['FreeThrowOutcome']) == False),\n",
        "                      ['SecLeft', 'ShotType', 'ShotOutcome', 'FreeThrowOutcome', 'HomePlay', 'HomeTeam', 'AwayTeam'] ] \n",
        "\n",
        "# Display the rows ONLY containing 2pts and 3pts taken by HomeTeam\n",
        "shots_all_23s_LD3 = LAC3.loc[ (pd.isnull(LAC3['ShotType']) == False),\n",
        "                      ['SecLeft', 'ShotType', 'ShotOutcome', 'HomePlay'] ] \n",
        "\n",
        "shots_all_23s_LD3.rename(columns={'HomePlay': 'Which Team?'}, inplace=True)\n",
        "\n",
        "# this for loop iterates through df and assigns a team to 'Which Team' column\n",
        "# using 'HomePlay' as an indicator and getting the value to be assigned from\n",
        "# either 'HomeTeam' or 'AwayTeam' hence shots_all_LD4.iloc[pos, 5/6]\n",
        "for pos in range(shots_all_23s_LD3.shape[0]):\n",
        "  if pd.isnull(shots_all_23s_LD3.iloc[pos, 3]) == False:\n",
        "    shots_all_23s_LD3.iloc[pos, 3] = shots_all_LD1.iloc[pos, 5]\n",
        "  else:\n",
        "    shots_all_23s_LD3.iloc[pos, 3] = shots_all_LD1.iloc[pos, 6]\n",
        "\n",
        "\n",
        "# Gather all 2pts made by HomeTeam and have it side by side with SecLeft \n",
        "shots_2s_LD3 = shots_all_LD3.loc[ (pd.isnull(shots_all_LD3['ShotType']) == False) & (shots_all_LD3['ShotType'].str.contains('2-pt')),\n",
        "                         ['SecLeft', 'ShotType', 'ShotOutcome', 'HomePlay'] ]\n",
        "\n",
        "\n",
        "# Gather all 3pts made by HomeTeam and have it side by side with SecLeft \n",
        "shots_3s_LD3 = shots_all_LD3.loc[ (pd.isnull(shots_all_LD3['ShotType']) == False) & (shots_all_LD3['ShotType'].str.contains('3-pt')),\n",
        "                         ['SecLeft', 'ShotType', 'ShotOutcome', 'HomePlay'] ]\n",
        "\n",
        "# Gather all 1pts made by HomeTeam and have it side by side with SecLeft \n",
        "shots_1s_LD3 = shots_all_LD3.loc[pd.isnull(shots_all_LD3['FreeThrowOutcome']) == False, \n",
        "                               ['SecLeft', 'FreeThrowOutcome', 'HomePlay'] ]\n",
        "\n",
        "\n",
        "shots_2s_LD3.head(10)\n",
        "# shots_3s_LD3.head(10)\n",
        "# shots_1s_LD3.head(10)\n",
        "\n",
        "# shots_all_23s_LD3.head(60) \n",
        "shots_all_23s_LD3.shape[0]"
      ],
      "execution_count": null,
      "outputs": [
        {
          "output_type": "execute_result",
          "data": {
            "text/plain": [
              "186"
            ]
          },
          "metadata": {
            "tags": []
          },
          "execution_count": 37
        }
      ]
    },
    {
      "cell_type": "markdown",
      "metadata": {
        "id": "ONE8GYMLFhLt",
        "colab_type": "text"
      },
      "source": [
        "## 29. Interarrival times between ALL 2pts & 3pts for LAC & DEN g3"
      ]
    },
    {
      "cell_type": "code",
      "metadata": {
        "id": "6tqj-IVCFhlc",
        "colab_type": "code",
        "colab": {
          "base_uri": "https://localhost:8080/",
          "height": 54
        },
        "outputId": "33fd8291-eda1-4cad-9fce-021f2d6c6940"
      },
      "source": [
        "timesLD3 = []\n",
        "\n",
        "# Loop to retrieve interarrival times between every shot for LAC\n",
        "for x in range(shots_all_23s_LD3.shape[0]):\n",
        "  # .iloc[x, 0] gets us row x for col 0 (SecLeft in our case)\n",
        "\n",
        "  # very start of quarter, interarrival time is 720 - next time\n",
        "  if x == 0:\n",
        "    time = 720 - shots_all_23s_LD3.iloc[x, 0] \n",
        "\n",
        "  # end of quarter time minus next shot time in new quarter \n",
        "  elif shots_all_23s_LD3.iloc[x-1, 0] < shots_all_23s_LD3.iloc[x, 0]:\n",
        "    time = (720 + shots_all_23s_LD3.iloc[x-1, 0]) - shots_all_23s_LD3.iloc[x, 0]\n",
        "\n",
        "  # Do not record differences of 0 (for instance two back to back freethrows)\n",
        "  # elif shots_all_23s_LD3.iloc[x-1, 0] == shots_all_23s_LD3.iloc[x, 0]:\n",
        "  #  continue\n",
        "\n",
        "  else:\n",
        "    time = shots_all_23s_LD3.iloc[x-1, 0] - shots_all_23s_LD3.iloc[x, 0]\n",
        "  timesLD3.append(time)\n",
        "  # print(timeLD3)\n",
        "\n",
        "print(timesLD3)"
      ],
      "execution_count": null,
      "outputs": [
        {
          "output_type": "stream",
          "text": [
            "[20, 32, 10, 17, 37, 17, 23, 14, 10, 19, 10, 10, 10, 19, 24, 17, 25, 4, 14, 9, 24, 25, 6, 13, 34, 35, 8, 31, 25, 0, 11, 30, 10, 20, 44, 20, 7, 5, 22, 9, 12, 3, 5, 18, 3, 14, 28, 2, 4, 24, 16, 17, 10, 13, 26, 15, 26, 8, 16, 16, 4, 14, 16, 31, 9, 18, 20, 18, 9, 21, 24, 35, 26, 20, 15, 25, 13, 22, 17, 11, 28, 18, 20, 33, 19, 17, 11, 20, 23, 20, 20, 10, 21, 14, 5, 33, 9, 16, 6, 16, 22, 36, 5, 10, 10, 21, 1, 1, 1, 8, 29, 12, 10, 16, 6, 20, 14, 12, 20, 5, 21, 19, 17, 19, 20, 18, 27, 6, 19, 9, 3, 0, 0, 10, 19, 5, 14, 27, 8, 9, 9, 18, 10, 8, 5, 18, 17, 17, 19, 8, 3, 4, 10, 21, 9, 7, 15, 21, 6, 14, 16, 30, 20, 3, 9, 8, 14, 25, 3, 17, 24, 8, 12, 37, 24, 10, 25, 17, 13, 10, 0, 16, 7, 14, 13, 2]\n"
          ],
          "name": "stdout"
        }
      ]
    },
    {
      "cell_type": "markdown",
      "metadata": {
        "id": "yqvjbeW8HQLc",
        "colab_type": "text"
      },
      "source": [
        "## 30. Export Data (Int. Arrival Times) amongst 2pts & 3pts for both teams g3"
      ]
    },
    {
      "cell_type": "code",
      "metadata": {
        "id": "pDZZeZgAHREA",
        "colab_type": "code",
        "colab": {
          "base_uri": "https://localhost:8080/",
          "height": 669
        },
        "outputId": "600fffc1-5af1-4f46-9cb4-c375400e90ab"
      },
      "source": [
        "LD3_data = shots_all_23s_LD3\n",
        "                \n",
        "LD3_data.insert(2, 'Int.Arrival Time', timesLD3)\n",
        "#LD3_data.to_csv('/content/drive/My Drive/Colab Notebooks/Research Data/LD3 Data.csv', index=False)\n",
        "#LD3_data.loc[:,['Int.Arrival Time']].to_csv('/content/drive/My Drive/Colab Notebooks/Research Data/Int. Times, LD3 Data.csv', index=False)            \n",
        "LD3_data.head(20)"
      ],
      "execution_count": null,
      "outputs": [
        {
          "output_type": "execute_result",
          "data": {
            "text/html": [
              "<div>\n",
              "<style scoped>\n",
              "    .dataframe tbody tr th:only-of-type {\n",
              "        vertical-align: middle;\n",
              "    }\n",
              "\n",
              "    .dataframe tbody tr th {\n",
              "        vertical-align: top;\n",
              "    }\n",
              "\n",
              "    .dataframe thead th {\n",
              "        text-align: right;\n",
              "    }\n",
              "</style>\n",
              "<table border=\"1\" class=\"dataframe\">\n",
              "  <thead>\n",
              "    <tr style=\"text-align: right;\">\n",
              "      <th></th>\n",
              "      <th>SecLeft</th>\n",
              "      <th>ShotType</th>\n",
              "      <th>Int.Arrival Time</th>\n",
              "      <th>ShotOutcome</th>\n",
              "      <th>Which Team?</th>\n",
              "    </tr>\n",
              "  </thead>\n",
              "  <tbody>\n",
              "    <tr>\n",
              "      <th>299741</th>\n",
              "      <td>700</td>\n",
              "      <td>2-pt jump shot</td>\n",
              "      <td>20</td>\n",
              "      <td>make</td>\n",
              "      <td>DEN</td>\n",
              "    </tr>\n",
              "    <tr>\n",
              "      <th>299743</th>\n",
              "      <td>668</td>\n",
              "      <td>2-pt jump shot</td>\n",
              "      <td>32</td>\n",
              "      <td>miss</td>\n",
              "      <td>DEN</td>\n",
              "    </tr>\n",
              "    <tr>\n",
              "      <th>299745</th>\n",
              "      <td>658</td>\n",
              "      <td>2-pt hook shot</td>\n",
              "      <td>10</td>\n",
              "      <td>make</td>\n",
              "      <td>LAC</td>\n",
              "    </tr>\n",
              "    <tr>\n",
              "      <th>299747</th>\n",
              "      <td>641</td>\n",
              "      <td>2-pt jump shot</td>\n",
              "      <td>17</td>\n",
              "      <td>miss</td>\n",
              "      <td>DEN</td>\n",
              "    </tr>\n",
              "    <tr>\n",
              "      <th>299753</th>\n",
              "      <td>604</td>\n",
              "      <td>3-pt jump shot</td>\n",
              "      <td>37</td>\n",
              "      <td>make</td>\n",
              "      <td>DEN</td>\n",
              "    </tr>\n",
              "    <tr>\n",
              "      <th>299754</th>\n",
              "      <td>587</td>\n",
              "      <td>3-pt jump shot</td>\n",
              "      <td>17</td>\n",
              "      <td>make</td>\n",
              "      <td>LAC</td>\n",
              "    </tr>\n",
              "    <tr>\n",
              "      <th>299756</th>\n",
              "      <td>564</td>\n",
              "      <td>2-pt dunk</td>\n",
              "      <td>23</td>\n",
              "      <td>make</td>\n",
              "      <td>LAC</td>\n",
              "    </tr>\n",
              "    <tr>\n",
              "      <th>299757</th>\n",
              "      <td>550</td>\n",
              "      <td>2-pt layup</td>\n",
              "      <td>14</td>\n",
              "      <td>miss</td>\n",
              "      <td>DEN</td>\n",
              "    </tr>\n",
              "    <tr>\n",
              "      <th>299759</th>\n",
              "      <td>540</td>\n",
              "      <td>2-pt jump shot</td>\n",
              "      <td>10</td>\n",
              "      <td>make</td>\n",
              "      <td>DEN</td>\n",
              "    </tr>\n",
              "    <tr>\n",
              "      <th>299760</th>\n",
              "      <td>521</td>\n",
              "      <td>2-pt layup</td>\n",
              "      <td>19</td>\n",
              "      <td>make</td>\n",
              "      <td>LAC</td>\n",
              "    </tr>\n",
              "    <tr>\n",
              "      <th>299761</th>\n",
              "      <td>511</td>\n",
              "      <td>3-pt jump shot</td>\n",
              "      <td>10</td>\n",
              "      <td>miss</td>\n",
              "      <td>DEN</td>\n",
              "    </tr>\n",
              "    <tr>\n",
              "      <th>299763</th>\n",
              "      <td>501</td>\n",
              "      <td>2-pt jump shot</td>\n",
              "      <td>10</td>\n",
              "      <td>miss</td>\n",
              "      <td>LAC</td>\n",
              "    </tr>\n",
              "    <tr>\n",
              "      <th>299765</th>\n",
              "      <td>491</td>\n",
              "      <td>3-pt jump shot</td>\n",
              "      <td>10</td>\n",
              "      <td>make</td>\n",
              "      <td>DEN</td>\n",
              "    </tr>\n",
              "    <tr>\n",
              "      <th>299766</th>\n",
              "      <td>472</td>\n",
              "      <td>3-pt jump shot</td>\n",
              "      <td>19</td>\n",
              "      <td>make</td>\n",
              "      <td>LAC</td>\n",
              "    </tr>\n",
              "    <tr>\n",
              "      <th>299768</th>\n",
              "      <td>448</td>\n",
              "      <td>2-pt jump shot</td>\n",
              "      <td>24</td>\n",
              "      <td>make</td>\n",
              "      <td>LAC</td>\n",
              "    </tr>\n",
              "    <tr>\n",
              "      <th>299770</th>\n",
              "      <td>431</td>\n",
              "      <td>3-pt jump shot</td>\n",
              "      <td>17</td>\n",
              "      <td>make</td>\n",
              "      <td>DEN</td>\n",
              "    </tr>\n",
              "    <tr>\n",
              "      <th>299771</th>\n",
              "      <td>406</td>\n",
              "      <td>2-pt jump shot</td>\n",
              "      <td>25</td>\n",
              "      <td>miss</td>\n",
              "      <td>LAC</td>\n",
              "    </tr>\n",
              "    <tr>\n",
              "      <th>299773</th>\n",
              "      <td>402</td>\n",
              "      <td>2-pt layup</td>\n",
              "      <td>4</td>\n",
              "      <td>make</td>\n",
              "      <td>LAC</td>\n",
              "    </tr>\n",
              "    <tr>\n",
              "      <th>299774</th>\n",
              "      <td>388</td>\n",
              "      <td>2-pt jump shot</td>\n",
              "      <td>14</td>\n",
              "      <td>miss</td>\n",
              "      <td>DEN</td>\n",
              "    </tr>\n",
              "    <tr>\n",
              "      <th>299776</th>\n",
              "      <td>379</td>\n",
              "      <td>3-pt jump shot</td>\n",
              "      <td>9</td>\n",
              "      <td>make</td>\n",
              "      <td>LAC</td>\n",
              "    </tr>\n",
              "  </tbody>\n",
              "</table>\n",
              "</div>"
            ],
            "text/plain": [
              "        SecLeft        ShotType  Int.Arrival Time ShotOutcome Which Team?\n",
              "299741      700  2-pt jump shot                20        make         DEN\n",
              "299743      668  2-pt jump shot                32        miss         DEN\n",
              "299745      658  2-pt hook shot                10        make         LAC\n",
              "299747      641  2-pt jump shot                17        miss         DEN\n",
              "299753      604  3-pt jump shot                37        make         DEN\n",
              "299754      587  3-pt jump shot                17        make         LAC\n",
              "299756      564       2-pt dunk                23        make         LAC\n",
              "299757      550      2-pt layup                14        miss         DEN\n",
              "299759      540  2-pt jump shot                10        make         DEN\n",
              "299760      521      2-pt layup                19        make         LAC\n",
              "299761      511  3-pt jump shot                10        miss         DEN\n",
              "299763      501  2-pt jump shot                10        miss         LAC\n",
              "299765      491  3-pt jump shot                10        make         DEN\n",
              "299766      472  3-pt jump shot                19        make         LAC\n",
              "299768      448  2-pt jump shot                24        make         LAC\n",
              "299770      431  3-pt jump shot                17        make         DEN\n",
              "299771      406  2-pt jump shot                25        miss         LAC\n",
              "299773      402      2-pt layup                 4        make         LAC\n",
              "299774      388  2-pt jump shot                14        miss         DEN\n",
              "299776      379  3-pt jump shot                 9        make         LAC"
            ]
          },
          "metadata": {
            "tags": []
          },
          "execution_count": 39
        }
      ]
    },
    {
      "cell_type": "markdown",
      "metadata": {
        "id": "4byHwTKwHlwG",
        "colab_type": "text"
      },
      "source": [
        "## 31. Let's split the NBA data by ShotType for LAC vs DEN (regular game 4, FEB 24th)"
      ]
    },
    {
      "cell_type": "code",
      "metadata": {
        "id": "7w-R9LWKHmFO",
        "colab_type": "code",
        "colab": {
          "base_uri": "https://localhost:8080/",
          "height": 419
        },
        "outputId": "b6849f01-b4ab-40a7-cad6-462a1837ee5d"
      },
      "source": [
        "# Display the rows ONLY containing freethrows, 2pts and 3pts (all shots) taken by Both Teams \n",
        "shots_all_LD4 = LAC4.loc[ (pd.isnull(LAC4['ShotType']) == False) | (pd.isnull(LAC4['FreeThrowOutcome']) == False),\n",
        "                      ['SecLeft', 'ShotType', 'ShotOutcome', 'FreeThrowOutcome', 'HomePlay', 'HomeTeam', 'AwayTeam'] ] \n",
        "\n",
        "# Display the rows ONLY containing 2pts and 3pts taken by HomeTeam\n",
        "shots_all_23s_LD4 = LAC4.loc[ (pd.isnull(LAC4['ShotType']) == False),\n",
        "                      ['SecLeft', 'ShotType', 'ShotOutcome', 'HomePlay'] ] \n",
        "\n",
        "shots_all_23s_LD4.rename(columns={'HomePlay': 'Which Team?'}, inplace=True)\n",
        "\n",
        "# this for loop iterates through df and assigns a team to 'Which Team' column\n",
        "# using 'HomePlay' as an indicator and getting the value to be assigned from\n",
        "# either 'HomeTeam' or 'AwayTeam' hence shots_all_LD4.iloc[pos, 5/6]\n",
        "for pos in range(shots_all_23s_LD4.shape[0]):\n",
        "  if pd.isnull(shots_all_23s_LD4.iloc[pos, 3]) == False:\n",
        "    shots_all_23s_LD4.iloc[pos, 3] = shots_all_LD4.iloc[pos, 5]\n",
        "  else:\n",
        "    shots_all_23s_LD4.iloc[pos, 3] = shots_all_LD4.iloc[pos, 6]\n",
        "\n",
        "\n",
        "# Gather all 2pts made by HomeTeam and have it side by side with SecLeft \n",
        "shots_2s_LD4 = shots_all_LD4.loc[ (pd.isnull(shots_all_LD4['ShotType']) == False) & (shots_all_LD4['ShotType'].str.contains('2-pt')),\n",
        "                         ['SecLeft', 'ShotType', 'ShotOutcome', 'HomePlay'] ]\n",
        "\n",
        "\n",
        "# Gather all 3pts made by HomeTeam and have it side by side with SecLeft \n",
        "shots_3s_LD4 = shots_all_LD4.loc[ (pd.isnull(shots_all_LD4['ShotType']) == False) & (shots_all_LD4['ShotType'].str.contains('3-pt')),\n",
        "                         ['SecLeft', 'ShotType', 'ShotOutcome', 'HomePlay'] ]\n",
        "\n",
        "# Gather all 1pts made by HomeTeam and have it side by side with SecLeft \n",
        "shots_1s_LD4 = shots_all_LD4.loc[pd.isnull(shots_all_LD4['FreeThrowOutcome']) == False, \n",
        "                               ['SecLeft', 'FreeThrowOutcome', 'HomePlay'] ]\n",
        "\n",
        "\n",
        "shots_2s_LD4.head(10)\n",
        "# shots_3s_LD4.head(10)\n",
        "# shots_1s_LD4.head(10)\n",
        "\n",
        "# shots_all_23s_LD4.head(60) \n",
        "shots_all_23s_LD4.shape[0]\n",
        "shots_all_LD4\n",
        "shots_all_23s_LD4"
      ],
      "execution_count": null,
      "outputs": [
        {
          "output_type": "execute_result",
          "data": {
            "text/html": [
              "<div>\n",
              "<style scoped>\n",
              "    .dataframe tbody tr th:only-of-type {\n",
              "        vertical-align: middle;\n",
              "    }\n",
              "\n",
              "    .dataframe tbody tr th {\n",
              "        vertical-align: top;\n",
              "    }\n",
              "\n",
              "    .dataframe thead th {\n",
              "        text-align: right;\n",
              "    }\n",
              "</style>\n",
              "<table border=\"1\" class=\"dataframe\">\n",
              "  <thead>\n",
              "    <tr style=\"text-align: right;\">\n",
              "      <th></th>\n",
              "      <th>SecLeft</th>\n",
              "      <th>ShotType</th>\n",
              "      <th>ShotOutcome</th>\n",
              "      <th>Which Team?</th>\n",
              "    </tr>\n",
              "  </thead>\n",
              "  <tbody>\n",
              "    <tr>\n",
              "      <th>578830</th>\n",
              "      <td>697</td>\n",
              "      <td>2-pt jump shot</td>\n",
              "      <td>miss</td>\n",
              "      <td>DEN</td>\n",
              "    </tr>\n",
              "    <tr>\n",
              "      <th>578832</th>\n",
              "      <td>693</td>\n",
              "      <td>2-pt layup</td>\n",
              "      <td>miss</td>\n",
              "      <td>DEN</td>\n",
              "    </tr>\n",
              "    <tr>\n",
              "      <th>578834</th>\n",
              "      <td>681</td>\n",
              "      <td>2-pt layup</td>\n",
              "      <td>miss</td>\n",
              "      <td>LAC</td>\n",
              "    </tr>\n",
              "    <tr>\n",
              "      <th>578836</th>\n",
              "      <td>673</td>\n",
              "      <td>3-pt jump shot</td>\n",
              "      <td>miss</td>\n",
              "      <td>DEN</td>\n",
              "    </tr>\n",
              "    <tr>\n",
              "      <th>578838</th>\n",
              "      <td>653</td>\n",
              "      <td>3-pt jump shot</td>\n",
              "      <td>miss</td>\n",
              "      <td>LAC</td>\n",
              "    </tr>\n",
              "    <tr>\n",
              "      <th>...</th>\n",
              "      <td>...</td>\n",
              "      <td>...</td>\n",
              "      <td>...</td>\n",
              "      <td>...</td>\n",
              "    </tr>\n",
              "    <tr>\n",
              "      <th>579332</th>\n",
              "      <td>91</td>\n",
              "      <td>3-pt jump shot</td>\n",
              "      <td>miss</td>\n",
              "      <td>DEN</td>\n",
              "    </tr>\n",
              "    <tr>\n",
              "      <th>579334</th>\n",
              "      <td>80</td>\n",
              "      <td>2-pt jump shot</td>\n",
              "      <td>miss</td>\n",
              "      <td>LAC</td>\n",
              "    </tr>\n",
              "    <tr>\n",
              "      <th>579337</th>\n",
              "      <td>64</td>\n",
              "      <td>2-pt dunk</td>\n",
              "      <td>make</td>\n",
              "      <td>DEN</td>\n",
              "    </tr>\n",
              "    <tr>\n",
              "      <th>579340</th>\n",
              "      <td>54</td>\n",
              "      <td>3-pt jump shot</td>\n",
              "      <td>miss</td>\n",
              "      <td>LAC</td>\n",
              "    </tr>\n",
              "    <tr>\n",
              "      <th>579347</th>\n",
              "      <td>31</td>\n",
              "      <td>2-pt layup</td>\n",
              "      <td>miss</td>\n",
              "      <td>LAC</td>\n",
              "    </tr>\n",
              "  </tbody>\n",
              "</table>\n",
              "<p>172 rows × 4 columns</p>\n",
              "</div>"
            ],
            "text/plain": [
              "        SecLeft        ShotType ShotOutcome Which Team?\n",
              "578830      697  2-pt jump shot        miss         DEN\n",
              "578832      693      2-pt layup        miss         DEN\n",
              "578834      681      2-pt layup        miss         LAC\n",
              "578836      673  3-pt jump shot        miss         DEN\n",
              "578838      653  3-pt jump shot        miss         LAC\n",
              "...         ...             ...         ...         ...\n",
              "579332       91  3-pt jump shot        miss         DEN\n",
              "579334       80  2-pt jump shot        miss         LAC\n",
              "579337       64       2-pt dunk        make         DEN\n",
              "579340       54  3-pt jump shot        miss         LAC\n",
              "579347       31      2-pt layup        miss         LAC\n",
              "\n",
              "[172 rows x 4 columns]"
            ]
          },
          "metadata": {
            "tags": []
          },
          "execution_count": 40
        }
      ]
    },
    {
      "cell_type": "markdown",
      "metadata": {
        "id": "kJBA1ca7IgrD",
        "colab_type": "text"
      },
      "source": [
        "## 32. Interarrival times between ALL 2pts & 3pts for LAC & DEN g4"
      ]
    },
    {
      "cell_type": "code",
      "metadata": {
        "id": "CCDOfIGfIl1j",
        "colab_type": "code",
        "colab": {
          "base_uri": "https://localhost:8080/",
          "height": 54
        },
        "outputId": "988c141a-5b1a-4a38-a70e-fbf4827d6643"
      },
      "source": [
        "timesLD4 = []\n",
        "\n",
        "# Loop to retrieve interarrival times between every shot for LAC\n",
        "for x in range(shots_all_23s_LD4.shape[0]):\n",
        "  # .iloc[x, 0] gets us row x for col 0 (SecLeft in our case)\n",
        "\n",
        "  # very start of quarter, interarrival time is 720 - next time\n",
        "  if x == 0:\n",
        "    time = 720 - shots_all_23s_LD4.iloc[x, 0] \n",
        "\n",
        "  # end of quarter time minus next shot time in new quarter \n",
        "  elif shots_all_23s_LD4.iloc[x-1, 0] < shots_all_23s_LD4.iloc[x, 0]:\n",
        "    time = (720 + shots_all_23s_LD4.iloc[x-1, 0]) - shots_all_23s_LD4.iloc[x, 0]\n",
        "\n",
        "  # Do not record differences of 0 (for instance two back to back freethrows)\n",
        "  # elif shots_all_23s_LD4.iloc[x-1, 0] == shots_all_23s_LD4.iloc[x, 0]:\n",
        "  #  continue\n",
        "\n",
        "  else:\n",
        "    time = shots_all_23s_LD4.iloc[x-1, 0] - shots_all_23s_LD4.iloc[x, 0]\n",
        "  timesLD4.append(time)\n",
        "  # print(timeLD3)\n",
        "\n",
        "print(timesLD4)"
      ],
      "execution_count": null,
      "outputs": [
        {
          "output_type": "stream",
          "text": [
            "[23, 4, 12, 8, 20, 12, 9, 17, 22, 17, 33, 22, 10, 24, 15, 18, 38, 20, 20, 11, 16, 7, 9, 17, 21, 20, 23, 15, 21, 63, 29, 6, 16, 16, 20, 13, 0, 5, 8, 7, 18, 13, 13, 25, 21, 19, 16, 17, 14, 16, 19, 10, 24, 12, 11, 20, 16, 18, 14, 7, 30, 26, 48, 5, 7, 24, 21, 15, 9, 11, 14, 10, 26, 16, 50, 31, 5, 16, 24, 9, 22, 4, 35, 13, 25, 12, 8, 15, 14, 15, 2, 8, 6, 14, 10, 14, 42, 11, 52, 1, 15, 6, 7, 9, 13, 9, 19, 5, 11, 17, 31, 11, 37, 15, 5, 24, 10, 4, 18, 49, 6, 13, 4, 16, 19, 29, 21, 18, 11, 30, 7, 3, 11, 11, 9, 17, 15, 35, 19, 19, 30, 28, 16, 25, 9, 15, 3, 5, 17, 14, 25, 12, 14, 33, 10, 2, 13, 19, 17, 10, 18, 15, 19, 16, 12, 11, 9, 14, 11, 16, 10, 23]\n"
          ],
          "name": "stdout"
        }
      ]
    },
    {
      "cell_type": "markdown",
      "metadata": {
        "id": "tgMPR2DbI89I",
        "colab_type": "text"
      },
      "source": [
        "## 33. Export Data (Int. Arrival Times) amongst 2pts & 3pts for both teams g4"
      ]
    },
    {
      "cell_type": "code",
      "metadata": {
        "id": "H7UxyquWI9pr",
        "colab_type": "code",
        "colab": {
          "base_uri": "https://localhost:8080/",
          "height": 669
        },
        "outputId": "345f382c-fba1-41d6-d705-686541800eca"
      },
      "source": [
        "LD4_data = shots_all_23s_LD4\n",
        "                \n",
        "LD4_data.insert(2, 'Int.Arrival Time', timesLD4)\n",
        "#LD4_data.to_csv('/content/drive/My Drive/Colab Notebooks/Research Data/LD4 Data.csv', index=False)\n",
        "#LD4_data.loc[:,['Int.Arrival Time']].to_csv('/content/drive/My Drive/Colab Notebooks/Research Data/Int. Times, LD4 Data.csv', index=False)            \n",
        "LD4_data.head(20)"
      ],
      "execution_count": null,
      "outputs": [
        {
          "output_type": "execute_result",
          "data": {
            "text/html": [
              "<div>\n",
              "<style scoped>\n",
              "    .dataframe tbody tr th:only-of-type {\n",
              "        vertical-align: middle;\n",
              "    }\n",
              "\n",
              "    .dataframe tbody tr th {\n",
              "        vertical-align: top;\n",
              "    }\n",
              "\n",
              "    .dataframe thead th {\n",
              "        text-align: right;\n",
              "    }\n",
              "</style>\n",
              "<table border=\"1\" class=\"dataframe\">\n",
              "  <thead>\n",
              "    <tr style=\"text-align: right;\">\n",
              "      <th></th>\n",
              "      <th>SecLeft</th>\n",
              "      <th>ShotType</th>\n",
              "      <th>Int.Arrival Time</th>\n",
              "      <th>ShotOutcome</th>\n",
              "      <th>Which Team?</th>\n",
              "    </tr>\n",
              "  </thead>\n",
              "  <tbody>\n",
              "    <tr>\n",
              "      <th>578830</th>\n",
              "      <td>697</td>\n",
              "      <td>2-pt jump shot</td>\n",
              "      <td>23</td>\n",
              "      <td>miss</td>\n",
              "      <td>DEN</td>\n",
              "    </tr>\n",
              "    <tr>\n",
              "      <th>578832</th>\n",
              "      <td>693</td>\n",
              "      <td>2-pt layup</td>\n",
              "      <td>4</td>\n",
              "      <td>miss</td>\n",
              "      <td>DEN</td>\n",
              "    </tr>\n",
              "    <tr>\n",
              "      <th>578834</th>\n",
              "      <td>681</td>\n",
              "      <td>2-pt layup</td>\n",
              "      <td>12</td>\n",
              "      <td>miss</td>\n",
              "      <td>LAC</td>\n",
              "    </tr>\n",
              "    <tr>\n",
              "      <th>578836</th>\n",
              "      <td>673</td>\n",
              "      <td>3-pt jump shot</td>\n",
              "      <td>8</td>\n",
              "      <td>miss</td>\n",
              "      <td>DEN</td>\n",
              "    </tr>\n",
              "    <tr>\n",
              "      <th>578838</th>\n",
              "      <td>653</td>\n",
              "      <td>3-pt jump shot</td>\n",
              "      <td>20</td>\n",
              "      <td>miss</td>\n",
              "      <td>LAC</td>\n",
              "    </tr>\n",
              "    <tr>\n",
              "      <th>578840</th>\n",
              "      <td>641</td>\n",
              "      <td>2-pt jump shot</td>\n",
              "      <td>12</td>\n",
              "      <td>make</td>\n",
              "      <td>DEN</td>\n",
              "    </tr>\n",
              "    <tr>\n",
              "      <th>578841</th>\n",
              "      <td>632</td>\n",
              "      <td>2-pt jump shot</td>\n",
              "      <td>9</td>\n",
              "      <td>miss</td>\n",
              "      <td>LAC</td>\n",
              "    </tr>\n",
              "    <tr>\n",
              "      <th>578843</th>\n",
              "      <td>615</td>\n",
              "      <td>2-pt layup</td>\n",
              "      <td>17</td>\n",
              "      <td>make</td>\n",
              "      <td>DEN</td>\n",
              "    </tr>\n",
              "    <tr>\n",
              "      <th>578844</th>\n",
              "      <td>593</td>\n",
              "      <td>2-pt jump shot</td>\n",
              "      <td>22</td>\n",
              "      <td>make</td>\n",
              "      <td>LAC</td>\n",
              "    </tr>\n",
              "    <tr>\n",
              "      <th>578845</th>\n",
              "      <td>576</td>\n",
              "      <td>2-pt layup</td>\n",
              "      <td>17</td>\n",
              "      <td>make</td>\n",
              "      <td>DEN</td>\n",
              "    </tr>\n",
              "    <tr>\n",
              "      <th>578847</th>\n",
              "      <td>543</td>\n",
              "      <td>3-pt jump shot</td>\n",
              "      <td>33</td>\n",
              "      <td>make</td>\n",
              "      <td>DEN</td>\n",
              "    </tr>\n",
              "    <tr>\n",
              "      <th>578850</th>\n",
              "      <td>521</td>\n",
              "      <td>2-pt hook shot</td>\n",
              "      <td>22</td>\n",
              "      <td>miss</td>\n",
              "      <td>LAC</td>\n",
              "    </tr>\n",
              "    <tr>\n",
              "      <th>578852</th>\n",
              "      <td>511</td>\n",
              "      <td>2-pt layup</td>\n",
              "      <td>10</td>\n",
              "      <td>make</td>\n",
              "      <td>DEN</td>\n",
              "    </tr>\n",
              "    <tr>\n",
              "      <th>578854</th>\n",
              "      <td>487</td>\n",
              "      <td>3-pt jump shot</td>\n",
              "      <td>24</td>\n",
              "      <td>miss</td>\n",
              "      <td>LAC</td>\n",
              "    </tr>\n",
              "    <tr>\n",
              "      <th>578856</th>\n",
              "      <td>472</td>\n",
              "      <td>2-pt layup</td>\n",
              "      <td>15</td>\n",
              "      <td>make</td>\n",
              "      <td>DEN</td>\n",
              "    </tr>\n",
              "    <tr>\n",
              "      <th>578859</th>\n",
              "      <td>454</td>\n",
              "      <td>2-pt jump shot</td>\n",
              "      <td>18</td>\n",
              "      <td>make</td>\n",
              "      <td>LAC</td>\n",
              "    </tr>\n",
              "    <tr>\n",
              "      <th>578862</th>\n",
              "      <td>416</td>\n",
              "      <td>2-pt jump shot</td>\n",
              "      <td>38</td>\n",
              "      <td>make</td>\n",
              "      <td>LAC</td>\n",
              "    </tr>\n",
              "    <tr>\n",
              "      <th>578865</th>\n",
              "      <td>396</td>\n",
              "      <td>3-pt jump shot</td>\n",
              "      <td>20</td>\n",
              "      <td>miss</td>\n",
              "      <td>LAC</td>\n",
              "    </tr>\n",
              "    <tr>\n",
              "      <th>578871</th>\n",
              "      <td>376</td>\n",
              "      <td>2-pt dunk</td>\n",
              "      <td>20</td>\n",
              "      <td>make</td>\n",
              "      <td>LAC</td>\n",
              "    </tr>\n",
              "    <tr>\n",
              "      <th>578872</th>\n",
              "      <td>365</td>\n",
              "      <td>3-pt jump shot</td>\n",
              "      <td>11</td>\n",
              "      <td>make</td>\n",
              "      <td>DEN</td>\n",
              "    </tr>\n",
              "  </tbody>\n",
              "</table>\n",
              "</div>"
            ],
            "text/plain": [
              "        SecLeft        ShotType  Int.Arrival Time ShotOutcome Which Team?\n",
              "578830      697  2-pt jump shot                23        miss         DEN\n",
              "578832      693      2-pt layup                 4        miss         DEN\n",
              "578834      681      2-pt layup                12        miss         LAC\n",
              "578836      673  3-pt jump shot                 8        miss         DEN\n",
              "578838      653  3-pt jump shot                20        miss         LAC\n",
              "578840      641  2-pt jump shot                12        make         DEN\n",
              "578841      632  2-pt jump shot                 9        miss         LAC\n",
              "578843      615      2-pt layup                17        make         DEN\n",
              "578844      593  2-pt jump shot                22        make         LAC\n",
              "578845      576      2-pt layup                17        make         DEN\n",
              "578847      543  3-pt jump shot                33        make         DEN\n",
              "578850      521  2-pt hook shot                22        miss         LAC\n",
              "578852      511      2-pt layup                10        make         DEN\n",
              "578854      487  3-pt jump shot                24        miss         LAC\n",
              "578856      472      2-pt layup                15        make         DEN\n",
              "578859      454  2-pt jump shot                18        make         LAC\n",
              "578862      416  2-pt jump shot                38        make         LAC\n",
              "578865      396  3-pt jump shot                20        miss         LAC\n",
              "578871      376       2-pt dunk                20        make         LAC\n",
              "578872      365  3-pt jump shot                11        make         DEN"
            ]
          },
          "metadata": {
            "tags": []
          },
          "execution_count": 42
        }
      ]
    },
    {
      "cell_type": "markdown",
      "metadata": {
        "id": "O1Cl7FfGKeWI",
        "colab_type": "text"
      },
      "source": [
        "## 34. Gather ALL 82 games for ALL 30 teams"
      ]
    },
    {
      "cell_type": "code",
      "metadata": {
        "id": "iEcf2eUEeWsk",
        "colab_type": "code",
        "colab": {
          "base_uri": "https://localhost:8080/",
          "height": 581
        },
        "outputId": "adc3fc94-12ac-4e96-b250-9b5487890495"
      },
      "source": [
        "# ATL, BRK, BOS, CHI, CHO, CLE, DAL, DEN, DET, GSW, HOU, IND, LAC, LAL, MEM, MIA, MIL, MIN, NOP, NYK, OKC, ORL, PHI, PHO, POR, SAC, SAS, TOR, UTA, WAS\n",
        "LAC_all = nba.loc[ (nba['HomeTeam'] == 'LAC') | (nba['AwayTeam'] == 'LAC') & (nba['GameType'] == 'regular')]\n",
        "LAC_all.head()"
      ],
      "execution_count": null,
      "outputs": [
        {
          "output_type": "execute_result",
          "data": {
            "text/html": [
              "<div>\n",
              "<style scoped>\n",
              "    .dataframe tbody tr th:only-of-type {\n",
              "        vertical-align: middle;\n",
              "    }\n",
              "\n",
              "    .dataframe tbody tr th {\n",
              "        vertical-align: top;\n",
              "    }\n",
              "\n",
              "    .dataframe thead th {\n",
              "        text-align: right;\n",
              "    }\n",
              "</style>\n",
              "<table border=\"1\" class=\"dataframe\">\n",
              "  <thead>\n",
              "    <tr style=\"text-align: right;\">\n",
              "      <th></th>\n",
              "      <th>URL</th>\n",
              "      <th>GameType</th>\n",
              "      <th>Location</th>\n",
              "      <th>Date</th>\n",
              "      <th>Time</th>\n",
              "      <th>WinningTeam</th>\n",
              "      <th>Quarter</th>\n",
              "      <th>SecLeft</th>\n",
              "      <th>AwayTeam</th>\n",
              "      <th>AwayPlay</th>\n",
              "      <th>AwayScore</th>\n",
              "      <th>HomeTeam</th>\n",
              "      <th>HomePlay</th>\n",
              "      <th>HomeScore</th>\n",
              "      <th>Shooter</th>\n",
              "      <th>ShotType</th>\n",
              "      <th>ShotOutcome</th>\n",
              "      <th>ShotDist</th>\n",
              "      <th>Assister</th>\n",
              "      <th>Blocker</th>\n",
              "      <th>FoulType</th>\n",
              "      <th>Fouler</th>\n",
              "      <th>Fouled</th>\n",
              "      <th>Rebounder</th>\n",
              "      <th>ReboundType</th>\n",
              "      <th>ViolationPlayer</th>\n",
              "      <th>ViolationType</th>\n",
              "      <th>TimeoutTeam</th>\n",
              "      <th>FreeThrowShooter</th>\n",
              "      <th>FreeThrowOutcome</th>\n",
              "      <th>FreeThrowNum</th>\n",
              "      <th>EnterGame</th>\n",
              "      <th>LeaveGame</th>\n",
              "      <th>TurnoverPlayer</th>\n",
              "      <th>TurnoverType</th>\n",
              "      <th>TurnoverCause</th>\n",
              "      <th>TurnoverCauser</th>\n",
              "      <th>JumpballAwayPlayer</th>\n",
              "      <th>JumpballHomePlayer</th>\n",
              "      <th>JumpballPoss</th>\n",
              "    </tr>\n",
              "  </thead>\n",
              "  <tbody>\n",
              "    <tr>\n",
              "      <th>2902</th>\n",
              "      <td>/boxscores/201810170LAC.html</td>\n",
              "      <td>regular</td>\n",
              "      <td>STAPLES Center Los Angeles California</td>\n",
              "      <td>October 17 2018</td>\n",
              "      <td>10:30 PM</td>\n",
              "      <td>DEN</td>\n",
              "      <td>1</td>\n",
              "      <td>720</td>\n",
              "      <td>DEN</td>\n",
              "      <td>Jump ball: N. Jokic vs. M. Gortat (T. Harris g...</td>\n",
              "      <td>0</td>\n",
              "      <td>LAC</td>\n",
              "      <td>NaN</td>\n",
              "      <td>0</td>\n",
              "      <td>NaN</td>\n",
              "      <td>NaN</td>\n",
              "      <td>NaN</td>\n",
              "      <td>NaN</td>\n",
              "      <td>NaN</td>\n",
              "      <td>NaN</td>\n",
              "      <td>NaN</td>\n",
              "      <td>NaN</td>\n",
              "      <td>NaN</td>\n",
              "      <td>NaN</td>\n",
              "      <td>NaN</td>\n",
              "      <td>NaN</td>\n",
              "      <td>NaN</td>\n",
              "      <td>NaN</td>\n",
              "      <td>NaN</td>\n",
              "      <td>NaN</td>\n",
              "      <td>NaN</td>\n",
              "      <td>NaN</td>\n",
              "      <td>NaN</td>\n",
              "      <td>NaN</td>\n",
              "      <td>NaN</td>\n",
              "      <td>NaN</td>\n",
              "      <td>NaN</td>\n",
              "      <td>N. Jokic - DEN</td>\n",
              "      <td>M. Gortat - LAC</td>\n",
              "      <td>T. Harris</td>\n",
              "    </tr>\n",
              "    <tr>\n",
              "      <th>2903</th>\n",
              "      <td>/boxscores/201810170LAC.html</td>\n",
              "      <td>regular</td>\n",
              "      <td>STAPLES Center Los Angeles California</td>\n",
              "      <td>October 17 2018</td>\n",
              "      <td>10:30 PM</td>\n",
              "      <td>DEN</td>\n",
              "      <td>1</td>\n",
              "      <td>706</td>\n",
              "      <td>DEN</td>\n",
              "      <td>NaN</td>\n",
              "      <td>0</td>\n",
              "      <td>LAC</td>\n",
              "      <td>D. Gallinari misses 2-pt jump shot from 13 ft</td>\n",
              "      <td>0</td>\n",
              "      <td>D. Gallinari - LAC</td>\n",
              "      <td>2-pt jump shot</td>\n",
              "      <td>miss</td>\n",
              "      <td>13.0</td>\n",
              "      <td>NaN</td>\n",
              "      <td>NaN</td>\n",
              "      <td>NaN</td>\n",
              "      <td>NaN</td>\n",
              "      <td>NaN</td>\n",
              "      <td>NaN</td>\n",
              "      <td>NaN</td>\n",
              "      <td>NaN</td>\n",
              "      <td>NaN</td>\n",
              "      <td>NaN</td>\n",
              "      <td>NaN</td>\n",
              "      <td>NaN</td>\n",
              "      <td>NaN</td>\n",
              "      <td>NaN</td>\n",
              "      <td>NaN</td>\n",
              "      <td>NaN</td>\n",
              "      <td>NaN</td>\n",
              "      <td>NaN</td>\n",
              "      <td>NaN</td>\n",
              "      <td>NaN</td>\n",
              "      <td>NaN</td>\n",
              "      <td>NaN</td>\n",
              "    </tr>\n",
              "    <tr>\n",
              "      <th>2904</th>\n",
              "      <td>/boxscores/201810170LAC.html</td>\n",
              "      <td>regular</td>\n",
              "      <td>STAPLES Center Los Angeles California</td>\n",
              "      <td>October 17 2018</td>\n",
              "      <td>10:30 PM</td>\n",
              "      <td>DEN</td>\n",
              "      <td>1</td>\n",
              "      <td>701</td>\n",
              "      <td>DEN</td>\n",
              "      <td>Defensive rebound by J. Murray</td>\n",
              "      <td>0</td>\n",
              "      <td>LAC</td>\n",
              "      <td>NaN</td>\n",
              "      <td>0</td>\n",
              "      <td>NaN</td>\n",
              "      <td>NaN</td>\n",
              "      <td>NaN</td>\n",
              "      <td>NaN</td>\n",
              "      <td>NaN</td>\n",
              "      <td>NaN</td>\n",
              "      <td>NaN</td>\n",
              "      <td>NaN</td>\n",
              "      <td>NaN</td>\n",
              "      <td>J. Murray - DEN</td>\n",
              "      <td>defensive</td>\n",
              "      <td>NaN</td>\n",
              "      <td>NaN</td>\n",
              "      <td>NaN</td>\n",
              "      <td>NaN</td>\n",
              "      <td>NaN</td>\n",
              "      <td>NaN</td>\n",
              "      <td>NaN</td>\n",
              "      <td>NaN</td>\n",
              "      <td>NaN</td>\n",
              "      <td>NaN</td>\n",
              "      <td>NaN</td>\n",
              "      <td>NaN</td>\n",
              "      <td>NaN</td>\n",
              "      <td>NaN</td>\n",
              "      <td>NaN</td>\n",
              "    </tr>\n",
              "    <tr>\n",
              "      <th>2905</th>\n",
              "      <td>/boxscores/201810170LAC.html</td>\n",
              "      <td>regular</td>\n",
              "      <td>STAPLES Center Los Angeles California</td>\n",
              "      <td>October 17 2018</td>\n",
              "      <td>10:30 PM</td>\n",
              "      <td>DEN</td>\n",
              "      <td>1</td>\n",
              "      <td>683</td>\n",
              "      <td>DEN</td>\n",
              "      <td>J. Murray misses 3-pt jump shot from 27 ft</td>\n",
              "      <td>0</td>\n",
              "      <td>LAC</td>\n",
              "      <td>NaN</td>\n",
              "      <td>0</td>\n",
              "      <td>J. Murray - DEN</td>\n",
              "      <td>3-pt jump shot</td>\n",
              "      <td>miss</td>\n",
              "      <td>27.0</td>\n",
              "      <td>NaN</td>\n",
              "      <td>NaN</td>\n",
              "      <td>NaN</td>\n",
              "      <td>NaN</td>\n",
              "      <td>NaN</td>\n",
              "      <td>NaN</td>\n",
              "      <td>NaN</td>\n",
              "      <td>NaN</td>\n",
              "      <td>NaN</td>\n",
              "      <td>NaN</td>\n",
              "      <td>NaN</td>\n",
              "      <td>NaN</td>\n",
              "      <td>NaN</td>\n",
              "      <td>NaN</td>\n",
              "      <td>NaN</td>\n",
              "      <td>NaN</td>\n",
              "      <td>NaN</td>\n",
              "      <td>NaN</td>\n",
              "      <td>NaN</td>\n",
              "      <td>NaN</td>\n",
              "      <td>NaN</td>\n",
              "      <td>NaN</td>\n",
              "    </tr>\n",
              "    <tr>\n",
              "      <th>2906</th>\n",
              "      <td>/boxscores/201810170LAC.html</td>\n",
              "      <td>regular</td>\n",
              "      <td>STAPLES Center Los Angeles California</td>\n",
              "      <td>October 17 2018</td>\n",
              "      <td>10:30 PM</td>\n",
              "      <td>DEN</td>\n",
              "      <td>1</td>\n",
              "      <td>679</td>\n",
              "      <td>DEN</td>\n",
              "      <td>Offensive rebound by G. Harris</td>\n",
              "      <td>0</td>\n",
              "      <td>LAC</td>\n",
              "      <td>NaN</td>\n",
              "      <td>0</td>\n",
              "      <td>NaN</td>\n",
              "      <td>NaN</td>\n",
              "      <td>NaN</td>\n",
              "      <td>NaN</td>\n",
              "      <td>NaN</td>\n",
              "      <td>NaN</td>\n",
              "      <td>NaN</td>\n",
              "      <td>NaN</td>\n",
              "      <td>NaN</td>\n",
              "      <td>G. Harris - DEN</td>\n",
              "      <td>offensive</td>\n",
              "      <td>NaN</td>\n",
              "      <td>NaN</td>\n",
              "      <td>NaN</td>\n",
              "      <td>NaN</td>\n",
              "      <td>NaN</td>\n",
              "      <td>NaN</td>\n",
              "      <td>NaN</td>\n",
              "      <td>NaN</td>\n",
              "      <td>NaN</td>\n",
              "      <td>NaN</td>\n",
              "      <td>NaN</td>\n",
              "      <td>NaN</td>\n",
              "      <td>NaN</td>\n",
              "      <td>NaN</td>\n",
              "      <td>NaN</td>\n",
              "    </tr>\n",
              "  </tbody>\n",
              "</table>\n",
              "</div>"
            ],
            "text/plain": [
              "                               URL GameType  ... JumpballHomePlayer JumpballPoss\n",
              "2902  /boxscores/201810170LAC.html  regular  ...    M. Gortat - LAC    T. Harris\n",
              "2903  /boxscores/201810170LAC.html  regular  ...                NaN          NaN\n",
              "2904  /boxscores/201810170LAC.html  regular  ...                NaN          NaN\n",
              "2905  /boxscores/201810170LAC.html  regular  ...                NaN          NaN\n",
              "2906  /boxscores/201810170LAC.html  regular  ...                NaN          NaN\n",
              "\n",
              "[5 rows x 40 columns]"
            ]
          },
          "metadata": {
            "tags": []
          },
          "execution_count": 43
        }
      ]
    },
    {
      "cell_type": "code",
      "metadata": {
        "id": "O5EkT1JPeKsd",
        "colab_type": "code",
        "colab": {
          "base_uri": "https://localhost:8080/",
          "height": 34
        },
        "outputId": "ad14d247-7936-4bc8-98eb-abec52ff1998"
      },
      "source": [
        "ATL_all = nba.loc[ (nba['HomeTeam'] == 'ATL') | (nba['AwayTeam'] == 'ATL') & (nba['GameType'] == 'regular')]\n",
        "ATL_all.shape"
      ],
      "execution_count": null,
      "outputs": [
        {
          "output_type": "execute_result",
          "data": {
            "text/plain": [
              "(40708, 40)"
            ]
          },
          "metadata": {
            "tags": []
          },
          "execution_count": 44
        }
      ]
    },
    {
      "cell_type": "code",
      "metadata": {
        "id": "h-aUWSSse00x",
        "colab_type": "code",
        "colab": {
          "base_uri": "https://localhost:8080/",
          "height": 34
        },
        "outputId": "3e12e1da-9d7f-40f7-b685-e1f70dfe4ff9"
      },
      "source": [
        "BRK_all = nba.loc[ (nba['HomeTeam'] == 'BRK') | (nba['AwayTeam'] == 'BRK') & (nba['GameType'] == 'regular')]\n",
        "BRK_all.shape"
      ],
      "execution_count": null,
      "outputs": [
        {
          "output_type": "execute_result",
          "data": {
            "text/plain": [
              "(40562, 40)"
            ]
          },
          "metadata": {
            "tags": []
          },
          "execution_count": 45
        }
      ]
    },
    {
      "cell_type": "code",
      "metadata": {
        "id": "o2yCvNU9fLsz",
        "colab_type": "code",
        "colab": {
          "base_uri": "https://localhost:8080/",
          "height": 34
        },
        "outputId": "4185cb2c-dc38-434c-bdf6-49fc76c8c5fd"
      },
      "source": [
        "BOS_all = nba.loc[ (nba['HomeTeam'] == 'BOS') | (nba['AwayTeam'] == 'BOS') & (nba['GameType'] == 'regular')]\n",
        "BOS_all.shape"
      ],
      "execution_count": null,
      "outputs": [
        {
          "output_type": "execute_result",
          "data": {
            "text/plain": [
              "(39709, 40)"
            ]
          },
          "metadata": {
            "tags": []
          },
          "execution_count": 46
        }
      ]
    },
    {
      "cell_type": "code",
      "metadata": {
        "id": "ht_hg2econGI",
        "colab_type": "code",
        "colab": {
          "base_uri": "https://localhost:8080/",
          "height": 34
        },
        "outputId": "3d29b3be-52ec-47d4-8451-7f9d98201c9c"
      },
      "source": [
        "CHI_all = nba.loc[ (nba['HomeTeam'] == 'CHI') | (nba['AwayTeam'] == 'CHI') & (nba['GameType'] == 'regular')]\n",
        "CHI_all.shape"
      ],
      "execution_count": null,
      "outputs": [
        {
          "output_type": "execute_result",
          "data": {
            "text/plain": [
              "(37216, 40)"
            ]
          },
          "metadata": {
            "tags": []
          },
          "execution_count": 47
        }
      ]
    },
    {
      "cell_type": "code",
      "metadata": {
        "id": "UKLYt_PMotlN",
        "colab_type": "code",
        "colab": {
          "base_uri": "https://localhost:8080/",
          "height": 34
        },
        "outputId": "533a02cd-6025-4b90-ea4e-f3df8f3524e5"
      },
      "source": [
        "# ATL, BRK, BOS, CHI, CHO, CLE, DAL, DEN, DET, GSW, HOU, IND, LAC, LAL, MEM, MIA, MIL, MIN, NOP, NYK, OKC, ORL, PHI, PHO, POR, SAC, SAS, TOR, UTA, WAS\n",
        "CHO_all = nba.loc[ (nba['HomeTeam'] == 'CHO') | (nba['AwayTeam'] == 'CHO') & (nba['GameType'] == 'regular')]\n",
        "CHO_all.shape"
      ],
      "execution_count": null,
      "outputs": [
        {
          "output_type": "execute_result",
          "data": {
            "text/plain": [
              "(37669, 40)"
            ]
          },
          "metadata": {
            "tags": []
          },
          "execution_count": 48
        }
      ]
    },
    {
      "cell_type": "code",
      "metadata": {
        "id": "1S8s0z-ZoyRQ",
        "colab_type": "code",
        "colab": {
          "base_uri": "https://localhost:8080/",
          "height": 34
        },
        "outputId": "9873d9df-5de4-41f2-dff5-cbe5f00b5911"
      },
      "source": [
        "CLE_all = nba.loc[ (nba['HomeTeam'] == 'CLE') | (nba['AwayTeam'] == 'CLE') & (nba['GameType'] == 'regular')]\n",
        "CLE_all.shape"
      ],
      "execution_count": null,
      "outputs": [
        {
          "output_type": "execute_result",
          "data": {
            "text/plain": [
              "(36589, 40)"
            ]
          },
          "metadata": {
            "tags": []
          },
          "execution_count": 49
        }
      ]
    },
    {
      "cell_type": "code",
      "metadata": {
        "id": "6pQQbY7ko9ds",
        "colab_type": "code",
        "colab": {
          "base_uri": "https://localhost:8080/",
          "height": 34
        },
        "outputId": "7e010bff-1be1-465b-9099-1a2e7cb62167"
      },
      "source": [
        "DAL_all = nba.loc[ (nba['HomeTeam'] == 'DAL') | (nba['AwayTeam'] == 'DAL') & (nba['GameType'] == 'regular')]\n",
        "DAL_all.shape"
      ],
      "execution_count": null,
      "outputs": [
        {
          "output_type": "execute_result",
          "data": {
            "text/plain": [
              "(38432, 40)"
            ]
          },
          "metadata": {
            "tags": []
          },
          "execution_count": 50
        }
      ]
    },
    {
      "cell_type": "code",
      "metadata": {
        "id": "vNTPbWMbpKx3",
        "colab_type": "code",
        "colab": {
          "base_uri": "https://localhost:8080/",
          "height": 34
        },
        "outputId": "91edf791-69a8-414d-d894-b234eaf26f56"
      },
      "source": [
        "DEN_all = nba.loc[ (nba['HomeTeam'] == 'DEN') | (nba['AwayTeam'] == 'DEN') & (nba['GameType'] == 'regular')]\n",
        "DEN_all.shape"
      ],
      "execution_count": null,
      "outputs": [
        {
          "output_type": "execute_result",
          "data": {
            "text/plain": [
              "(41310, 40)"
            ]
          },
          "metadata": {
            "tags": []
          },
          "execution_count": 51
        }
      ]
    },
    {
      "cell_type": "code",
      "metadata": {
        "id": "s5vXTWVopPks",
        "colab_type": "code",
        "colab": {
          "base_uri": "https://localhost:8080/",
          "height": 34
        },
        "outputId": "6177ffd0-6a9e-4b70-9bf8-d4ad8db0d9ea"
      },
      "source": [
        "DET_all = nba.loc[ (nba['HomeTeam'] == 'DET') | (nba['AwayTeam'] == 'DET') & (nba['GameType'] == 'regular')]\n",
        "DET_all.shape"
      ],
      "execution_count": null,
      "outputs": [
        {
          "output_type": "execute_result",
          "data": {
            "text/plain": [
              "(38853, 40)"
            ]
          },
          "metadata": {
            "tags": []
          },
          "execution_count": 52
        }
      ]
    },
    {
      "cell_type": "code",
      "metadata": {
        "id": "zE5kWk0OpVaX",
        "colab_type": "code",
        "colab": {
          "base_uri": "https://localhost:8080/",
          "height": 34
        },
        "outputId": "3b1ed904-e99a-479e-e6c4-6a8b7b8d17cc"
      },
      "source": [
        "GSW_all = nba.loc[ (nba['HomeTeam'] == 'GSW') | (nba['AwayTeam'] == 'GSW') & (nba['GameType'] == 'regular')]\n",
        "GSW_all.shape"
      ],
      "execution_count": null,
      "outputs": [
        {
          "output_type": "execute_result",
          "data": {
            "text/plain": [
              "(43117, 40)"
            ]
          },
          "metadata": {
            "tags": []
          },
          "execution_count": 53
        }
      ]
    },
    {
      "cell_type": "code",
      "metadata": {
        "id": "zmOQOq0YL4-W",
        "colab_type": "code",
        "colab": {
          "base_uri": "https://localhost:8080/",
          "height": 34
        },
        "outputId": "8dff71ad-8992-47fe-8e01-665c2b877873"
      },
      "source": [
        "# Display the rows ONLY containing freethrows, 2pts and 3pts (all shots) taken by Both Teams \n",
        "shots_all_GSW = GSW_all.loc[ (pd.isnull(GSW_all['ShotType']) == False) | (pd.isnull(GSW_all['FreeThrowOutcome']) == False),\n",
        "                      ['SecLeft', 'Quarter', 'ShotType', 'ShotOutcome', 'FreeThrowOutcome', 'HomePlay', 'HomeTeam', 'AwayTeam'] ] \n",
        "\n",
        "# Display the rows ONLY containing 2pts and 3pts taken by HomeTeam\n",
        "shots_all_23s_GSW = GSW_all.loc[ (pd.isnull(GSW_all['ShotType']) == False),\n",
        "                      ['SecLeft', 'Quarter', 'ShotType', 'ShotOutcome', 'HomePlay'] ] \n",
        "\n",
        "shots_all_23s_GSW.rename(columns={'HomePlay': 'Which Team?'}, inplace=True)\n",
        "\n",
        "# this for loop iterates through df and assigns a team to 'Which Team' column\n",
        "# using 'HomePlay' as an indicator and getting the value to be assigned from\n",
        "# either 'HomeTeam' or 'AwayTeam' hence shots_all_LD4.iloc[pos, 6/7]\n",
        "for pos in range(shots_all_23s_GSW.shape[0]):\n",
        "  if pd.isnull(shots_all_23s_GSW.iloc[pos, 4]) == False:\n",
        "    shots_all_23s_GSW.iloc[pos, 4] = shots_all_GSW.iloc[pos, 6]\n",
        "  else:\n",
        "    shots_all_23s_GSW.iloc[pos, 4] = shots_all_GSW.iloc[pos, 7]\n",
        "\n",
        "\n",
        "# Gather all 2pts made by HomeTeam and have it side by side with SecLeft \n",
        "shots_2s_GSW = shots_all_GSW.loc[ (pd.isnull(shots_all_GSW['ShotType']) == False) & (shots_all_GSW['ShotType'].str.contains('2-pt')),\n",
        "                         ['SecLeft', 'Quarter', 'ShotType', 'ShotOutcome', 'HomePlay'] ]\n",
        "\n",
        "\n",
        "shots_2s_GSW.rename(columns={'HomePlay': 'Which Team?'}, inplace=True)\n",
        "\n",
        "# this for loop iterates through df and assigns a team to 'Which Team' column\n",
        "# using 'HomePlay' as an indicator and getting the value to be assigned from\n",
        "# either 'HomeTeam' or 'AwayTeam' hence shots_all_LD4.iloc[pos, 6/7]\n",
        "for pos in range(shots_2s_GSW.shape[0]):\n",
        "  if pd.isnull(shots_2s_GSW.iloc[pos, 4]) == False:\n",
        "    shots_2s_GSW.iloc[pos, 4] = shots_all_GSW.iloc[pos, 6]\n",
        "  else:\n",
        "    shots_2s_GSW.iloc[pos, 4] = shots_all_GSW.iloc[pos, 7]\n",
        "\n",
        "# Gather all 3pts made by HomeTeam and have it side by side with SecLeft \n",
        "shots_3s_GSW = shots_all_GSW.loc[ (pd.isnull(shots_all_GSW['ShotType']) == False) & (shots_all_GSW['ShotType'].str.contains('3-pt')),\n",
        "                         ['SecLeft', 'Quarter','ShotType', 'ShotOutcome', 'HomePlay'] ]\n",
        "\n",
        "shots_3s_GSW.rename(columns={'HomePlay': 'Which Team?'}, inplace=True)\n",
        "\n",
        "# this for loop iterates through df and assigns a team to 'Which Team' column\n",
        "# using 'HomePlay' as an indicator and getting the value to be assigned from\n",
        "# either 'HomeTeam' or 'AwayTeam' hence shots_all_LD4.iloc[pos, 6/7]\n",
        "for pos in range(shots_3s_GSW.shape[0]):\n",
        "  if pd.isnull(shots_3s_GSW.iloc[pos, 4]) == False:\n",
        "    shots_3s_GSW.iloc[pos, 4] = shots_all_GSW.iloc[pos, 6]\n",
        "  else:\n",
        "    shots_3s_GSW.iloc[pos, 4] = shots_all_GSW.iloc[pos, 7]\n",
        "\n",
        "# Gather all 1pts made by HomeTeam and have it side by side with SecLeft \n",
        "shots_1s_GSW = shots_all_GSW.loc[pd.isnull(shots_all_GSW['FreeThrowOutcome']) == False, \n",
        "                               ['SecLeft', 'Quarter', 'FreeThrowOutcome', 'HomePlay'] ]\n",
        "\n",
        "shots_1s_GSW.rename(columns={'HomePlay': 'Which Team?'}, inplace=True)\n",
        "\n",
        "# this for loop iterates through df and assigns a team to 'Which Team' column\n",
        "# using 'HomePlay' as an indicator and getting the value to be assigned from\n",
        "# either 'HomeTeam' or 'AwayTeam' hence shots_all_LD4.iloc[pos, 6/7]\n",
        "for pos in range(shots_1s_GSW.shape[0]):\n",
        "  if pd.isnull(shots_1s_GSW.iloc[pos, 3]) == False:\n",
        "    shots_1s_GSW.iloc[pos, 3] = shots_all_GSW.iloc[pos, 6]\n",
        "  else:\n",
        "    shots_1s_GSW.iloc[pos, 3] = shots_all_GSW.iloc[pos, 7]\n",
        "\n",
        "\n",
        "shots_all_23s_GSW.head(30)\n",
        "# shots_3s_TOR.head(10)\n",
        "# shots_1s_TOR.head(10)\n",
        "\n",
        "# shots_all_23s_TOR.head(60) \n",
        "shots_all_23s_GSW.shape[0]\n",
        "#shots_all_TOR.iloc[230:270]\n",
        "#shots_all_23s_TOR.iloc[2500#:2530]"
      ],
      "execution_count": null,
      "outputs": [
        {
          "output_type": "execute_result",
          "data": {
            "text/plain": [
              "16674"
            ]
          },
          "metadata": {
            "tags": []
          },
          "execution_count": 54
        }
      ]
    },
    {
      "cell_type": "code",
      "metadata": {
        "id": "ySRmodzAM5-1",
        "colab_type": "code",
        "colab": {
          "base_uri": "https://localhost:8080/",
          "height": 88
        },
        "outputId": "d5203848-e762-49cc-d10a-62a65f6341d7"
      },
      "source": [
        "timesGSW = []\n",
        "\n",
        "# Loop to retrieve interarrival times between every shot for LAC\n",
        "sum = 0\n",
        "locs = \"\"\n",
        "for x in range(shots_all_23s_GSW.shape[0]):\n",
        "  # .iloc[x, 0] gets us row x for col 0 (SecLeft in our case)\n",
        "\n",
        "  # very start of quarter, interarrival time is 720 - next time\n",
        "  # CHANGE TO... shots_all_23s_TOR.iloc[x, 1] and [x+1, 1] checks for Q4 and Q1\n",
        "  # if x == 0 or shots_all_23s_TOR.iloc[x-1, 1] == 4 or shots_all_23s_TOR.iloc[x-1, 1] == 5 and shots_all_23s_TOR.iloc[x, 1] == 1\n",
        "  if (x == 0) or ( (shots_all_23s_GSW.iloc[x-1, 1] == 4 or shots_all_23s_GSW.iloc[x-1, 1] == 5) and shots_all_23s_GSW.iloc[x, 1] == 1):\n",
        "    sum += 1 # should add up to 82\n",
        "    locs += str(x) + ', '\n",
        "    time = 720 - shots_all_23s_GSW.iloc[x, 0]\n",
        "\n",
        "  # end of quarter time minus next shot time in new quarter \n",
        "  elif shots_all_23s_GSW.iloc[x-1, 0] < shots_all_23s_GSW.iloc[x, 0] and shots_all_23s_GSW.iloc[x, 1] == 5:\n",
        "    time = (300 + shots_all_23s_GSW.iloc[x-1, 0]) - shots_all_23s_GSW.iloc[x, 0]\n",
        "\n",
        "  elif shots_all_23s_GSW.iloc[x-1, 0] < shots_all_23s_GSW.iloc[x, 0]:\n",
        "    time = (720 + shots_all_23s_GSW.iloc[x-1, 0]) - shots_all_23s_GSW.iloc[x, 0]\n",
        "\n",
        "  # Do not record differences of 0 (for instance two back to back freethrows)\n",
        "  # elif shots_all_23s_LD4.iloc[x-1, 0] == shots_all_23s_LD4.iloc[x, 0]:\n",
        "  #  continue\n",
        "\n",
        "  else:\n",
        "    time = shots_all_23s_GSW.iloc[x-1, 0] - shots_all_23s_GSW.iloc[x, 0]\n",
        "  timesGSW.append(time)\n",
        "  \n",
        "print(locs)\n",
        "print(sum)\n",
        "\n",
        "# Remove outliers to gain better visual of histograph\n",
        "timesGSW2 = []\n",
        "for time in timesGSW:\n",
        "  if time < 100:\n",
        "    timesGSW2.append(time)\n",
        "\n",
        "dict1 = {}\n",
        "for val in range(len(timesGSW2)):\n",
        "  time = timesGSW2[val]\n",
        "  dict1[time] = dict1.get(time, 0) + 1\n",
        "  \n",
        "print(len(dict1.keys()))"
      ],
      "execution_count": null,
      "outputs": [
        {
          "output_type": "stream",
          "text": [
            "0, 186, 363, 542, 726, 902, 1082, 1246, 1422, 1610, 1802, 1978, 2146, 2327, 2500, 2690, 2871, 3051, 3215, 3379, 3569, 3755, 3940, 4111, 4296, 4481, 4674, 4861, 5046, 5206, 5408, 5579, 5755, 5928, 6110, 6270, 6453, 6616, 6788, 6980, 7181, 7364, 7542, 7707, 7883, 8056, 8227, 8416, 8605, 8786, 8956, 9136, 9312, 9500, 9690, 9877, 10065, 10252, 10420, 10596, 10786, 10964, 11140, 11324, 11504, 11678, 11836, 12018, 12208, 12381, 12549, 12731, 12894, 13105, 13254, 13442, 13623, 13804, 13971, 14145, 14327, 14527, 14714, 14907, 15108, 15286, 15459, 15628, 15792, 15982, 16156, 16328, 16512, \n",
            "93\n",
            "74\n"
          ],
          "name": "stdout"
        }
      ]
    },
    {
      "cell_type": "code",
      "metadata": {
        "id": "zQVr_cJvOhwR",
        "colab_type": "code",
        "colab": {
          "base_uri": "https://localhost:8080/",
          "height": 333
        },
        "outputId": "c1a4523f-9565-45ca-ef2b-7f63f79efa72"
      },
      "source": [
        "import math\n",
        "\n",
        "x_axis = timesGSW2\n",
        "plt.style.use('ggplot')\n",
        "fig, ax = plt.subplots()\n",
        "plt.hist(x_axis, bins= int(len(dict1.keys())), density=True, facecolor='#1161FF') # '#FFD8C4' color of slide\n",
        "# plt.hist(x_axis, bins= int(math.sqrt(len(dict.keys()))))\n",
        "plt.xticks(np.arange(min(x_axis), max(x_axis)+1, 10.0))\n",
        "plt.ylim((None, 0.09))\n",
        "fig.patch.set_facecolor('#B7BDCA')\n",
        "ax.set_facecolor('#B7BDCA')\n",
        "\n",
        "plt.ylabel('Probability')\n",
        "plt.xlabel('InterArrival Times')\n",
        "plt.title('InterArrival Time vs. Frequency \\nfor ALL GSW Games, 2 & 3 pts')"
      ],
      "execution_count": null,
      "outputs": [
        {
          "output_type": "execute_result",
          "data": {
            "text/plain": [
              "Text(0.5, 1.0, 'InterArrival Time vs. Frequency \\nfor ALL GSW Games, 2 & 3 pts')"
            ]
          },
          "metadata": {
            "tags": []
          },
          "execution_count": 99
        },
        {
          "output_type": "display_data",
          "data": {
            "image/png": "[encoded data removed]",
            "text/plain": [
              "<Figure size 432x288 with 1 Axes>"
            ]
          },
          "metadata": {
            "tags": []
          }
        }
      ]
    },
    {
      "cell_type": "code",
      "metadata": {
        "id": "WmtmDyESOuV5",
        "colab_type": "code",
        "colab": {
          "base_uri": "https://localhost:8080/",
          "height": 88
        },
        "outputId": "ac260979-295f-49fc-cd6a-0235fd9f4133"
      },
      "source": [
        "times_2sGSW = []\n",
        "\n",
        "# Loop to retrieve interarrival times between every shot for LAC\n",
        "sum = 0\n",
        "locs = \"\"\n",
        "for x in range(shots_2s_GSW.shape[0]):\n",
        "  # .iloc[x, 0] gets us row x for col 0 (SecLeft in our case)\n",
        "\n",
        "  # very start of quarter, interarrival time is 720 - next time\n",
        "  # CHANGE TO... shots_all_23s_TOR.iloc[x, 1] and [x+1, 1] checks for Q4 and Q1\n",
        "  # if x == 0 or shots_all_23s_TOR.iloc[x-1, 1] == 4 or shots_all_23s_TOR.iloc[x-1, 1] == 5 and shots_all_23s_TOR.iloc[x, 1] == 1\n",
        "  if (x == 0) or ( (shots_2s_GSW.iloc[x-1, 1] == 4 or shots_2s_GSW.iloc[x-1, 1] == 5) and shots_2s_GSW.iloc[x, 1] == 1):\n",
        "    sum += 1 # should add up to 82\n",
        "    locs += str(x) + ', '\n",
        "    time = 720 - shots_2s_GSW.iloc[x, 0] \n",
        "\n",
        "  # end of quarter time minus next shot time in new quarter \n",
        "  elif shots_2s_GSW.iloc[x-1, 0] < shots_2s_GSW.iloc[x, 0] and shots_2s_GSW.iloc[x, 1] == 5:\n",
        "    time = (300 + shots_2s_GSW.iloc[x-1, 0]) - shots_2s_GSW.iloc[x, 0]\n",
        "\n",
        "  elif shots_2s_GSW.iloc[x-1, 0] < shots_2s_GSW.iloc[x, 0]:\n",
        "    time = (720 + shots_2s_GSW.iloc[x-1, 0]) - shots_2s_GSW.iloc[x, 0]\n",
        "\n",
        "  # Do not record differences of 0 (for instance two back to back freethrows)\n",
        "  # elif shots_all_23s_LD4.iloc[x-1, 0] == shots_all_23s_LD4.iloc[x, 0]:\n",
        "  #  continue\n",
        "\n",
        "  else:\n",
        "    time = shots_2s_GSW.iloc[x-1, 0] - shots_2s_GSW.iloc[x, 0]\n",
        "  times_2sGSW.append(time)\n",
        "print(locs)\n",
        "print(sum)\n",
        "\n",
        "# Remove outliers to gain better visual of histograph\n",
        "times_2sGSW2 = []\n",
        "for time in times_2sGSW:\n",
        "  if time < 100:\n",
        "    times_2sGSW2.append(time)\n",
        "\n",
        "dict1 = {}\n",
        "for val in range(len(times_2sGSW2)):\n",
        "  time = times_2sGSW2[val]\n",
        "  dict1[time] = dict1.get(time, 0) + 1\n",
        "print(len(dict1.keys()))"
      ],
      "execution_count": null,
      "outputs": [
        {
          "output_type": "stream",
          "text": [
            "0, 123, 228, 331, 446, 547, 668, 773, 883, 998, 1106, 1215, 1307, 1403, 1497, 1605, 1717, 1838, 1946, 2032, 2142, 2254, 2377, 2486, 2620, 2734, 2859, 2967, 3077, 3197, 3316, 3431, 3539, 3658, 3767, 3868, 3989, 4087, 4209, 4340, 4463, 4585, 4707, 4811, 4922, 5021, 5124, 5249, 5359, 5473, 5584, 5686, 5806, 5931, 6038, 6152, 6276, 6403, 6507, 6608, 6722, 6831, 6942, 7064, 7177, 7280, 7382, 7485, 7592, 7702, 7802, 7927, 8017, 8144, 8224, 8349, 8457, 8570, 8676, 8784, 8906, 9020, 9146, 9260, 9370, 9498, 9606, 9721, 9834, 9949, 10058, 10141, 10258, \n",
            "93\n",
            "100\n"
          ],
          "name": "stdout"
        }
      ]
    },
    {
      "cell_type": "code",
      "metadata": {
        "id": "GaZZS4IbPb0j",
        "colab_type": "code",
        "colab": {
          "base_uri": "https://localhost:8080/",
          "height": 333
        },
        "outputId": "d6205717-e30f-4565-8337-c059dda3b4ca"
      },
      "source": [
        "import math\n",
        "\n",
        "x_axis = times_2sGSW2\n",
        "plt.style.use('ggplot')\n",
        "fig, ax = plt.subplots()\n",
        "plt.hist(x_axis, bins= int(len(dict1.keys())), density=True, facecolor='#1161FF') # '#FFD8C4' color of slide\n",
        "# plt.hist(x_axis, bins= int(math.sqrt(len(dict.keys()))))\n",
        "plt.xticks(np.arange(min(x_axis), max(x_axis)+1, 10.0))\n",
        "plt.ylim((None, 0.04))\n",
        "fig.patch.set_facecolor('#B7BDCA')\n",
        "ax.set_facecolor('#B7BDCA')\n",
        "\n",
        "plt.ylabel('Probability')\n",
        "plt.xlabel('InterArrival Times')\n",
        "plt.title('InterArrival Time vs. Frequency \\nfor ALL GSW Games, 2 pts')"
      ],
      "execution_count": null,
      "outputs": [
        {
          "output_type": "execute_result",
          "data": {
            "text/plain": [
              "Text(0.5, 1.0, 'InterArrival Time vs. Frequency \\nfor ALL GSW Games, 2 pts')"
            ]
          },
          "metadata": {
            "tags": []
          },
          "execution_count": 104
        },
        {
          "output_type": "display_data",
          "data": {
            "image/png": "[encoded data removed]",
            "text/plain": [
              "<Figure size 432x288 with 1 Axes>"
            ]
          },
          "metadata": {
            "tags": []
          }
        }
      ]
    },
    {
      "cell_type": "code",
      "metadata": {
        "id": "bxOYbmyaPmbq",
        "colab_type": "code",
        "colab": {
          "base_uri": "https://localhost:8080/",
          "height": 88
        },
        "outputId": "2458b36f-d634-4889-96de-ef3e84798f64"
      },
      "source": [
        "times_3sGSW = []\n",
        "\n",
        "# Loop to retrieve interarrival times between every shot for LAC\n",
        "sum = 0\n",
        "locs = \"\"\n",
        "for x in range(shots_3s_GSW.shape[0]):\n",
        "  # .iloc[x, 0] gets us row x for col 0 (SecLeft in our case)\n",
        "\n",
        "  # very start of quarter, interarrival time is 720 - next time\n",
        "  # CHANGE TO... shots_all_23s_TOR.iloc[x, 1] and [x+1, 1] checks for Q4 and Q1\n",
        "  # if x == 0 or shots_all_23s_TOR.iloc[x-1, 1] == 4 or shots_all_23s_TOR.iloc[x-1, 1] == 5 and shots_all_23s_TOR.iloc[x, 1] == 1\n",
        "  if (x == 0) or ( (shots_3s_GSW.iloc[x-1, 1] == 4 or shots_3s_GSW.iloc[x-1, 1] == 5) and shots_3s_GSW.iloc[x, 1] == 1):\n",
        "    sum += 1 # should add up to 82\n",
        "    locs += str(x) + ', '\n",
        "    time = 720 - shots_3s_GSW.iloc[x, 0] \n",
        "\n",
        "  # end of quarter time minus next shot time in new quarter \n",
        "  elif shots_3s_GSW.iloc[x-1, 0] < shots_3s_GSW.iloc[x, 0] and shots_3s_GSW.iloc[x, 1] == 5:\n",
        "    time = (300 + shots_3s_GSW.iloc[x-1, 0]) - shots_3s_GSW.iloc[x, 0]\n",
        "\n",
        "  elif shots_3s_GSW.iloc[x-1, 0] < shots_3s_GSW.iloc[x, 0]:\n",
        "    time = (720 + shots_3s_GSW.iloc[x-1, 0]) - shots_3s_GSW.iloc[x, 0]\n",
        "\n",
        "  # Do not record differences of 0 (for instance two back to back freethrows)\n",
        "  # elif shots_all_23s_LD4.iloc[x-1, 0] == shots_all_23s_LD4.iloc[x, 0]:\n",
        "  #  continue\n",
        "\n",
        "  else:\n",
        "    time = shots_3s_GSW.iloc[x-1, 0] - shots_3s_GSW.iloc[x, 0]\n",
        "  times_3sGSW.append(time)\n",
        "print(locs)\n",
        "print(sum)\n",
        "\n",
        "# Remove outliers to gain better visual of histograph\n",
        "times_3sGSW2 = []\n",
        "for time in times_3sGSW:\n",
        "  if time < 150:\n",
        "    times_3sGSW2.append(time)\n",
        "\n",
        "dict1 = {}\n",
        "for val in range(len(times_3sGSW2)):\n",
        "  time = times_3sGSW2[val]\n",
        "  dict1[time] = dict1.get(time, 0) + 1\n",
        "print(len(dict1.keys()))"
      ],
      "execution_count": null,
      "outputs": [
        {
          "output_type": "stream",
          "text": [
            "0, 63, 135, 211, 280, 355, 414, 473, 539, 612, 696, 763, 839, 924, 1003, 1085, 1154, 1213, 1269, 1347, 1427, 1501, 1563, 1625, 1676, 1747, 1815, 1894, 1969, 2009, 2092, 2148, 2216, 2270, 2343, 2402, 2464, 2529, 2579, 2640, 2718, 2779, 2835, 2896, 2961, 3035, 3103, 3167, 3246, 3313, 3372, 3450, 3506, 3569, 3652, 3725, 3789, 3849, 3913, 3988, 4064, 4133, 4198, 4260, 4327, 4398, 4454, 4533, 4616, 4679, 4747, 4804, 4877, 4961, 5030, 5093, 5166, 5234, 5295, 5361, 5421, 5507, 5568, 5647, 5738, 5788, 5853, 5907, 5958, 6033, 6098, 6187, 6254, \n",
            "93\n",
            "148\n"
          ],
          "name": "stdout"
        }
      ]
    },
    {
      "cell_type": "code",
      "metadata": {
        "id": "L78nE067QC62",
        "colab_type": "code",
        "colab": {
          "base_uri": "https://localhost:8080/",
          "height": 333
        },
        "outputId": "60e8195f-666a-43d8-b6af-9d773f25383e"
      },
      "source": [
        "import math\n",
        "\n",
        "x_axis = times_3sGSW2\n",
        "plt.style.use('ggplot')\n",
        "fig, ax = plt.subplots()\n",
        "plt.hist(x_axis, bins= int(len(dict1.keys())), density=True, facecolor='#1161FF') # '#FFD8C4' color of slide\n",
        "# plt.hist(x_axis, bins= int(math.sqrt(len(dict.keys()))))\n",
        "plt.xticks(np.arange(min(x_axis), max(x_axis)+1, 10.0))\n",
        "plt.ylim((None, 0.03))\n",
        "fig.patch.set_facecolor('#B7BDCA')\n",
        "ax.set_facecolor('#B7BDCA')\n",
        "\n",
        "plt.ylabel('Probability')\n",
        "plt.xlabel('InterArrival Times')\n",
        "plt.title('InterArrival Time vs. Frequency \\nfor ALL GSW Games, 3 pts')"
      ],
      "execution_count": null,
      "outputs": [
        {
          "output_type": "execute_result",
          "data": {
            "text/plain": [
              "Text(0.5, 1.0, 'InterArrival Time vs. Frequency \\nfor ALL GSW Games, 3 pts')"
            ]
          },
          "metadata": {
            "tags": []
          },
          "execution_count": 107
        },
        {
          "output_type": "display_data",
          "data": {
            "image/png": "[encoded data removed]",
            "text/plain": [
              "<Figure size 432x288 with 1 Axes>"
            ]
          },
          "metadata": {
            "tags": []
          }
        }
      ]
    },
    {
      "cell_type": "code",
      "metadata": {
        "id": "krSwKby_N3of",
        "colab_type": "code",
        "colab": {}
      },
      "source": [
        "GSW_23sdata = shots_all_23s_GSW\n",
        "                \n",
        "#GSW_23sdata.insert(2, 'Int.Arrival Time', timesGSW)\n",
        "#GSW_23sdata.to_csv('/content/drive/My Drive/Colab Notebooks/Research Data/GSW 23s Data.csv', index=False)\n",
        "#GSW_data.loc[:,['Int.Arrival Time']].to_csv('/content/drive/My Drive/Colab Notebooks/Research Data/Int. Times, GSW Data.csv', index=False)            \n",
        "GSW_23sdata.head(20)"
      ],
      "execution_count": null,
      "outputs": []
    },
    {
      "cell_type": "code",
      "metadata": {
        "id": "OPUsKSROpZ0l",
        "colab_type": "code",
        "colab": {}
      },
      "source": [
        "HOU_all = nba.loc[ (nba['HomeTeam'] == 'HOU') | (nba['AwayTeam'] == 'HOU') & (nba['GameType'] == 'regular')]\n",
        "HOU_all.shape"
      ],
      "execution_count": null,
      "outputs": []
    },
    {
      "cell_type": "code",
      "metadata": {
        "id": "FiVQUyXeL29l",
        "colab_type": "code",
        "colab": {}
      },
      "source": [
        "# Display the rows ONLY containing freethrows, 2pts and 3pts (all shots) taken by Both Teams \n",
        "shots_all_HOU = HOU_all.loc[ (pd.isnull(HOU_all['ShotType']) == False) | (pd.isnull(HOU_all['FreeThrowOutcome']) == False),\n",
        "                      ['SecLeft', 'Quarter', 'ShotType', 'ShotOutcome', 'FreeThrowOutcome', 'HomePlay', 'HomeTeam', 'AwayTeam'] ] \n",
        "\n",
        "# Display the rows ONLY containing 2pts and 3pts taken by HomeTeam\n",
        "shots_all_23s_HOU = HOU_all.loc[ (pd.isnull(HOU_all['ShotType']) == False),\n",
        "                      ['SecLeft', 'Quarter', 'ShotType', 'ShotOutcome', 'HomePlay'] ] \n",
        "\n",
        "shots_all_23s_HOU.rename(columns={'HomePlay': 'Which Team?'}, inplace=True)\n",
        "\n",
        "# this for loop iterates through df and assigns a team to 'Which Team' column\n",
        "# using 'HomePlay' as an indicator and getting the value to be assigned from\n",
        "# either 'HomeTeam' or 'AwayTeam' hence shots_all_LD4.iloc[pos, 6/7]\n",
        "for pos in range(shots_all_23s_HOU.shape[0]):\n",
        "  if pd.isnull(shots_all_23s_HOU.iloc[pos, 4]) == False:\n",
        "    shots_all_23s_HOU.iloc[pos, 4] = shots_all_HOU.iloc[pos, 6]\n",
        "  else:\n",
        "    shots_all_23s_HOU.iloc[pos, 4] = shots_all_HOU.iloc[pos, 7]\n",
        "\n",
        "\n",
        "# Gather all 2pts made by HomeTeam and have it side by side with SecLeft \n",
        "shots_2s_HOU = shots_all_HOU.loc[ (pd.isnull(shots_all_HOU['ShotType']) == False) & (shots_all_HOU['ShotType'].str.contains('2-pt')),\n",
        "                         ['SecLeft', 'Quarter', 'ShotType', 'ShotOutcome', 'HomePlay'] ]\n",
        "\n",
        "\n",
        "shots_2s_HOU.rename(columns={'HomePlay': 'Which Team?'}, inplace=True)\n",
        "\n",
        "# this for loop iterates through df and assigns a team to 'Which Team' column\n",
        "# using 'HomePlay' as an indicator and getting the value to be assigned from\n",
        "# either 'HomeTeam' or 'AwayTeam' hence shots_all_LD4.iloc[pos, 6/7]\n",
        "for pos in range(shots_2s_HOU.shape[0]):\n",
        "  if pd.isnull(shots_2s_HOU.iloc[pos, 4]) == False:\n",
        "    shots_2s_HOU.iloc[pos, 4] = shots_all_HOU.iloc[pos, 6]\n",
        "  else:\n",
        "    shots_2s_HOU.iloc[pos, 4] = shots_all_HOU.iloc[pos, 7]\n",
        "\n",
        "# Gather all 3pts made by HomeTeam and have it side by side with SecLeft \n",
        "shots_3s_HOU = shots_all_HOU.loc[ (pd.isnull(shots_all_HOU['ShotType']) == False) & (shots_all_HOU['ShotType'].str.contains('3-pt')),\n",
        "                         ['SecLeft', 'Quarter','ShotType', 'ShotOutcome', 'HomePlay'] ]\n",
        "\n",
        "shots_3s_HOU.rename(columns={'HomePlay': 'Which Team?'}, inplace=True)\n",
        "\n",
        "# this for loop iterates through df and assigns a team to 'Which Team' column\n",
        "# using 'HomePlay' as an indicator and getting the value to be assigned from\n",
        "# either 'HomeTeam' or 'AwayTeam' hence shots_all_LD4.iloc[pos, 6/7]\n",
        "for pos in range(shots_3s_HOU.shape[0]):\n",
        "  if pd.isnull(shots_3s_HOU.iloc[pos, 4]) == False:\n",
        "    shots_3s_HOU.iloc[pos, 4] = shots_all_HOU.iloc[pos, 6]\n",
        "  else:\n",
        "    shots_3s_HOU.iloc[pos, 4] = shots_all_HOU.iloc[pos, 7]\n",
        "\n",
        "# Gather all 1pts made by HomeTeam and have it side by side with SecLeft \n",
        "shots_1s_HOU = shots_all_HOU.loc[pd.isnull(shots_all_HOU['FreeThrowOutcome']) == False, \n",
        "                               ['SecLeft', 'Quarter', 'FreeThrowOutcome', 'HomePlay'] ]\n",
        "\n",
        "shots_1s_HOU.rename(columns={'HomePlay': 'Which Team?'}, inplace=True)\n",
        "\n",
        "# this for loop iterates through df and assigns a team to 'Which Team' column\n",
        "# using 'HomePlay' as an indicator and getting the value to be assigned from\n",
        "# either 'HomeTeam' or 'AwayTeam' hence shots_all_LD4.iloc[pos, 6/7]\n",
        "for pos in range(shots_1s_HOU.shape[0]):\n",
        "  if pd.isnull(shots_1s_HOU.iloc[pos, 3]) == False:\n",
        "    shots_1s_HOU.iloc[pos, 3] = shots_all_HOU.iloc[pos, 6]\n",
        "  else:\n",
        "    shots_1s_HOU.iloc[pos, 3] = shots_all_HOU.iloc[pos, 7]\n",
        "\n",
        "\n",
        "shots_all_23s_HOU.head(30)\n",
        "# shots_3s_TOR.head(10)\n",
        "# shots_1s_TOR.head(10)\n",
        "\n",
        "# shots_all_23s_TOR.head(60) \n",
        "shots_all_23s_HOU.shape[0]\n",
        "#shots_all_TOR.iloc[230:270]\n",
        "#shots_all_23s_TOR.iloc[2500#:2530]"
      ],
      "execution_count": null,
      "outputs": []
    },
    {
      "cell_type": "code",
      "metadata": {
        "id": "wdlNooQT8E1U",
        "colab_type": "code",
        "colab": {}
      },
      "source": [
        "timesHOU = []\n",
        "\n",
        "# Loop to retrieve interarrival times between every shot for LAC\n",
        "sum = 0\n",
        "locs = \"\"\n",
        "for x in range(shots_all_23s_HOU.shape[0]):\n",
        "  # .iloc[x, 0] gets us row x for col 0 (SecLeft in our case)\n",
        "\n",
        "  # very start of quarter, interarrival time is 720 - next time\n",
        "  # CHANGE TO... shots_all_23s_TOR.iloc[x, 1] and [x+1, 1] checks for Q4 and Q1\n",
        "  # if x == 0 or shots_all_23s_TOR.iloc[x-1, 1] == 4 or shots_all_23s_TOR.iloc[x-1, 1] == 5 and shots_all_23s_TOR.iloc[x, 1] == 1\n",
        "  if (x == 0) or ( (shots_all_23s_HOU.iloc[x-1, 1] == 4 or shots_all_23s_HOU.iloc[x-1, 1] == 5) and shots_all_23s_HOU.iloc[x, 1] == 1):\n",
        "    sum += 1 # should add up to 82\n",
        "    locs += str(x) + ', '\n",
        "    time = 720 - shots_all_23s_HOU.iloc[x, 0]\n",
        "\n",
        "  # end of quarter time minus next shot time in new quarter \n",
        "  elif shots_all_23s_HOU.iloc[x-1, 0] < shots_all_23s_HOU.iloc[x, 0] and shots_all_23s_HOU.iloc[x, 1] == 5:\n",
        "    time = (300 + shots_all_23s_HOU.iloc[x-1, 0]) - shots_all_23s_HOU.iloc[x, 0]\n",
        "\n",
        "  elif shots_all_23s_HOU.iloc[x-1, 0] < shots_all_23s_HOU.iloc[x, 0]:\n",
        "    time = (720 + shots_all_23s_HOU.iloc[x-1, 0]) - shots_all_23s_HOU.iloc[x, 0]\n",
        "\n",
        "  # Do not record differences of 0 (for instance two back to back freethrows)\n",
        "  # elif shots_all_23s_LD4.iloc[x-1, 0] == shots_all_23s_LD4.iloc[x, 0]:\n",
        "  #  continue\n",
        "\n",
        "  else:\n",
        "    time = shots_all_23s_HOU.iloc[x-1, 0] - shots_all_23s_HOU.iloc[x, 0]\n",
        "  timesHOU.append(time)\n",
        "  \n",
        "print(locs)\n",
        "print(sum)\n",
        "\n",
        "# Remove outliers to gain better visual of histograph\n",
        "timesHOU2 = []\n",
        "for time in timesHOU:\n",
        "  if time < 150:\n",
        "    timesHOU2.append(time)\n",
        "\n",
        "dict1 = {}\n",
        "for val in range(len(timesHOU2)):\n",
        "  time = timesHOU2[val]\n",
        "  dict1[time] = dict1.get(time, 0) + 1\n",
        "  \n",
        "print(len(dict1.keys()))"
      ],
      "execution_count": null,
      "outputs": []
    },
    {
      "cell_type": "code",
      "metadata": {
        "id": "JMM1MP4r8mb5",
        "colab_type": "code",
        "colab": {}
      },
      "source": [
        "import math\n",
        "\n",
        "x_axis = timesHOU2\n",
        "plt.style.use('ggplot')\n",
        "fig, ax = plt.subplots()\n",
        "plt.hist(x_axis, bins= int(len(dict1.keys())), density=True, cumulative=True)\n",
        "# plt.hist(x_axis, bins= int(math.sqrt(len(dict.keys()))))\n",
        "plt.xticks(np.arange(min(x_axis), max(x_axis)+1, 10.0))\n",
        "fig.patch.set_facecolor('#B7BDCA')\n",
        "ax.set_facecolor('#B7BDCA')\n",
        "\n",
        "plt.ylabel('Probability')\n",
        "plt.xlabel('InterArrival Times')\n",
        "plt.title('InterArrival Time vs. Frequency \\nfor ALL HOU Games, 2 & 3 pts')"
      ],
      "execution_count": null,
      "outputs": []
    },
    {
      "cell_type": "code",
      "metadata": {
        "id": "5lOXbJvb8yra",
        "colab_type": "code",
        "colab": {}
      },
      "source": [
        "times_2sHOU = []\n",
        "\n",
        "# Loop to retrieve interarrival times between every shot for LAC\n",
        "sum = 0\n",
        "locs = \"\"\n",
        "for x in range(shots_2s_HOU.shape[0]):\n",
        "  # .iloc[x, 0] gets us row x for col 0 (SecLeft in our case)\n",
        "\n",
        "  # very start of quarter, interarrival time is 720 - next time\n",
        "  # CHANGE TO... shots_all_23s_TOR.iloc[x, 1] and [x+1, 1] checks for Q4 and Q1\n",
        "  # if x == 0 or shots_all_23s_TOR.iloc[x-1, 1] == 4 or shots_all_23s_TOR.iloc[x-1, 1] == 5 and shots_all_23s_TOR.iloc[x, 1] == 1\n",
        "  if (x == 0) or ( (shots_2s_HOU.iloc[x-1, 1] == 4 or shots_2s_HOU.iloc[x-1, 1] == 5) and shots_2s_HOU.iloc[x, 1] == 1):\n",
        "    sum += 1 # should add up to 82\n",
        "    locs += str(x) + ', '\n",
        "    time = 720 - shots_2s_HOU.iloc[x, 0] \n",
        "\n",
        "  # end of quarter time minus next shot time in new quarter \n",
        "  elif shots_2s_HOU.iloc[x-1, 0] < shots_2s_HOU.iloc[x, 0] and shots_2s_HOU.iloc[x, 1] == 5:\n",
        "    time = (300 + shots_2s_HOU.iloc[x-1, 0]) - shots_2s_HOU.iloc[x, 0]\n",
        "\n",
        "  elif shots_2s_HOU.iloc[x-1, 0] < shots_2s_HOU.iloc[x, 0]:\n",
        "    time = (720 + shots_2s_HOU.iloc[x-1, 0]) - shots_2s_HOU.iloc[x, 0]\n",
        "\n",
        "  # Do not record differences of 0 (for instance two back to back freethrows)\n",
        "  # elif shots_all_23s_LD4.iloc[x-1, 0] == shots_all_23s_LD4.iloc[x, 0]:\n",
        "  #  continue\n",
        "\n",
        "  else:\n",
        "    time = shots_2s_HOU.iloc[x-1, 0] - shots_2s_HOU.iloc[x, 0]\n",
        "  times_2sHOU.append(time)\n",
        "print(locs)\n",
        "print(sum)\n",
        "\n",
        "# Remove outliers to gain better visual of histograph\n",
        "times_2sHOU2 = []\n",
        "for time in times_2sHOU:\n",
        "  if time < 150:\n",
        "    times_2sHOU2.append(time)\n",
        "\n",
        "dict1 = {}\n",
        "for val in range(len(times_2sHOU2)):\n",
        "  time = times_2sHOU2[val]\n",
        "  dict1[time] = dict1.get(time, 0) + 1\n",
        "print(len(dict1.keys()))"
      ],
      "execution_count": null,
      "outputs": []
    },
    {
      "cell_type": "code",
      "metadata": {
        "id": "7ieUqTi49eQx",
        "colab_type": "code",
        "colab": {}
      },
      "source": [
        "import math\n",
        "\n",
        "x_axis = times_2sHOU2\n",
        "plt.style.use('ggplot')\n",
        "fig, ax = plt.subplots()\n",
        "plt.hist(x_axis, bins= int(len(dict1.keys())), density=True, cumulative=True)\n",
        "# plt.hist(x_axis, bins= int(math.sqrt(len(dict.keys()))))\n",
        "plt.xticks(np.arange(min(x_axis), max(x_axis)+1, 10.0))\n",
        "fig.patch.set_facecolor('#B7BDCA')\n",
        "ax.set_facecolor('#B7BDCA')\n",
        "\n",
        "plt.ylabel('Probability')\n",
        "plt.xlabel('InterArrival Times')\n",
        "plt.title('InterArrival Time vs. Frequency \\nfor ALL HOU Games, 2 pts')"
      ],
      "execution_count": null,
      "outputs": []
    },
    {
      "cell_type": "code",
      "metadata": {
        "id": "p5hJi1y-9sus",
        "colab_type": "code",
        "colab": {}
      },
      "source": [
        "times_3sHOU = []\n",
        "\n",
        "# Loop to retrieve interarrival times between every shot for LAC\n",
        "sum = 0\n",
        "locs = \"\"\n",
        "for x in range(shots_3s_HOU.shape[0]):\n",
        "  # .iloc[x, 0] gets us row x for col 0 (SecLeft in our case)\n",
        "\n",
        "  # very start of quarter, interarrival time is 720 - next time\n",
        "  # CHANGE TO... shots_all_23s_TOR.iloc[x, 1] and [x+1, 1] checks for Q4 and Q1\n",
        "  # if x == 0 or shots_all_23s_TOR.iloc[x-1, 1] == 4 or shots_all_23s_TOR.iloc[x-1, 1] == 5 and shots_all_23s_TOR.iloc[x, 1] == 1\n",
        "  if (x == 0) or ( (shots_3s_HOU.iloc[x-1, 1] == 4 or shots_3s_HOU.iloc[x-1, 1] == 5) and shots_3s_HOU.iloc[x, 1] == 1):\n",
        "    sum += 1 # should add up to 82\n",
        "    locs += str(x) + ', '\n",
        "    time = 720 - shots_3s_HOU.iloc[x, 0] \n",
        "\n",
        "  # end of quarter time minus next shot time in new quarter \n",
        "  elif shots_3s_HOU.iloc[x-1, 0] < shots_3s_HOU.iloc[x, 0] and shots_3s_HOU.iloc[x, 1] == 5:\n",
        "    time = (300 + shots_3s_HOU.iloc[x-1, 0]) - shots_3s_HOU.iloc[x, 0]\n",
        "\n",
        "  elif shots_3s_HOU.iloc[x-1, 0] < shots_3s_HOU.iloc[x, 0]:\n",
        "    time = (720 + shots_3s_HOU.iloc[x-1, 0]) - shots_3s_HOU.iloc[x, 0]\n",
        "\n",
        "  # Do not record differences of 0 (for instance two back to back freethrows)\n",
        "  # elif shots_all_23s_LD4.iloc[x-1, 0] == shots_all_23s_LD4.iloc[x, 0]:\n",
        "  #  continue\n",
        "\n",
        "  else:\n",
        "    time = shots_3s_HOU.iloc[x-1, 0] - shots_3s_HOU.iloc[x, 0]\n",
        "  times_3sHOU.append(time)\n",
        "print(locs)\n",
        "print(sum)\n",
        "\n",
        "# Remove outliers to gain better visual of histograph\n",
        "times_3sHOU2 = []\n",
        "for time in times_3sHOU:\n",
        "  if time < 150:\n",
        "    times_3sHOU2.append(time)\n",
        "\n",
        "dict1 = {}\n",
        "for val in range(len(times_3sHOU2)):\n",
        "  time = times_3sHOU2[val]\n",
        "  dict1[time] = dict1.get(time, 0) + 1\n",
        "print(len(dict1.keys()))"
      ],
      "execution_count": null,
      "outputs": []
    },
    {
      "cell_type": "code",
      "metadata": {
        "id": "HFKPueD7-JeU",
        "colab_type": "code",
        "colab": {}
      },
      "source": [
        "import math\n",
        "\n",
        "x_axis = times_3sHOU2\n",
        "plt.style.use('ggplot')\n",
        "fig, ax = plt.subplots()\n",
        "plt.hist(x_axis, bins= int(len(dict1.keys())), density=True, cumulative=True)\n",
        "# plt.hist(x_axis, bins= int(math.sqrt(len(dict.keys()))))\n",
        "plt.xticks(np.arange(min(x_axis), max(x_axis)+1, 10.0))\n",
        "fig.patch.set_facecolor('#B7BDCA')\n",
        "ax.set_facecolor('#B7BDCA')\n",
        "\n",
        "plt.ylabel('Probability')\n",
        "plt.xlabel('InterArrival Times')\n",
        "plt.title('InterArrival Time vs. Frequency \\nfor ALL HOU Games, 3 pts')"
      ],
      "execution_count": null,
      "outputs": []
    },
    {
      "cell_type": "code",
      "metadata": {
        "id": "neKa8PWNpoW9",
        "colab_type": "code",
        "colab": {}
      },
      "source": [
        "# ATL, BRK, BOS, CHI, CHO, CLE, DAL, DEN, DET, GSW, HOU, IND, LAC, LAL, MEM, MIA, MIL, MIN, NOP, NYK, OKC, ORL, PHI, PHO, POR, SAC, SAS, TOR, UTA, WAS\n",
        "IND_all = nba.loc[ (nba['HomeTeam'] == 'IND') | (nba['AwayTeam'] == 'IND') & (nba['GameType'] == 'regular')]\n",
        "IND_all.shape"
      ],
      "execution_count": null,
      "outputs": []
    },
    {
      "cell_type": "markdown",
      "metadata": {
        "id": "oOFYywYnp2QZ",
        "colab_type": "text"
      },
      "source": [
        "### SKIP LAC"
      ]
    },
    {
      "cell_type": "code",
      "metadata": {
        "id": "TunwuPjgpucr",
        "colab_type": "code",
        "colab": {}
      },
      "source": [
        "LAL_all = nba.loc[ (nba['HomeTeam'] == 'LAL') | (nba['AwayTeam'] == 'LAL') & (nba['GameType'] == 'regular')]\n",
        "LAL_all.shape"
      ],
      "execution_count": null,
      "outputs": []
    },
    {
      "cell_type": "code",
      "metadata": {
        "id": "bbcypIbzp1bQ",
        "colab_type": "code",
        "colab": {}
      },
      "source": [
        "MEM_all = nba.loc[ (nba['HomeTeam'] == 'MEM') | (nba['AwayTeam'] == 'MEM') & (nba['GameType'] == 'regular')]\n",
        "MEM_all.shape"
      ],
      "execution_count": null,
      "outputs": []
    },
    {
      "cell_type": "code",
      "metadata": {
        "id": "o_44Slgvp_pJ",
        "colab_type": "code",
        "colab": {}
      },
      "source": [
        "MIA_all = nba.loc[ (nba['HomeTeam'] == 'MIA') | (nba['AwayTeam'] == 'MIA') & (nba['GameType'] == 'regular')]\n",
        "MIA_all.shape"
      ],
      "execution_count": null,
      "outputs": []
    },
    {
      "cell_type": "code",
      "metadata": {
        "id": "hoYeD0hzqEta",
        "colab_type": "code",
        "colab": {}
      },
      "source": [
        "MIL_all = nba.loc[ (nba['HomeTeam'] == 'MIL') | (nba['AwayTeam'] == 'MIL') & (nba['GameType'] == 'regular')]\n",
        "MIL_all.shape"
      ],
      "execution_count": null,
      "outputs": []
    },
    {
      "cell_type": "code",
      "metadata": {
        "id": "8p4ku156qNHj",
        "colab_type": "code",
        "colab": {}
      },
      "source": [
        "MIN_all = nba.loc[ (nba['HomeTeam'] == 'MIN') | (nba['AwayTeam'] == 'MIN') & (nba['GameType'] == 'regular')]\n",
        "MIN_all.shape"
      ],
      "execution_count": null,
      "outputs": []
    },
    {
      "cell_type": "code",
      "metadata": {
        "id": "mSHfUfLLqPh-",
        "colab_type": "code",
        "colab": {}
      },
      "source": [
        "# ATL, BRK, BOS, CHI, CHO, CLE, DAL, DEN, DET, GSW, HOU, IND, LAC, LAL, MEM, MIA, MIL, MIN, NOP, NYK, OKC, ORL, PHI, PHO, POR, SAC, SAS, TOR, UTA, WAS\n",
        "NOP_all = nba.loc[ (nba['HomeTeam'] == 'NOP') | (nba['AwayTeam'] == 'NOP') & (nba['GameType'] == 'regular')]\n",
        "NOP_all.shape"
      ],
      "execution_count": null,
      "outputs": []
    },
    {
      "cell_type": "code",
      "metadata": {
        "id": "Kv7bJk2Dqafq",
        "colab_type": "code",
        "colab": {}
      },
      "source": [
        "NYK_all = nba.loc[ (nba['HomeTeam'] == 'NYK') | (nba['AwayTeam'] == 'NYK') & (nba['GameType'] == 'regular')]\n",
        "NYK_all.shape"
      ],
      "execution_count": null,
      "outputs": []
    },
    {
      "cell_type": "code",
      "metadata": {
        "id": "MmKrlA9Wqf3L",
        "colab_type": "code",
        "colab": {}
      },
      "source": [
        "OKC_all = nba.loc[ (nba['HomeTeam'] == 'OKC') | (nba['AwayTeam'] == 'OKC') & (nba['GameType'] == 'regular')]\n",
        "OKC_all.shape"
      ],
      "execution_count": null,
      "outputs": []
    },
    {
      "cell_type": "code",
      "metadata": {
        "id": "pP5Brqmzqkqu",
        "colab_type": "code",
        "colab": {}
      },
      "source": [
        "ORL_all = nba.loc[ (nba['HomeTeam'] == 'ORL') | (nba['AwayTeam'] == 'ORL') & (nba['GameType'] == 'regular')]\n",
        "ORL_all.shape"
      ],
      "execution_count": null,
      "outputs": []
    },
    {
      "cell_type": "code",
      "metadata": {
        "id": "8hRH_k9XqoLp",
        "colab_type": "code",
        "colab": {}
      },
      "source": [
        "PHI_all = nba.loc[ (nba['HomeTeam'] == 'PHI') | (nba['AwayTeam'] == 'PHI') & (nba['GameType'] == 'regular')]\n",
        "PHI_all.shape"
      ],
      "execution_count": null,
      "outputs": []
    },
    {
      "cell_type": "code",
      "metadata": {
        "id": "sczSzUpMrGa0",
        "colab_type": "code",
        "colab": {}
      },
      "source": [
        "PHO_all = nba.loc[ (nba['HomeTeam'] == 'PHO') | (nba['AwayTeam'] == 'PHO') & (nba['GameType'] == 'regular')]\n",
        "PHO_all.shape"
      ],
      "execution_count": null,
      "outputs": []
    },
    {
      "cell_type": "code",
      "metadata": {
        "id": "WhNIeJQtrKaR",
        "colab_type": "code",
        "colab": {}
      },
      "source": [
        "POR_all = nba.loc[ (nba['HomeTeam'] == 'POR') | (nba['AwayTeam'] == 'POR') & (nba['GameType'] == 'regular')]\n",
        "POR_all.shape"
      ],
      "execution_count": null,
      "outputs": []
    },
    {
      "cell_type": "code",
      "metadata": {
        "id": "5FhPCCrxrPO_",
        "colab_type": "code",
        "colab": {}
      },
      "source": [
        "# ATL, BRK, BOS, CHI, CHO, CLE, DAL, DEN, DET, GSW, HOU, IND, LAC, LAL, MEM, MIA, MIL, MIN, NOP, NYK, OKC, ORL, PHI, PHO, POR, SAC, SAS, TOR, UTA, WAS\n",
        "SAC_all = nba.loc[ (nba['HomeTeam'] == 'SAC') | (nba['AwayTeam'] == 'SAC') & (nba['GameType'] == 'regular')]\n",
        "SAC_all.shape"
      ],
      "execution_count": null,
      "outputs": []
    },
    {
      "cell_type": "code",
      "metadata": {
        "id": "QB148rforW1J",
        "colab_type": "code",
        "colab": {
          "base_uri": "https://localhost:8080/",
          "height": 34
        },
        "outputId": "cb8a4ba9-9935-438f-bd58-f5e3da6308a2"
      },
      "source": [
        "SAS_all = nba.loc[ (nba['HomeTeam'] == 'SAS') | (nba['AwayTeam'] == 'SAS') & (nba['GameType'] == 'regular')]\n",
        "SAS_all.shape"
      ],
      "execution_count": null,
      "outputs": [
        {
          "output_type": "execute_result",
          "data": {
            "text/plain": [
              "(38310, 40)"
            ]
          },
          "metadata": {
            "tags": []
          },
          "execution_count": 62
        }
      ]
    },
    {
      "cell_type": "code",
      "metadata": {
        "id": "owb0RRzW-jWN",
        "colab_type": "code",
        "colab": {
          "base_uri": "https://localhost:8080/",
          "height": 34
        },
        "outputId": "3f88693d-026c-4c48-bbeb-94d5c9feaef6"
      },
      "source": [
        "# Display the rows ONLY containing freethrows, 2pts and 3pts (all shots) taken by Both Teams \n",
        "shots_all_SAS = SAS_all.loc[ (pd.isnull(SAS_all['ShotType']) == False) | (pd.isnull(SAS_all['FreeThrowOutcome']) == False),\n",
        "                      ['SecLeft', 'Quarter', 'ShotType', 'ShotOutcome', 'FreeThrowOutcome', 'HomePlay', 'HomeTeam', 'AwayTeam'] ] \n",
        "\n",
        "# Display the rows ONLY containing 2pts and 3pts taken by HomeTeam\n",
        "shots_all_23s_SAS = SAS_all.loc[ (pd.isnull(SAS_all['ShotType']) == False),\n",
        "                      ['SecLeft', 'Quarter', 'ShotType', 'ShotOutcome', 'HomePlay'] ] \n",
        "\n",
        "shots_all_23s_SAS.rename(columns={'HomePlay': 'Which Team?'}, inplace=True)\n",
        "\n",
        "# this for loop iterates through df and assigns a team to 'Which Team' column\n",
        "# using 'HomePlay' as an indicator and getting the value to be assigned from\n",
        "# either 'HomeTeam' or 'AwayTeam' hence shots_all_LD4.iloc[pos, 6/7]\n",
        "for pos in range(shots_all_23s_SAS.shape[0]):\n",
        "  if pd.isnull(shots_all_23s_SAS.iloc[pos, 4]) == False:\n",
        "    shots_all_23s_SAS.iloc[pos, 4] = shots_all_SAS.iloc[pos, 6]\n",
        "  else:\n",
        "    shots_all_23s_SAS.iloc[pos, 4] = shots_all_SAS.iloc[pos, 7]\n",
        "\n",
        "\n",
        "# Gather all 2pts made by HomeTeam and have it side by side with SecLeft \n",
        "shots_2s_SAS = shots_all_SAS.loc[ (pd.isnull(shots_all_SAS['ShotType']) == False) & (shots_all_SAS['ShotType'].str.contains('2-pt')),\n",
        "                         ['SecLeft', 'Quarter', 'ShotType', 'ShotOutcome', 'HomePlay'] ]\n",
        "\n",
        "\n",
        "shots_2s_SAS.rename(columns={'HomePlay': 'Which Team?'}, inplace=True)\n",
        "\n",
        "# this for loop iterates through df and assigns a team to 'Which Team' column\n",
        "# using 'HomePlay' as an indicator and getting the value to be assigned from\n",
        "# either 'HomeTeam' or 'AwayTeam' hence shots_all_LD4.iloc[pos, 6/7]\n",
        "for pos in range(shots_2s_SAS.shape[0]):\n",
        "  if pd.isnull(shots_2s_SAS.iloc[pos, 4]) == False:\n",
        "    shots_2s_SAS.iloc[pos, 4] = shots_all_SAS.iloc[pos, 6]\n",
        "  else:\n",
        "    shots_2s_SAS.iloc[pos, 4] = shots_all_SAS.iloc[pos, 7]\n",
        "\n",
        "# Gather all 3pts made by HomeTeam and have it side by side with SecLeft \n",
        "shots_3s_SAS = shots_all_SAS.loc[ (pd.isnull(shots_all_SAS['ShotType']) == False) & (shots_all_SAS['ShotType'].str.contains('3-pt')),\n",
        "                         ['SecLeft', 'Quarter','ShotType', 'ShotOutcome', 'HomePlay'] ]\n",
        "\n",
        "shots_3s_SAS.rename(columns={'HomePlay': 'Which Team?'}, inplace=True)\n",
        "\n",
        "# this for loop iterates through df and assigns a team to 'Which Team' column\n",
        "# using 'HomePlay' as an indicator and getting the value to be assigned from\n",
        "# either 'HomeTeam' or 'AwayTeam' hence shots_all_LD4.iloc[pos, 6/7]\n",
        "for pos in range(shots_3s_SAS.shape[0]):\n",
        "  if pd.isnull(shots_3s_SAS.iloc[pos, 4]) == False:\n",
        "    shots_3s_SAS.iloc[pos, 4] = shots_all_SAS.iloc[pos, 6]\n",
        "  else:\n",
        "    shots_3s_SAS.iloc[pos, 4] = shots_all_SAS.iloc[pos, 7]\n",
        "\n",
        "# Gather all 1pts made by HomeTeam and have it side by side with SecLeft \n",
        "shots_1s_SAS = shots_all_SAS.loc[pd.isnull(shots_all_SAS['FreeThrowOutcome']) == False, \n",
        "                               ['SecLeft', 'Quarter', 'FreeThrowOutcome', 'HomePlay'] ]\n",
        "\n",
        "shots_1s_SAS.rename(columns={'HomePlay': 'Which Team?'}, inplace=True)\n",
        "\n",
        "# this for loop iterates through df and assigns a team to 'Which Team' column\n",
        "# using 'HomePlay' as an indicator and getting the value to be assigned from\n",
        "# either 'HomeTeam' or 'AwayTeam' hence shots_all_LD4.iloc[pos, 6/7]\n",
        "for pos in range(shots_1s_SAS.shape[0]):\n",
        "  if pd.isnull(shots_1s_SAS.iloc[pos, 3]) == False:\n",
        "    shots_1s_SAS.iloc[pos, 3] = shots_all_SAS.iloc[pos, 6]\n",
        "  else:\n",
        "    shots_1s_SAS.iloc[pos, 3] = shots_all_SAS.iloc[pos, 7]\n",
        "\n",
        "\n",
        "shots_all_23s_SAS.head(30)\n",
        "# shots_3s_TOR.head(10)\n",
        "# shots_1s_TOR.head(10)\n",
        "\n",
        "# shots_all_23s_TOR.head(60) \n",
        "shots_all_23s_SAS.shape[0]\n",
        "#shots_all_TOR.iloc[230:270]\n",
        "#shots_all_23s_TOR.iloc[2500#:2530]"
      ],
      "execution_count": null,
      "outputs": [
        {
          "output_type": "execute_result",
          "data": {
            "text/plain": [
              "15120"
            ]
          },
          "metadata": {
            "tags": []
          },
          "execution_count": 63
        }
      ]
    },
    {
      "cell_type": "code",
      "metadata": {
        "id": "KWSC2Xpe_Xbf",
        "colab_type": "code",
        "colab": {
          "base_uri": "https://localhost:8080/",
          "height": 88
        },
        "outputId": "3d459eb3-6a99-4238-f396-88800c3a239b"
      },
      "source": [
        "timesSAS = []\n",
        "\n",
        "# Loop to retrieve interarrival times between every shot for LAC\n",
        "sum = 0\n",
        "locs = \"\"\n",
        "for x in range(shots_all_23s_SAS.shape[0]):\n",
        "  # .iloc[x, 0] gets us row x for col 0 (SecLeft in our case)\n",
        "\n",
        "  # very start of quarter, interarrival time is 720 - next time\n",
        "  # CHANGE TO... shots_all_23s_TOR.iloc[x, 1] and [x+1, 1] checks for Q4 and Q1\n",
        "  # if x == 0 or shots_all_23s_TOR.iloc[x-1, 1] == 4 or shots_all_23s_TOR.iloc[x-1, 1] == 5 and shots_all_23s_TOR.iloc[x, 1] == 1\n",
        "  if (x == 0) or ( (shots_all_23s_SAS.iloc[x-1, 1] == 4 or shots_all_23s_SAS.iloc[x-1, 1] == 5) and shots_all_23s_SAS.iloc[x, 1] == 1):\n",
        "    sum += 1 # should add up to 82\n",
        "    locs += str(x) + ', '\n",
        "    time = 720 - shots_all_23s_SAS.iloc[x, 0]\n",
        "\n",
        "  # end of quarter time minus next shot time in new quarter \n",
        "  elif shots_all_23s_SAS.iloc[x-1, 0] < shots_all_23s_SAS.iloc[x, 0] and shots_all_23s_SAS.iloc[x, 1] == 5:\n",
        "    time = (300 + shots_all_23s_SAS.iloc[x-1, 0]) - shots_all_23s_SAS.iloc[x, 0]\n",
        "\n",
        "  elif shots_all_23s_SAS.iloc[x-1, 0] < shots_all_23s_SAS.iloc[x, 0]:\n",
        "    time = (720 + shots_all_23s_SAS.iloc[x-1, 0]) - shots_all_23s_SAS.iloc[x, 0]\n",
        "\n",
        "  # Do not record differences of 0 (for instance two back to back freethrows)\n",
        "  # elif shots_all_23s_LD4.iloc[x-1, 0] == shots_all_23s_LD4.iloc[x, 0]:\n",
        "  #  continue\n",
        "\n",
        "  else:\n",
        "    time = shots_all_23s_SAS.iloc[x-1, 0] - shots_all_23s_SAS.iloc[x, 0]\n",
        "  timesSAS.append(time)\n",
        "  \n",
        "print(locs)\n",
        "print(sum)\n",
        "\n",
        "# Remove outliers to gain better visual of histograph\n",
        "timesSAS2 = []\n",
        "for time in timesSAS:\n",
        "  if time < 100:\n",
        "    timesSAS2.append(time)\n",
        "\n",
        "dict1 = {}\n",
        "for val in range(len(timesSAS2)):\n",
        "  time = timesSAS2[val]\n",
        "  dict1[time] = dict1.get(time, 0) + 1\n",
        "  \n",
        "print(len(dict1.keys()))"
      ],
      "execution_count": null,
      "outputs": [
        {
          "output_type": "stream",
          "text": [
            "0, 184, 361, 541, 725, 905, 1084, 1258, 1432, 1612, 1790, 1972, 2141, 2317, 2497, 2661, 2840, 3007, 3170, 3356, 3730, 3904, 4091, 4258, 4417, 4613, 4796, 4970, 5139, 5326, 5514, 5696, 5883, 6072, 6246, 6425, 6601, 6776, 6948, 7124, 7299, 7480, 7667, 7833, 8007, 8175, 8349, 8528, 8710, 8883, 9062, 9228, 9402, 9567, 9742, 9910, 10099, 10268, 10441, 10605, 10786, 10990, 11174, 11357, 11548, 11731, 11886, 12056, 12229, 12404, 12583, 12771, 12963, 13147, 13332, 13540, 13710, 13888, 14057, 14230, 14394, 14574, 14766, 14943, \n",
            "84\n",
            "75\n"
          ],
          "name": "stdout"
        }
      ]
    },
    {
      "cell_type": "code",
      "metadata": {
        "id": "00VAsSLv_0wY",
        "colab_type": "code",
        "colab": {}
      },
      "source": [
        "SAS_23sdata = shots_all_23s_SAS\n",
        "                \n",
        "#TOR_23sdata.insert(2, 'Int.Arrival Time', timesTOR)\n",
        "#TOR_23sdata.to_csv('/content/drive/My Drive/Colab Notebooks/Research Data/TOR 23s Data.csv', index=False)\n",
        "#LD4_data.loc[:,['Int.Arrival Time']].to_csv('/content/drive/My Drive/Colab Notebooks/Research Data/Int. Times, LD4 Data.csv', index=False)            \n",
        "#SAS_data.head(20)"
      ],
      "execution_count": null,
      "outputs": []
    },
    {
      "cell_type": "code",
      "metadata": {
        "id": "PGgi_JHXAAGv",
        "colab_type": "code",
        "colab": {
          "base_uri": "https://localhost:8080/",
          "height": 333
        },
        "outputId": "ccddaa31-7e35-4e0e-a302-2c3034734076"
      },
      "source": [
        "import math\n",
        "\n",
        "x_axis = timesSAS2\n",
        "plt.style.use('ggplot')\n",
        "fig, ax = plt.subplots()\n",
        "plt.hist(x_axis, bins= int(len(dict1.keys())), density=True, facecolor='#1161FF', cumulative=True) # '#FFD8C4' color of slide\n",
        "# plt.hist(x_axis, bins= int(math.sqrt(len(dict.keys()))))\n",
        "plt.xticks(np.arange(min(x_axis), max(x_axis)+1, 10.0))\n",
        "fig.patch.set_facecolor('#B7BDCA')\n",
        "ax.set_facecolor('#B7BDCA')\n",
        "\n",
        "plt.ylabel('Probability')\n",
        "plt.xlabel('InterArrival Times')\n",
        "plt.title('InterArrival Time vs. Frequency \\nfor ALL SAS Games, 2 & 3 pts')"
      ],
      "execution_count": null,
      "outputs": [
        {
          "output_type": "execute_result",
          "data": {
            "text/plain": [
              "Text(0.5, 1.0, 'InterArrival Time vs. Frequency \\nfor ALL SAS Games, 2 & 3 pts')"
            ]
          },
          "metadata": {
            "tags": []
          },
          "execution_count": 66
        },
        {
          "output_type": "display_data",
          "data": {
            "image/png": "[encoded data removed]",
            "text/plain": [
              "<Figure size 432x288 with 1 Axes>"
            ]
          },
          "metadata": {
            "tags": []
          }
        }
      ]
    },
    {
      "cell_type": "code",
      "metadata": {
        "id": "BZ5scMu6AKNa",
        "colab_type": "code",
        "colab": {
          "base_uri": "https://localhost:8080/",
          "height": 88
        },
        "outputId": "df47b29e-806a-49c3-913d-df2db4de1345"
      },
      "source": [
        "times_2sSAS = []\n",
        "\n",
        "# Loop to retrieve interarrival times between every shot for LAC\n",
        "sum = 0\n",
        "locs = \"\"\n",
        "for x in range(shots_2s_SAS.shape[0]):\n",
        "  # .iloc[x, 0] gets us row x for col 0 (SecLeft in our case)\n",
        "\n",
        "  # very start of quarter, interarrival time is 720 - next time\n",
        "  # CHANGE TO... shots_all_23s_TOR.iloc[x, 1] and [x+1, 1] checks for Q4 and Q1\n",
        "  # if x == 0 or shots_all_23s_TOR.iloc[x-1, 1] == 4 or shots_all_23s_TOR.iloc[x-1, 1] == 5 and shots_all_23s_TOR.iloc[x, 1] == 1\n",
        "  if (x == 0) or ( (shots_2s_SAS.iloc[x-1, 1] == 4 or shots_2s_SAS.iloc[x-1, 1] == 5) and shots_2s_SAS.iloc[x, 1] == 1):\n",
        "    sum += 1 # should add up to 82\n",
        "    locs += str(x) + ', '\n",
        "    time = 720 - shots_2s_SAS.iloc[x, 0] \n",
        "\n",
        "  # end of quarter time minus next shot time in new quarter \n",
        "  elif shots_2s_SAS.iloc[x-1, 0] < shots_2s_SAS.iloc[x, 0] and shots_2s_SAS.iloc[x, 1] == 5:\n",
        "    time = (300 + shots_2s_SAS.iloc[x-1, 0]) - shots_2s_SAS.iloc[x, 0]\n",
        "\n",
        "  elif shots_2s_SAS.iloc[x-1, 0] < shots_2s_SAS.iloc[x, 0]:\n",
        "    time = (720 + shots_2s_SAS.iloc[x-1, 0]) - shots_2s_SAS.iloc[x, 0]\n",
        "\n",
        "  # Do not record differences of 0 (for instance two back to back freethrows)\n",
        "  # elif shots_all_23s_LD4.iloc[x-1, 0] == shots_all_23s_LD4.iloc[x, 0]:\n",
        "  #  continue\n",
        "\n",
        "  else:\n",
        "    time = shots_2s_SAS.iloc[x-1, 0] - shots_2s_SAS.iloc[x, 0]\n",
        "  times_2sSAS.append(time)\n",
        "print(locs)\n",
        "print(sum)\n",
        "\n",
        "# Remove outliers to gain better visual of histograph\n",
        "times_2sSAS2 = []\n",
        "for time in times_2sSAS:\n",
        "  if time < 100:\n",
        "    times_2sSAS2.append(time)\n",
        "\n",
        "dict1 = {}\n",
        "for val in range(len(times_2sSAS2)):\n",
        "  time = times_2sSAS2[val]\n",
        "  dict1[time] = dict1.get(time, 0) + 1\n",
        "print(len(dict1.keys()))"
      ],
      "execution_count": null,
      "outputs": [
        {
          "output_type": "stream",
          "text": [
            "0, 140, 255, 390, 492, 600, 719, 850, 968, 1083, 1200, 1337, 1463, 1573, 1690, 1793, 1911, 2024, 2140, 2258, 2527, 2645, 2781, 2895, 3004, 3150, 3270, 3403, 3500, 3623, 3753, 3881, 4003, 4125, 4230, 4342, 4457, 4569, 4684, 4795, 4890, 4995, 5130, 5246, 5365, 5485, 5608, 5730, 5860, 5978, 6094, 6210, 6320, 6436, 6566, 6674, 6809, 6938, 7067, 7179, 7305, 7442, 7560, 7665, 7789, 7905, 8010, 8133, 8246, 8369, 8500, 8624, 8755, 8877, 9002, 9129, 9245, 9373, 9498, 9629, 9732, 9864, 9997, 10100, \n",
            "84\n",
            "100\n"
          ],
          "name": "stdout"
        }
      ]
    },
    {
      "cell_type": "code",
      "metadata": {
        "id": "qiFXo4G9AkB7",
        "colab_type": "code",
        "colab": {
          "base_uri": "https://localhost:8080/",
          "height": 333
        },
        "outputId": "a0e0e083-6f68-4159-c9bf-789f8d0adfed"
      },
      "source": [
        "import math\n",
        "\n",
        "x_axis = times_2sSAS2\n",
        "plt.style.use('ggplot')\n",
        "fig, ax = plt.subplots()\n",
        "plt.hist(x_axis, bins= int(len(dict1.keys())), density=True, facecolor='#1161FF', cumulative=True) # '#FFD8C4' color of slide\n",
        "# plt.hist(x_axis, bins= int(math.sqrt(len(dict.keys()))))\n",
        "plt.xticks(np.arange(min(x_axis), max(x_axis)+1, 10.0))\n",
        "fig.patch.set_facecolor('#B7BDCA')\n",
        "ax.set_facecolor('#B7BDCA')\n",
        "\n",
        "plt.ylabel('Probability')\n",
        "plt.xlabel('InterArrival Times')\n",
        "plt.title('InterArrival Time vs. Frequency \\nfor ALL SAS Games, 2 pts')"
      ],
      "execution_count": null,
      "outputs": [
        {
          "output_type": "execute_result",
          "data": {
            "text/plain": [
              "Text(0.5, 1.0, 'InterArrival Time vs. Frequency \\nfor ALL SAS Games, 2 pts')"
            ]
          },
          "metadata": {
            "tags": []
          },
          "execution_count": 68
        },
        {
          "output_type": "display_data",
          "data": {
            "image/png": "[encoded data removed]",
            "text/plain": [
              "<Figure size 432x288 with 1 Axes>"
            ]
          },
          "metadata": {
            "tags": []
          }
        }
      ]
    },
    {
      "cell_type": "code",
      "metadata": {
        "id": "9LngEoXAA3qe",
        "colab_type": "code",
        "colab": {
          "base_uri": "https://localhost:8080/",
          "height": 88
        },
        "outputId": "aa055e23-b11f-484a-e8da-3b3a75b27c66"
      },
      "source": [
        "times_3sSAS = []\n",
        "\n",
        "# Loop to retrieve interarrival times between every shot for LAC\n",
        "sum = 0\n",
        "locs = \"\"\n",
        "for x in range(shots_3s_SAS.shape[0]):\n",
        "  # .iloc[x, 0] gets us row x for col 0 (SecLeft in our case)\n",
        "\n",
        "  # very start of quarter, interarrival time is 720 - next time\n",
        "  # CHANGE TO... shots_all_23s_TOR.iloc[x, 1] and [x+1, 1] checks for Q4 and Q1\n",
        "  # if x == 0 or shots_all_23s_TOR.iloc[x-1, 1] == 4 or shots_all_23s_TOR.iloc[x-1, 1] == 5 and shots_all_23s_TOR.iloc[x, 1] == 1\n",
        "  if (x == 0) or ( (shots_3s_SAS.iloc[x-1, 1] == 4 or shots_3s_SAS.iloc[x-1, 1] == 5) and shots_3s_SAS.iloc[x, 1] == 1):\n",
        "    sum += 1 # should add up to 82\n",
        "    locs += str(x) + ', '\n",
        "    time = 720 - shots_3s_SAS.iloc[x, 0] \n",
        "\n",
        "  # end of quarter time minus next shot time in new quarter \n",
        "  elif shots_3s_SAS.iloc[x-1, 0] < shots_3s_SAS.iloc[x, 0] and shots_3s_SAS.iloc[x, 1] == 5:\n",
        "    time = (300 + shots_3s_SAS.iloc[x-1, 0]) - shots_3s_SAS.iloc[x, 0]\n",
        "\n",
        "  elif shots_3s_SAS.iloc[x-1, 0] < shots_3s_SAS.iloc[x, 0]:\n",
        "    time = (720 + shots_3s_SAS.iloc[x-1, 0]) - shots_3s_SAS.iloc[x, 0]\n",
        "\n",
        "  # Do not record differences of 0 (for instance two back to back freethrows)\n",
        "  # elif shots_all_23s_LD4.iloc[x-1, 0] == shots_all_23s_LD4.iloc[x, 0]:\n",
        "  #  continue\n",
        "\n",
        "  else:\n",
        "    time = shots_3s_SAS.iloc[x-1, 0] - shots_3s_SAS.iloc[x, 0]\n",
        "  times_3sSAS.append(time)\n",
        "print(locs)\n",
        "print(sum)\n",
        "\n",
        "# Remove outliers to gain better visual of histograph\n",
        "times_3sSAS2 = []\n",
        "for time in times_3sSAS:\n",
        "  if time < 150:\n",
        "    times_3sSAS2.append(time)\n",
        "\n",
        "dict1 = {}\n",
        "for val in range(len(times_3sSAS2)):\n",
        "  time = times_3sSAS2[val]\n",
        "  dict1[time] = dict1.get(time, 0) + 1\n",
        "print(len(dict1.keys()))"
      ],
      "execution_count": null,
      "outputs": [
        {
          "output_type": "stream",
          "text": [
            "0, 44, 106, 151, 233, 305, 365, 408, 464, 529, 590, 635, 678, 744, 807, 868, 929, 983, 1030, 1098, 1203, 1259, 1310, 1363, 1413, 1463, 1526, 1567, 1639, 1703, 1761, 1815, 1880, 1947, 2016, 2083, 2144, 2207, 2264, 2329, 2409, 2485, 2537, 2587, 2642, 2690, 2741, 2798, 2850, 2905, 2968, 3018, 3082, 3131, 3176, 3236, 3290, 3330, 3374, 3426, 3481, 3548, 3614, 3692, 3759, 3826, 3876, 3923, 3983, 4035, 4083, 4147, 4208, 4270, 4330, 4411, 4465, 4515, 4559, 4601, 4662, 4710, 4769, 4843, \n",
            "84\n",
            "150\n"
          ],
          "name": "stdout"
        }
      ]
    },
    {
      "cell_type": "code",
      "metadata": {
        "id": "he2vSQ2UBJVo",
        "colab_type": "code",
        "colab": {
          "base_uri": "https://localhost:8080/",
          "height": 333
        },
        "outputId": "4ae6f59b-9eb8-43c0-c0af-f5a25808ce12"
      },
      "source": [
        "import math\n",
        "\n",
        "x_axis = times_3sSAS2\n",
        "plt.style.use('ggplot')\n",
        "fig, ax = plt.subplots()\n",
        "plt.hist(x_axis, bins= int(len(dict1.keys())), density=True, facecolor='#1161FF', cumulative=True) # '#FFD8C4' color of slide\n",
        "# plt.hist(x_axis, bins= int(math.sqrt(len(dict.keys()))))\n",
        "plt.xticks(np.arange(min(x_axis), max(x_axis)+1, 10.0))\n",
        "fig.patch.set_facecolor('#B7BDCA')\n",
        "ax.set_facecolor('#B7BDCA')\n",
        "\n",
        "plt.ylabel('Probability')\n",
        "plt.xlabel('InterArrival Times')\n",
        "plt.title('InterArrival Time vs. Frequency \\nfor ALL SAS Games, 3 pts')"
      ],
      "execution_count": null,
      "outputs": [
        {
          "output_type": "execute_result",
          "data": {
            "text/plain": [
              "Text(0.5, 1.0, 'InterArrival Time vs. Frequency \\nfor ALL SAS Games, 3 pts')"
            ]
          },
          "metadata": {
            "tags": []
          },
          "execution_count": 70
        },
        {
          "output_type": "display_data",
          "data": {
            "image/png": "[encoded data removed]",
            "text/plain": [
              "<Figure size 432x288 with 1 Axes>"
            ]
          },
          "metadata": {
            "tags": []
          }
        }
      ]
    },
    {
      "cell_type": "code",
      "metadata": {
        "id": "IwcaJmMprbP8",
        "colab_type": "code",
        "colab": {
          "base_uri": "https://localhost:8080/",
          "height": 34
        },
        "outputId": "a35aa7d0-bb4e-436e-e3a2-bc7d74260ee8"
      },
      "source": [
        "TOR_all = nba.loc[ (nba['HomeTeam'] == 'TOR') | (nba['AwayTeam'] == 'TOR') & (nba['GameType'] == 'regular')]\n",
        "TOR_all.shape\n",
        "\n",
        "games = 0\n",
        "for date in range(TOR_all.shape[0]):\n",
        "  if TOR_all.iloc[date-1, 3] != TOR_all.iloc[date, 3]:\n",
        "    games += 1\n",
        "print(games)"
      ],
      "execution_count": null,
      "outputs": [
        {
          "output_type": "stream",
          "text": [
            "95\n"
          ],
          "name": "stdout"
        }
      ]
    },
    {
      "cell_type": "code",
      "metadata": {
        "id": "dHQQbYsq2MXU",
        "colab_type": "code",
        "colab": {
          "base_uri": "https://localhost:8080/",
          "height": 979
        },
        "outputId": "f46dba2c-f9f7-4119-ea5b-5c569eafe5b0"
      },
      "source": [
        "# Display the rows ONLY containing freethrows, 2pts and 3pts (all shots) taken by Both Teams \n",
        "shots_all_TOR = TOR_all.loc[ (pd.isnull(TOR_all['ShotType']) == False) | (pd.isnull(TOR_all['FreeThrowOutcome']) == False),\n",
        "                      ['SecLeft', 'Quarter', 'ShotType', 'ShotOutcome', 'FreeThrowOutcome', 'HomePlay', 'HomeTeam', 'AwayTeam'] ] \n",
        "\n",
        "# Display the rows ONLY containing 2pts and 3pts taken by HomeTeam\n",
        "shots_all_23s_TOR = TOR_all.loc[ (pd.isnull(TOR_all['ShotType']) == False),\n",
        "                      ['SecLeft', 'Quarter', 'ShotType', 'ShotOutcome', 'HomePlay'] ] \n",
        "\n",
        "shots_all_23s_TOR.rename(columns={'HomePlay': 'Which Team?'}, inplace=True)\n",
        "\n",
        "# this for loop iterates through df and assigns a team to 'Which Team' column\n",
        "# using 'HomePlay' as an indicator and getting the value to be assigned from\n",
        "# either 'HomeTeam' or 'AwayTeam' hence shots_all_LD4.iloc[pos, 6/7]\n",
        "for pos in range(shots_all_23s_TOR.shape[0]):\n",
        "  if pd.isnull(shots_all_23s_TOR.iloc[pos, 4]) == False:\n",
        "    shots_all_23s_TOR.iloc[pos, 4] = shots_all_TOR.iloc[pos, 6]\n",
        "  else:\n",
        "    shots_all_23s_TOR.iloc[pos, 4] = shots_all_TOR.iloc[pos, 7]\n",
        "\n",
        "\n",
        "# Gather all 2pts made by HomeTeam and have it side by side with SecLeft \n",
        "shots_2s_TOR = shots_all_TOR.loc[ (pd.isnull(shots_all_TOR['ShotType']) == False) & (shots_all_TOR['ShotType'].str.contains('2-pt')),\n",
        "                         ['SecLeft', 'Quarter', 'ShotType', 'ShotOutcome', 'HomePlay'] ]\n",
        "\n",
        "\n",
        "shots_2s_TOR.rename(columns={'HomePlay': 'Which Team?'}, inplace=True)\n",
        "\n",
        "# this for loop iterates through df and assigns a team to 'Which Team' column\n",
        "# using 'HomePlay' as an indicator and getting the value to be assigned from\n",
        "# either 'HomeTeam' or 'AwayTeam' hence shots_all_LD4.iloc[pos, 6/7]\n",
        "for pos in range(shots_2s_TOR.shape[0]):\n",
        "  if pd.isnull(shots_2s_TOR.iloc[pos, 4]) == False:\n",
        "    shots_2s_TOR.iloc[pos, 4] = shots_all_TOR.iloc[pos, 6]\n",
        "  else:\n",
        "    shots_2s_TOR.iloc[pos, 4] = shots_all_TOR.iloc[pos, 7]\n",
        "\n",
        "# Gather all 3pts made by HomeTeam and have it side by side with SecLeft \n",
        "shots_3s_TOR = shots_all_TOR.loc[ (pd.isnull(shots_all_TOR['ShotType']) == False) & (shots_all_TOR['ShotType'].str.contains('3-pt')),\n",
        "                         ['SecLeft', 'Quarter','ShotType', 'ShotOutcome', 'HomePlay'] ]\n",
        "\n",
        "shots_3s_TOR.rename(columns={'HomePlay': 'Which Team?'}, inplace=True)\n",
        "\n",
        "# this for loop iterates through df and assigns a team to 'Which Team' column\n",
        "# using 'HomePlay' as an indicator and getting the value to be assigned from\n",
        "# either 'HomeTeam' or 'AwayTeam' hence shots_all_LD4.iloc[pos, 6/7]\n",
        "for pos in range(shots_3s_TOR.shape[0]):\n",
        "  if pd.isnull(shots_3s_TOR.iloc[pos, 4]) == False:\n",
        "    shots_3s_TOR.iloc[pos, 4] = shots_all_TOR.iloc[pos, 6]\n",
        "  else:\n",
        "    shots_3s_TOR.iloc[pos, 4] = shots_all_TOR.iloc[pos, 7]\n",
        "\n",
        "# Gather all 1pts made by HomeTeam and have it side by side with SecLeft \n",
        "shots_1s_TOR = shots_all_TOR.loc[pd.isnull(shots_all_TOR['FreeThrowOutcome']) == False, \n",
        "                               ['SecLeft', 'Quarter', 'FreeThrowOutcome', 'HomePlay'] ]\n",
        "\n",
        "shots_1s_TOR.rename(columns={'HomePlay': 'Which Team?'}, inplace=True)\n",
        "\n",
        "# this for loop iterates through df and assigns a team to 'Which Team' column\n",
        "# using 'HomePlay' as an indicator and getting the value to be assigned from\n",
        "# either 'HomeTeam' or 'AwayTeam' hence shots_all_LD4.iloc[pos, 6/7]\n",
        "for pos in range(shots_1s_TOR.shape[0]):\n",
        "  if pd.isnull(shots_1s_TOR.iloc[pos, 3]) == False:\n",
        "    shots_1s_TOR.iloc[pos, 3] = shots_all_TOR.iloc[pos, 6]\n",
        "  else:\n",
        "    shots_1s_TOR.iloc[pos, 3] = shots_all_TOR.iloc[pos, 7]\n",
        "\n",
        "\n",
        "shots_all_23s_TOR.head(30)\n",
        "# shots_3s_TOR.head(10)\n",
        "# shots_1s_TOR.head(10)\n",
        "\n",
        "# shots_all_23s_TOR.head(60) \n",
        "#shots_all_23s_TOR.shape[0]\n",
        "#shots_all_TOR.iloc[230:270]\n",
        "#shots_all_23s_TOR.iloc[2500#:2530]"
      ],
      "execution_count": null,
      "outputs": [
        {
          "output_type": "execute_result",
          "data": {
            "text/html": [
              "<div>\n",
              "<style scoped>\n",
              "    .dataframe tbody tr th:only-of-type {\n",
              "        vertical-align: middle;\n",
              "    }\n",
              "\n",
              "    .dataframe tbody tr th {\n",
              "        vertical-align: top;\n",
              "    }\n",
              "\n",
              "    .dataframe thead th {\n",
              "        text-align: right;\n",
              "    }\n",
              "</style>\n",
              "<table border=\"1\" class=\"dataframe\">\n",
              "  <thead>\n",
              "    <tr style=\"text-align: right;\">\n",
              "      <th></th>\n",
              "      <th>SecLeft</th>\n",
              "      <th>Quarter</th>\n",
              "      <th>ShotType</th>\n",
              "      <th>ShotOutcome</th>\n",
              "      <th>Which Team?</th>\n",
              "    </tr>\n",
              "  </thead>\n",
              "  <tbody>\n",
              "    <tr>\n",
              "      <th>5875</th>\n",
              "      <td>704</td>\n",
              "      <td>1</td>\n",
              "      <td>2-pt jump shot</td>\n",
              "      <td>miss</td>\n",
              "      <td>CLE</td>\n",
              "    </tr>\n",
              "    <tr>\n",
              "      <th>5877</th>\n",
              "      <td>684</td>\n",
              "      <td>1</td>\n",
              "      <td>2-pt jump shot</td>\n",
              "      <td>miss</td>\n",
              "      <td>TOR</td>\n",
              "    </tr>\n",
              "    <tr>\n",
              "      <th>5882</th>\n",
              "      <td>662</td>\n",
              "      <td>1</td>\n",
              "      <td>2-pt layup</td>\n",
              "      <td>make</td>\n",
              "      <td>TOR</td>\n",
              "    </tr>\n",
              "    <tr>\n",
              "      <th>5883</th>\n",
              "      <td>650</td>\n",
              "      <td>1</td>\n",
              "      <td>2-pt jump shot</td>\n",
              "      <td>miss</td>\n",
              "      <td>CLE</td>\n",
              "    </tr>\n",
              "    <tr>\n",
              "      <th>5886</th>\n",
              "      <td>637</td>\n",
              "      <td>1</td>\n",
              "      <td>3-pt jump shot</td>\n",
              "      <td>miss</td>\n",
              "      <td>CLE</td>\n",
              "    </tr>\n",
              "    <tr>\n",
              "      <th>5888</th>\n",
              "      <td>630</td>\n",
              "      <td>1</td>\n",
              "      <td>3-pt jump shot</td>\n",
              "      <td>miss</td>\n",
              "      <td>TOR</td>\n",
              "    </tr>\n",
              "    <tr>\n",
              "      <th>5890</th>\n",
              "      <td>607</td>\n",
              "      <td>1</td>\n",
              "      <td>3-pt jump shot</td>\n",
              "      <td>miss</td>\n",
              "      <td>CLE</td>\n",
              "    </tr>\n",
              "    <tr>\n",
              "      <th>5892</th>\n",
              "      <td>600</td>\n",
              "      <td>1</td>\n",
              "      <td>2-pt layup</td>\n",
              "      <td>make</td>\n",
              "      <td>CLE</td>\n",
              "    </tr>\n",
              "    <tr>\n",
              "      <th>5893</th>\n",
              "      <td>587</td>\n",
              "      <td>1</td>\n",
              "      <td>2-pt jump shot</td>\n",
              "      <td>miss</td>\n",
              "      <td>TOR</td>\n",
              "    </tr>\n",
              "    <tr>\n",
              "      <th>5895</th>\n",
              "      <td>581</td>\n",
              "      <td>1</td>\n",
              "      <td>2-pt layup</td>\n",
              "      <td>miss</td>\n",
              "      <td>TOR</td>\n",
              "    </tr>\n",
              "    <tr>\n",
              "      <th>5897</th>\n",
              "      <td>574</td>\n",
              "      <td>1</td>\n",
              "      <td>2-pt hook shot</td>\n",
              "      <td>make</td>\n",
              "      <td>CLE</td>\n",
              "    </tr>\n",
              "    <tr>\n",
              "      <th>5899</th>\n",
              "      <td>550</td>\n",
              "      <td>1</td>\n",
              "      <td>3-pt jump shot</td>\n",
              "      <td>make</td>\n",
              "      <td>TOR</td>\n",
              "    </tr>\n",
              "    <tr>\n",
              "      <th>5900</th>\n",
              "      <td>530</td>\n",
              "      <td>1</td>\n",
              "      <td>2-pt layup</td>\n",
              "      <td>miss</td>\n",
              "      <td>CLE</td>\n",
              "    </tr>\n",
              "    <tr>\n",
              "      <th>5902</th>\n",
              "      <td>526</td>\n",
              "      <td>1</td>\n",
              "      <td>2-pt jump shot</td>\n",
              "      <td>miss</td>\n",
              "      <td>CLE</td>\n",
              "    </tr>\n",
              "    <tr>\n",
              "      <th>5904</th>\n",
              "      <td>516</td>\n",
              "      <td>1</td>\n",
              "      <td>2-pt layup</td>\n",
              "      <td>miss</td>\n",
              "      <td>CLE</td>\n",
              "    </tr>\n",
              "    <tr>\n",
              "      <th>5906</th>\n",
              "      <td>511</td>\n",
              "      <td>1</td>\n",
              "      <td>2-pt jump shot</td>\n",
              "      <td>miss</td>\n",
              "      <td>TOR</td>\n",
              "    </tr>\n",
              "    <tr>\n",
              "      <th>5908</th>\n",
              "      <td>493</td>\n",
              "      <td>1</td>\n",
              "      <td>2-pt layup</td>\n",
              "      <td>miss</td>\n",
              "      <td>CLE</td>\n",
              "    </tr>\n",
              "    <tr>\n",
              "      <th>5910</th>\n",
              "      <td>490</td>\n",
              "      <td>1</td>\n",
              "      <td>2-pt layup</td>\n",
              "      <td>miss</td>\n",
              "      <td>CLE</td>\n",
              "    </tr>\n",
              "    <tr>\n",
              "      <th>5913</th>\n",
              "      <td>483</td>\n",
              "      <td>1</td>\n",
              "      <td>2-pt layup</td>\n",
              "      <td>make</td>\n",
              "      <td>TOR</td>\n",
              "    </tr>\n",
              "    <tr>\n",
              "      <th>5915</th>\n",
              "      <td>464</td>\n",
              "      <td>1</td>\n",
              "      <td>2-pt hook shot</td>\n",
              "      <td>make</td>\n",
              "      <td>TOR</td>\n",
              "    </tr>\n",
              "    <tr>\n",
              "      <th>5923</th>\n",
              "      <td>436</td>\n",
              "      <td>1</td>\n",
              "      <td>2-pt jump shot</td>\n",
              "      <td>make</td>\n",
              "      <td>TOR</td>\n",
              "    </tr>\n",
              "    <tr>\n",
              "      <th>5924</th>\n",
              "      <td>411</td>\n",
              "      <td>1</td>\n",
              "      <td>3-pt jump shot</td>\n",
              "      <td>make</td>\n",
              "      <td>CLE</td>\n",
              "    </tr>\n",
              "    <tr>\n",
              "      <th>5928</th>\n",
              "      <td>380</td>\n",
              "      <td>1</td>\n",
              "      <td>2-pt dunk</td>\n",
              "      <td>make</td>\n",
              "      <td>TOR</td>\n",
              "    </tr>\n",
              "    <tr>\n",
              "      <th>5929</th>\n",
              "      <td>362</td>\n",
              "      <td>1</td>\n",
              "      <td>2-pt jump shot</td>\n",
              "      <td>make</td>\n",
              "      <td>CLE</td>\n",
              "    </tr>\n",
              "    <tr>\n",
              "      <th>5931</th>\n",
              "      <td>333</td>\n",
              "      <td>1</td>\n",
              "      <td>2-pt layup</td>\n",
              "      <td>make</td>\n",
              "      <td>CLE</td>\n",
              "    </tr>\n",
              "    <tr>\n",
              "      <th>5932</th>\n",
              "      <td>319</td>\n",
              "      <td>1</td>\n",
              "      <td>3-pt jump shot</td>\n",
              "      <td>make</td>\n",
              "      <td>TOR</td>\n",
              "    </tr>\n",
              "    <tr>\n",
              "      <th>5933</th>\n",
              "      <td>303</td>\n",
              "      <td>1</td>\n",
              "      <td>2-pt hook shot</td>\n",
              "      <td>make</td>\n",
              "      <td>CLE</td>\n",
              "    </tr>\n",
              "    <tr>\n",
              "      <th>5940</th>\n",
              "      <td>284</td>\n",
              "      <td>1</td>\n",
              "      <td>2-pt jump shot</td>\n",
              "      <td>make</td>\n",
              "      <td>TOR</td>\n",
              "    </tr>\n",
              "    <tr>\n",
              "      <th>5941</th>\n",
              "      <td>274</td>\n",
              "      <td>1</td>\n",
              "      <td>2-pt layup</td>\n",
              "      <td>make</td>\n",
              "      <td>CLE</td>\n",
              "    </tr>\n",
              "    <tr>\n",
              "      <th>5942</th>\n",
              "      <td>256</td>\n",
              "      <td>1</td>\n",
              "      <td>2-pt jump shot</td>\n",
              "      <td>miss</td>\n",
              "      <td>TOR</td>\n",
              "    </tr>\n",
              "  </tbody>\n",
              "</table>\n",
              "</div>"
            ],
            "text/plain": [
              "      SecLeft  Quarter        ShotType ShotOutcome Which Team?\n",
              "5875      704        1  2-pt jump shot        miss         CLE\n",
              "5877      684        1  2-pt jump shot        miss         TOR\n",
              "5882      662        1      2-pt layup        make         TOR\n",
              "5883      650        1  2-pt jump shot        miss         CLE\n",
              "5886      637        1  3-pt jump shot        miss         CLE\n",
              "5888      630        1  3-pt jump shot        miss         TOR\n",
              "5890      607        1  3-pt jump shot        miss         CLE\n",
              "5892      600        1      2-pt layup        make         CLE\n",
              "5893      587        1  2-pt jump shot        miss         TOR\n",
              "5895      581        1      2-pt layup        miss         TOR\n",
              "5897      574        1  2-pt hook shot        make         CLE\n",
              "5899      550        1  3-pt jump shot        make         TOR\n",
              "5900      530        1      2-pt layup        miss         CLE\n",
              "5902      526        1  2-pt jump shot        miss         CLE\n",
              "5904      516        1      2-pt layup        miss         CLE\n",
              "5906      511        1  2-pt jump shot        miss         TOR\n",
              "5908      493        1      2-pt layup        miss         CLE\n",
              "5910      490        1      2-pt layup        miss         CLE\n",
              "5913      483        1      2-pt layup        make         TOR\n",
              "5915      464        1  2-pt hook shot        make         TOR\n",
              "5923      436        1  2-pt jump shot        make         TOR\n",
              "5924      411        1  3-pt jump shot        make         CLE\n",
              "5928      380        1       2-pt dunk        make         TOR\n",
              "5929      362        1  2-pt jump shot        make         CLE\n",
              "5931      333        1      2-pt layup        make         CLE\n",
              "5932      319        1  3-pt jump shot        make         TOR\n",
              "5933      303        1  2-pt hook shot        make         CLE\n",
              "5940      284        1  2-pt jump shot        make         TOR\n",
              "5941      274        1      2-pt layup        make         CLE\n",
              "5942      256        1  2-pt jump shot        miss         TOR"
            ]
          },
          "metadata": {
            "tags": []
          },
          "execution_count": 72
        }
      ]
    },
    {
      "cell_type": "code",
      "metadata": {
        "id": "jOetRPQN6nyS",
        "colab_type": "code",
        "colab": {
          "base_uri": "https://localhost:8080/",
          "height": 88
        },
        "outputId": "48f5e72d-7cdf-4793-8ef8-61a33971b253"
      },
      "source": [
        "timesTOR = []\n",
        "\n",
        "# Loop to retrieve interarrival times between every shot for LAC\n",
        "sum = 0\n",
        "locs = \"\"\n",
        "for x in range(shots_all_23s_TOR.shape[0]):\n",
        "  # .iloc[x, 0] gets us row x for col 0 (SecLeft in our case)\n",
        "\n",
        "  # very start of quarter, interarrival time is 720 - next time\n",
        "  # CHANGE TO... shots_all_23s_TOR.iloc[x, 1] and [x+1, 1] checks for Q4 and Q1\n",
        "  # if x == 0 or shots_all_23s_TOR.iloc[x-1, 1] == 4 or shots_all_23s_TOR.iloc[x-1, 1] == 5 and shots_all_23s_TOR.iloc[x, 1] == 1\n",
        "  if (x == 0) or ( (shots_all_23s_TOR.iloc[x-1, 1] == 4 or shots_all_23s_TOR.iloc[x-1, 1] == 5) and shots_all_23s_TOR.iloc[x, 1] == 1):\n",
        "    sum += 1 # should add up to 82\n",
        "    locs += str(x) + ', '\n",
        "    time = 720 - shots_all_23s_TOR.iloc[x, 0]\n",
        "\n",
        "  # end of quarter time minus next shot time in new quarter \n",
        "  elif shots_all_23s_TOR.iloc[x-1, 0] < shots_all_23s_TOR.iloc[x, 0] and shots_all_23s_TOR.iloc[x, 1] == 5:\n",
        "    time = (300 + shots_all_23s_TOR.iloc[x-1, 0]) - shots_all_23s_TOR.iloc[x, 0]\n",
        "\n",
        "  elif shots_all_23s_TOR.iloc[x-1, 0] < shots_all_23s_TOR.iloc[x, 0]:\n",
        "    time = (720 + shots_all_23s_TOR.iloc[x-1, 0]) - shots_all_23s_TOR.iloc[x, 0]\n",
        "\n",
        "  # Do not record differences of 0 (for instance two back to back freethrows)\n",
        "  # elif shots_all_23s_LD4.iloc[x-1, 0] == shots_all_23s_LD4.iloc[x, 0]:\n",
        "  #  continue\n",
        "\n",
        "  else:\n",
        "    time = shots_all_23s_TOR.iloc[x-1, 0] - shots_all_23s_TOR.iloc[x, 0]\n",
        "  timesTOR.append(time)\n",
        "  \n",
        "print(locs)\n",
        "print(sum)\n",
        "\n",
        "# Remove outliers to gain better visual of histograph\n",
        "timesTOR2 = []\n",
        "for time in timesTOR:\n",
        "  if time < 100:\n",
        "    timesTOR2.append(time)\n",
        "\n",
        "dict1 = {}\n",
        "for val in range(len(timesTOR2)):\n",
        "  time = timesTOR2[val]\n",
        "  dict1[time] = dict1.get(time, 0) + 1\n",
        "  \n",
        "print(len(dict1.keys()))"
      ],
      "execution_count": null,
      "outputs": [
        {
          "output_type": "stream",
          "text": [
            "0, 177, 365, 551, 729, 917, 1097, 1275, 1450, 1629, 1795, 1968, 2155, 2327, 2503, 2664, 2847, 3010, 3190, 3373, 3751, 3927, 4110, 4277, 4470, 4635, 4817, 5010, 5193, 5377, 5562, 5734, 5906, 6295, 6468, 6642, 6819, 7001, 7183, 7349, 7545, 7719, 7899, 8071, 8230, 8403, 8583, 8778, 8933, 9103, 9286, 9458, 9644, 9848, 10016, 10203, 10357, 10532, 10723, 10914, 11087, 11266, 11459, 11627, 11794, 11973, 12145, 12335, 12512, 12679, 12851, 13024, 13206, 13382, 13565, 13735, 13919, 14068, 14249, 14421, 14604, 14775, 14959, 15144, 15326, 15496, 15663, 15817, 15985, 16161, 16329, 16506, 16668, \n",
            "93\n",
            "79\n"
          ],
          "name": "stdout"
        }
      ]
    },
    {
      "cell_type": "code",
      "metadata": {
        "id": "2LIqi5wbLm2n",
        "colab_type": "code",
        "colab": {}
      },
      "source": [
        "TOR_23sdata = shots_all_23s_TOR\n",
        "                \n",
        "#TOR_23sdata.insert(2, 'Int.Arrival Time', timesTOR)\n",
        "#TOR_23sdata.to_csv('/content/drive/My Drive/Colab Notebooks/Research Data/TOR 23s Data.csv', index=False)\n",
        "#LD4_data.loc[:,['Int.Arrival Time']].to_csv('/content/drive/My Drive/Colab Notebooks/Research Data/Int. Times, LD4 Data.csv', index=False)            \n",
        "# TOR_23sdata.head(20)"
      ],
      "execution_count": null,
      "outputs": []
    },
    {
      "cell_type": "code",
      "metadata": {
        "id": "Fj9Nf1iBN6CI",
        "colab_type": "code",
        "colab": {
          "base_uri": "https://localhost:8080/",
          "height": 333
        },
        "outputId": "c23987af-61e3-48de-8fee-2eb8f1866290"
      },
      "source": [
        "import math\n",
        "\n",
        "x_axis = timesTOR2\n",
        "plt.style.use('ggplot')\n",
        "fig, ax = plt.subplots()\n",
        "plt.hist(x_axis, bins= int(len(dict1.keys())), density=True) # '#FFD8C4' color of slide\n",
        "# plt.hist(x_axis, bins= int(math.sqrt(len(dict.keys()))))\n",
        "plt.xticks(np.arange(min(x_axis), max(x_axis)+1, 10.0))\n",
        "plt.ylim((None, 0.09))\n",
        "fig.patch.set_facecolor('#B7BDCA')\n",
        "ax.set_facecolor('#B7BDCA')\n",
        "\n",
        "plt.ylabel('Probability')\n",
        "plt.xlabel('InterArrival Times')\n",
        "plt.title('InterArrival Time vs. Frequency \\nfor ALL TOR Games, 2 & 3 pts')"
      ],
      "execution_count": null,
      "outputs": [
        {
          "output_type": "execute_result",
          "data": {
            "text/plain": [
              "Text(0.5, 1.0, 'InterArrival Time vs. Frequency \\nfor ALL TOR Games, 2 & 3 pts')"
            ]
          },
          "metadata": {
            "tags": []
          },
          "execution_count": 109
        },
        {
          "output_type": "display_data",
          "data": {
            "image/png": "[encoded data removed]",
            "text/plain": [
              "<Figure size 432x288 with 1 Axes>"
            ]
          },
          "metadata": {
            "tags": []
          }
        }
      ]
    },
    {
      "cell_type": "code",
      "metadata": {
        "id": "vscXbvNcahKK",
        "colab_type": "code",
        "colab": {
          "base_uri": "https://localhost:8080/",
          "height": 88
        },
        "outputId": "c13a08b9-ca7a-4833-e5d7-321dcdd54a8f"
      },
      "source": [
        "times_2sTOR = []\n",
        "\n",
        "# Loop to retrieve interarrival times between every shot for LAC\n",
        "sum = 0\n",
        "locs = \"\"\n",
        "for x in range(shots_2s_TOR.shape[0]):\n",
        "  # .iloc[x, 0] gets us row x for col 0 (SecLeft in our case)\n",
        "\n",
        "  # very start of quarter, interarrival time is 720 - next time\n",
        "  # CHANGE TO... shots_all_23s_TOR.iloc[x, 1] and [x+1, 1] checks for Q4 and Q1\n",
        "  # if x == 0 or shots_all_23s_TOR.iloc[x-1, 1] == 4 or shots_all_23s_TOR.iloc[x-1, 1] == 5 and shots_all_23s_TOR.iloc[x, 1] == 1\n",
        "  if (x == 0) or ( (shots_2s_TOR.iloc[x-1, 1] == 4 or shots_2s_TOR.iloc[x-1, 1] == 5) and shots_2s_TOR.iloc[x, 1] == 1):\n",
        "    sum += 1 # should add up to 82\n",
        "    locs += str(x) + ', '\n",
        "    time = 720 - shots_2s_TOR.iloc[x, 0] \n",
        "\n",
        "  # end of quarter time minus next shot time in new quarter \n",
        "  elif shots_2s_TOR.iloc[x-1, 0] < shots_2s_TOR.iloc[x, 0] and shots_2s_TOR.iloc[x, 1] == 5:\n",
        "    time = (300 + shots_2s_TOR.iloc[x-1, 0]) - shots_2s_TOR.iloc[x, 0]\n",
        "\n",
        "  elif shots_2s_TOR.iloc[x-1, 0] < shots_2s_TOR.iloc[x, 0]:\n",
        "    time = (720 + shots_2s_TOR.iloc[x-1, 0]) - shots_2s_TOR.iloc[x, 0]\n",
        "\n",
        "  # Do not record differences of 0 (for instance two back to back freethrows)\n",
        "  # elif shots_all_23s_LD4.iloc[x-1, 0] == shots_all_23s_LD4.iloc[x, 0]:\n",
        "  #  continue\n",
        "\n",
        "  else:\n",
        "    time = shots_2s_TOR.iloc[x-1, 0] - shots_2s_TOR.iloc[x, 0]\n",
        "  times_2sTOR.append(time)\n",
        "print(locs)\n",
        "print(sum)\n",
        "\n",
        "# Remove outliers to gain better visual of histograph\n",
        "times_2sTOR2 = []\n",
        "for time in times_2sTOR:\n",
        "  if time < 100:\n",
        "    times_2sTOR2.append(time)\n",
        "\n",
        "dict1 = {}\n",
        "for val in range(len(times_2sTOR2)):\n",
        "  time = times_2sTOR2[val]\n",
        "  dict1[time] = dict1.get(time, 0) + 1\n",
        "print(len(dict1.keys()))"
      ],
      "execution_count": null,
      "outputs": [
        {
          "output_type": "stream",
          "text": [
            "0, 125, 253, 384, 482, 606, 722, 835, 953, 1082, 1181, 1299, 1416, 1535, 1639, 1736, 1860, 1955, 2069, 2207, 2423, 2530, 2648, 2739, 2864, 2966, 3066, 3194, 3310, 3429, 3552, 3660, 3781, 4031, 4150, 4259, 4377, 4505, 4615, 4720, 4844, 4952, 5072, 5187, 5291, 5399, 5507, 5612, 5703, 5808, 5938, 6051, 6169, 6297, 6417, 6529, 6621, 6734, 6854, 6975, 7098, 7225, 7333, 7432, 7524, 7624, 7731, 7842, 7949, 8042, 8156, 8254, 8372, 8476, 8592, 8695, 8820, 8908, 9006, 9110, 9236, 9337, 9454, 9568, 9689, 9801, 9896, 9993, 10091, 10189, 10298, 10407, 10510, \n",
            "93\n",
            "100\n"
          ],
          "name": "stdout"
        }
      ]
    },
    {
      "cell_type": "code",
      "metadata": {
        "id": "Yq-DCB4page6",
        "colab_type": "code",
        "colab": {
          "base_uri": "https://localhost:8080/",
          "height": 333
        },
        "outputId": "ec6788ff-590d-4273-de5f-49367f5c6e44"
      },
      "source": [
        "import math\n",
        "\n",
        "x_axis = times_2sTOR2\n",
        "plt.style.use('ggplot')\n",
        "fig, ax = plt.subplots()\n",
        "plt.hist(x_axis, bins= int(len(dict1.keys())), density=True)\n",
        "# plt.hist(x_axis, bins= int(math.sqrt(len(dict.keys()))))\n",
        "plt.xticks(np.arange(min(x_axis), max(x_axis)+1, 10.0))\n",
        "plt.ylim((None, 0.04))\n",
        "fig.patch.set_facecolor('#B7BDCA')\n",
        "ax.set_facecolor('#B7BDCA')\n",
        "\n",
        "plt.ylabel('Probability')\n",
        "plt.xlabel('InterArrival Times')\n",
        "plt.title('InterArrival Time vs. Frequency \\nfor ALL TOR Games, 2 pts')"
      ],
      "execution_count": null,
      "outputs": [
        {
          "output_type": "execute_result",
          "data": {
            "text/plain": [
              "Text(0.5, 1.0, 'InterArrival Time vs. Frequency \\nfor ALL TOR Games, 2 pts')"
            ]
          },
          "metadata": {
            "tags": []
          },
          "execution_count": 112
        },
        {
          "output_type": "display_data",
          "data": {
            "image/png": "[encoded data removed]",
            "text/plain": [
              "<Figure size 432x288 with 1 Axes>"
            ]
          },
          "metadata": {
            "tags": []
          }
        }
      ]
    },
    {
      "cell_type": "code",
      "metadata": {
        "id": "HTOx-0dSdDKt",
        "colab_type": "code",
        "colab": {
          "base_uri": "https://localhost:8080/",
          "height": 88
        },
        "outputId": "4ed27a8d-701b-4104-a788-af74de3e6b55"
      },
      "source": [
        "times_3sTOR = []\n",
        "\n",
        "# Loop to retrieve interarrival times between every shot for LAC\n",
        "sum = 0\n",
        "locs = \"\"\n",
        "for x in range(shots_3s_TOR.shape[0]):\n",
        "  # .iloc[x, 0] gets us row x for col 0 (SecLeft in our case)\n",
        "\n",
        "  # very start of quarter, interarrival time is 720 - next time\n",
        "  # CHANGE TO... shots_all_23s_TOR.iloc[x, 1] and [x+1, 1] checks for Q4 and Q1\n",
        "  # if x == 0 or shots_all_23s_TOR.iloc[x-1, 1] == 4 or shots_all_23s_TOR.iloc[x-1, 1] == 5 and shots_all_23s_TOR.iloc[x, 1] == 1\n",
        "  if (x == 0) or ( (shots_3s_TOR.iloc[x-1, 1] == 4 or shots_3s_TOR.iloc[x-1, 1] == 5) and shots_3s_TOR.iloc[x, 1] == 1):\n",
        "    sum += 1 # should add up to 82\n",
        "    locs += str(x) + ', '\n",
        "    time = 720 - shots_3s_TOR.iloc[x, 0] \n",
        "\n",
        "  # end of quarter time minus next shot time in new quarter \n",
        "  elif shots_3s_TOR.iloc[x-1, 0] < shots_3s_TOR.iloc[x, 0] and shots_3s_TOR.iloc[x, 1] == 5:\n",
        "    time = (300 + shots_3s_TOR.iloc[x-1, 0]) - shots_3s_TOR.iloc[x, 0]\n",
        "\n",
        "  elif shots_3s_TOR.iloc[x-1, 0] < shots_3s_TOR.iloc[x, 0]:\n",
        "    time = (720 + shots_3s_TOR.iloc[x-1, 0]) - shots_3s_TOR.iloc[x, 0]\n",
        "\n",
        "  # Do not record differences of 0 (for instance two back to back freethrows)\n",
        "  # elif shots_all_23s_LD4.iloc[x-1, 0] == shots_all_23s_LD4.iloc[x, 0]:\n",
        "  #  continue\n",
        "\n",
        "  else:\n",
        "    time = shots_3s_TOR.iloc[x-1, 0] - shots_3s_TOR.iloc[x, 0]\n",
        "  times_3sTOR.append(time)\n",
        "print(locs)\n",
        "print(sum)\n",
        "\n",
        "# Remove outliers to gain better visual of histograph\n",
        "times_3sTOR2 = []\n",
        "for time in times_3sTOR:\n",
        "  if time < 150:\n",
        "    times_3sTOR2.append(time)\n",
        "\n",
        "dict1 = {}\n",
        "for val in range(len(times_3sTOR2)):\n",
        "  time = times_3sTOR2[val]\n",
        "  dict1[time] = dict1.get(time, 0) + 1\n",
        "print(len(dict1.keys()))"
      ],
      "execution_count": null,
      "outputs": [
        {
          "output_type": "stream",
          "text": [
            "0, 52, 112, 167, 247, 311, 375, 440, 497, 547, 614, 669, 739, 792, 864, 928, 987, 1055, 1121, 1166, 1328, 1397, 1462, 1538, 1606, 1669, 1751, 1816, 1883, 1948, 2010, 2074, 2125, 2264, 2318, 2383, 2442, 2496, 2568, 2629, 2701, 2767, 2827, 2884, 2939, 3004, 3076, 3166, 3230, 3295, 3348, 3407, 3475, 3551, 3599, 3674, 3736, 3798, 3869, 3939, 3989, 4041, 4126, 4195, 4270, 4349, 4414, 4493, 4563, 4637, 4695, 4770, 4834, 4906, 4973, 5040, 5099, 5160, 5243, 5311, 5368, 5438, 5505, 5576, 5637, 5695, 5767, 5824, 5894, 5972, 6031, 6099, 6158, \n",
            "93\n",
            "149\n"
          ],
          "name": "stdout"
        }
      ]
    },
    {
      "cell_type": "code",
      "metadata": {
        "id": "E3Wy53lGdCoC",
        "colab_type": "code",
        "colab": {
          "base_uri": "https://localhost:8080/",
          "height": 333
        },
        "outputId": "564cd2bc-2acf-4a90-91c9-fbbd6efe4bcf"
      },
      "source": [
        "import math\n",
        "\n",
        "x_axis = times_3sTOR2\n",
        "plt.style.use('ggplot')\n",
        "fig, ax = plt.subplots()\n",
        "plt.hist(x_axis, bins= int(len(dict1.keys())), density=True)\n",
        "# plt.hist(x_axis, bins= int(math.sqrt(len(dict.keys()))))\n",
        "plt.xticks(np.arange(min(x_axis), max(x_axis)+1, 10.0))\n",
        "plt.ylim((None, 0.03))\n",
        "fig.patch.set_facecolor('#B7BDCA')\n",
        "ax.set_facecolor('#B7BDCA')\n",
        "\n",
        "plt.ylabel('Probability')\n",
        "plt.xlabel('InterArrival Times')\n",
        "plt.title('InterArrival Time vs. Frequency \\nfor ALL TOR Games, 3 pts')"
      ],
      "execution_count": null,
      "outputs": [
        {
          "output_type": "execute_result",
          "data": {
            "text/plain": [
              "Text(0.5, 1.0, 'InterArrival Time vs. Frequency \\nfor ALL TOR Games, 3 pts')"
            ]
          },
          "metadata": {
            "tags": []
          },
          "execution_count": 114
        },
        {
          "output_type": "display_data",
          "data": {
            "image/png": "[encoded data removed]",
            "text/plain": [
              "<Figure size 432x288 with 1 Axes>"
            ]
          },
          "metadata": {
            "tags": []
          }
        }
      ]
    },
    {
      "cell_type": "code",
      "metadata": {
        "id": "aX7JKMKuMFUF",
        "colab_type": "code",
        "colab": {}
      },
      "source": [
        "TOR_data = shots_all_23s_TOR\n",
        "                \n",
        "#TOR_data.insert(3, 'Int.Arrival Time', timesTOR)\n",
        "#TOR_data.to_csv('/content/drive/My Drive/Colab Notebooks/Research Data/TOR Data.csv', index=False)\n",
        "#TOR_data.loc[:,['Int.Arrival Time']].to_csv('/content/drive/My Drive/Colab Notebooks/Research Data/Int. Times, TOR Data.csv', index=False)            \n",
        "TOR_data.head(20)"
      ],
      "execution_count": null,
      "outputs": []
    },
    {
      "cell_type": "code",
      "metadata": {
        "id": "LsNIdGmgrgwc",
        "colab_type": "code",
        "colab": {}
      },
      "source": [
        "UTA_all = nba.loc[ (nba['HomeTeam'] == 'UTA') | (nba['AwayTeam'] == 'UTA') & (nba['GameType'] == 'regular')]\n",
        "UTA_all.shape"
      ],
      "execution_count": null,
      "outputs": []
    },
    {
      "cell_type": "code",
      "metadata": {
        "id": "iQ9zuM7Frn9S",
        "colab_type": "code",
        "colab": {}
      },
      "source": [
        "WAS_all = nba.loc[ (nba['HomeTeam'] == 'WAS') | (nba['AwayTeam'] == 'WAS') & (nba['GameType'] == 'regular')]\n",
        "WAS_all.shape"
      ],
      "execution_count": null,
      "outputs": []
    },
    {
      "cell_type": "code",
      "metadata": {
        "id": "ao29b7EJrr3E",
        "colab_type": "code",
        "colab": {}
      },
      "source": [
        ""
      ],
      "execution_count": null,
      "outputs": []
    }
  ]
}